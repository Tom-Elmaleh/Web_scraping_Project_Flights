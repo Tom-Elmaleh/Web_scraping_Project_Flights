{
 "cells": [
  {
   "cell_type": "code",
   "execution_count": 1,
   "id": "20fc9e68",
   "metadata": {},
   "outputs": [],
   "source": [
    "import pandas as pd"
   ]
  },
  {
   "cell_type": "code",
   "execution_count": 2,
   "id": "a11cb523",
   "metadata": {},
   "outputs": [
    {
     "name": "stdout",
     "output_type": "stream",
     "text": [
      "<class 'pandas.core.frame.DataFrame'>\n",
      "Int64Index: 1745 entries, 0 to 1744\n",
      "Data columns (total 7 columns):\n",
      " #   Column             Non-Null Count  Dtype \n",
      "---  ------             --------------  ----- \n",
      " 0   station_departure  1745 non-null   object\n",
      " 1   station_arrival    1745 non-null   object\n",
      " 2   hour_departure     1745 non-null   object\n",
      " 3   hour_arrival       1745 non-null   object\n",
      " 4   date_departure     1745 non-null   object\n",
      " 5   traject_lenght     1745 non-null   object\n",
      " 6   prix               1745 non-null   object\n",
      "dtypes: object(7)\n",
      "memory usage: 109.1+ KB\n"
     ]
    },
    {
     "data": {
      "text/plain": [
       "None"
      ]
     },
     "metadata": {},
     "output_type": "display_data"
    },
    {
     "name": "stdout",
     "output_type": "stream",
     "text": [
      "<class 'pandas.core.frame.DataFrame'>\n",
      "RangeIndex: 659 entries, 0 to 658\n",
      "Data columns (total 9 columns):\n",
      " #   Column             Non-Null Count  Dtype \n",
      "---  ------             --------------  ----- \n",
      " 0   carrier            659 non-null    object\n",
      " 1   Flight_id          659 non-null    object\n",
      " 2   departure_airport  659 non-null    object\n",
      " 3   arrival_airport    659 non-null    object\n",
      " 4   date               659 non-null    object\n",
      " 5   take_off_time      659 non-null    object\n",
      " 6   landing_time       659 non-null    object\n",
      " 7   flight_time        659 non-null    object\n",
      " 8   price              659 non-null    object\n",
      "dtypes: object(9)\n",
      "memory usage: 46.5+ KB\n"
     ]
    },
    {
     "data": {
      "text/plain": [
       "None"
      ]
     },
     "metadata": {},
     "output_type": "display_data"
    },
    {
     "data": {
      "text/html": [
       "<div>\n",
       "<style scoped>\n",
       "    .dataframe tbody tr th:only-of-type {\n",
       "        vertical-align: middle;\n",
       "    }\n",
       "\n",
       "    .dataframe tbody tr th {\n",
       "        vertical-align: top;\n",
       "    }\n",
       "\n",
       "    .dataframe thead th {\n",
       "        text-align: right;\n",
       "    }\n",
       "</style>\n",
       "<table border=\"1\" class=\"dataframe\">\n",
       "  <thead>\n",
       "    <tr style=\"text-align: right;\">\n",
       "      <th></th>\n",
       "      <th>station_departure</th>\n",
       "      <th>station_arrival</th>\n",
       "      <th>hour_departure</th>\n",
       "      <th>hour_arrival</th>\n",
       "      <th>date_departure</th>\n",
       "      <th>traject_lenght</th>\n",
       "      <th>prix</th>\n",
       "    </tr>\n",
       "  </thead>\n",
       "  <tbody>\n",
       "    <tr>\n",
       "      <th>0</th>\n",
       "      <td>Venezia S. Lucia</td>\n",
       "      <td>Napoli Centrale</td>\n",
       "      <td>06:26</td>\n",
       "      <td>11:48</td>\n",
       "      <td>2024-05-01</td>\n",
       "      <td>5h 22min</td>\n",
       "      <td>105,00€</td>\n",
       "    </tr>\n",
       "    <tr>\n",
       "      <th>1</th>\n",
       "      <td>Venezia S. Lucia</td>\n",
       "      <td>Napoli Centrale</td>\n",
       "      <td>07:26</td>\n",
       "      <td>12:48</td>\n",
       "      <td>2024-05-01</td>\n",
       "      <td>5h 22min</td>\n",
       "      <td>105,00€</td>\n",
       "    </tr>\n",
       "    <tr>\n",
       "      <th>2</th>\n",
       "      <td>Venezia Mestre</td>\n",
       "      <td>Napoli Centrale</td>\n",
       "      <td>08:40</td>\n",
       "      <td>14:03</td>\n",
       "      <td>2024-05-01</td>\n",
       "      <td>5h 23min</td>\n",
       "      <td>105,00€</td>\n",
       "    </tr>\n",
       "    <tr>\n",
       "      <th>3</th>\n",
       "      <td>Venezia S. Lucia</td>\n",
       "      <td>Napoli Centrale</td>\n",
       "      <td>10:26</td>\n",
       "      <td>15:48</td>\n",
       "      <td>2024-05-01</td>\n",
       "      <td>5h 22min</td>\n",
       "      <td>105,00€</td>\n",
       "    </tr>\n",
       "    <tr>\n",
       "      <th>4</th>\n",
       "      <td>Venezia S. Lucia</td>\n",
       "      <td>Napoli Afragola</td>\n",
       "      <td>12:26</td>\n",
       "      <td>17:36</td>\n",
       "      <td>2024-05-01</td>\n",
       "      <td>5h 10min</td>\n",
       "      <td>105,00€</td>\n",
       "    </tr>\n",
       "  </tbody>\n",
       "</table>\n",
       "</div>"
      ],
      "text/plain": [
       "  station_departure  station_arrival hour_departure hour_arrival  \\\n",
       "0  Venezia S. Lucia  Napoli Centrale          06:26        11:48   \n",
       "1  Venezia S. Lucia  Napoli Centrale          07:26        12:48   \n",
       "2    Venezia Mestre  Napoli Centrale          08:40        14:03   \n",
       "3  Venezia S. Lucia  Napoli Centrale          10:26        15:48   \n",
       "4  Venezia S. Lucia  Napoli Afragola          12:26        17:36   \n",
       "\n",
       "  date_departure traject_lenght     prix  \n",
       "0     2024-05-01       5h 22min  105,00€  \n",
       "1     2024-05-01       5h 22min  105,00€  \n",
       "2     2024-05-01       5h 23min  105,00€  \n",
       "3     2024-05-01       5h 22min  105,00€  \n",
       "4     2024-05-01       5h 10min  105,00€  "
      ]
     },
     "metadata": {},
     "output_type": "display_data"
    },
    {
     "data": {
      "text/html": [
       "<div>\n",
       "<style scoped>\n",
       "    .dataframe tbody tr th:only-of-type {\n",
       "        vertical-align: middle;\n",
       "    }\n",
       "\n",
       "    .dataframe tbody tr th {\n",
       "        vertical-align: top;\n",
       "    }\n",
       "\n",
       "    .dataframe thead th {\n",
       "        text-align: right;\n",
       "    }\n",
       "</style>\n",
       "<table border=\"1\" class=\"dataframe\">\n",
       "  <thead>\n",
       "    <tr style=\"text-align: right;\">\n",
       "      <th></th>\n",
       "      <th>carrier</th>\n",
       "      <th>Flight_id</th>\n",
       "      <th>departure_airport</th>\n",
       "      <th>arrival_airport</th>\n",
       "      <th>date</th>\n",
       "      <th>take_off_time</th>\n",
       "      <th>landing_time</th>\n",
       "      <th>flight_time</th>\n",
       "      <th>price</th>\n",
       "    </tr>\n",
       "  </thead>\n",
       "  <tbody>\n",
       "    <tr>\n",
       "      <th>0</th>\n",
       "      <td>Malta Air</td>\n",
       "      <td>FR 824</td>\n",
       "      <td>Venice M.Polo</td>\n",
       "      <td>Naples</td>\n",
       "      <td>2024-05-01</td>\n",
       "      <td>11:30</td>\n",
       "      <td>12:50</td>\n",
       "      <td>1:20</td>\n",
       "      <td>66,54</td>\n",
       "    </tr>\n",
       "    <tr>\n",
       "      <th>1</th>\n",
       "      <td>Malta Air</td>\n",
       "      <td>FR 868</td>\n",
       "      <td>Venice M.Polo</td>\n",
       "      <td>Naples</td>\n",
       "      <td>2024-05-01</td>\n",
       "      <td>15:40</td>\n",
       "      <td>17:00</td>\n",
       "      <td>1:20</td>\n",
       "      <td>42,89</td>\n",
       "    </tr>\n",
       "    <tr>\n",
       "      <th>2</th>\n",
       "      <td>Malta Air</td>\n",
       "      <td>FR 1553</td>\n",
       "      <td>Venice M.Polo</td>\n",
       "      <td>Naples</td>\n",
       "      <td>2024-05-01</td>\n",
       "      <td>19:35</td>\n",
       "      <td>20:55</td>\n",
       "      <td>1:20</td>\n",
       "      <td>49,16</td>\n",
       "    </tr>\n",
       "    <tr>\n",
       "      <th>3</th>\n",
       "      <td>Malta Air</td>\n",
       "      <td>FR 3653</td>\n",
       "      <td>Milan-Bergame</td>\n",
       "      <td>Bari</td>\n",
       "      <td>2024-05-01</td>\n",
       "      <td>11:05</td>\n",
       "      <td>12:40</td>\n",
       "      <td>1:35</td>\n",
       "      <td>45,46</td>\n",
       "    </tr>\n",
       "    <tr>\n",
       "      <th>4</th>\n",
       "      <td>Malta Air</td>\n",
       "      <td>FR 2770</td>\n",
       "      <td>Milan-Malpensa</td>\n",
       "      <td>Bari</td>\n",
       "      <td>2024-05-01</td>\n",
       "      <td>12:00</td>\n",
       "      <td>13:40</td>\n",
       "      <td>1:40</td>\n",
       "      <td>38,05</td>\n",
       "    </tr>\n",
       "  </tbody>\n",
       "</table>\n",
       "</div>"
      ],
      "text/plain": [
       "     carrier Flight_id departure_airport arrival_airport        date  \\\n",
       "0  Malta Air    FR 824     Venice M.Polo          Naples  2024-05-01   \n",
       "1  Malta Air    FR 868     Venice M.Polo          Naples  2024-05-01   \n",
       "2  Malta Air   FR 1553     Venice M.Polo          Naples  2024-05-01   \n",
       "3  Malta Air   FR 3653     Milan-Bergame            Bari  2024-05-01   \n",
       "4  Malta Air   FR 2770    Milan-Malpensa            Bari  2024-05-01   \n",
       "\n",
       "  take_off_time landing_time flight_time  price  \n",
       "0         11:30        12:50        1:20  66,54  \n",
       "1         15:40        17:00        1:20  42,89  \n",
       "2         19:35        20:55        1:20  49,16  \n",
       "3         11:05        12:40        1:35  45,46  \n",
       "4         12:00        13:40        1:40  38,05  "
      ]
     },
     "metadata": {},
     "output_type": "display_data"
    }
   ],
   "source": [
    "# Lecture des 2 dataframes et affichage des informations de chacun\n",
    "df1 = pd.read_csv(\"trenitalia_data.csv\",index_col=0)\n",
    "df2 = pd.read_csv(\"Ryanair_Italy_Flight_Data_full.csv\")\n",
    "\n",
    "# affichage des informations de chacun des 2 dataframes\n",
    "display(df1.info())\n",
    "display(df2.info())\n",
    "\n",
    "display(df1.head())\n",
    "display(df2.head())"
   ]
  },
  {
   "cell_type": "code",
   "execution_count": 3,
   "id": "c40999a4",
   "metadata": {},
   "outputs": [
    {
     "name": "stdout",
     "output_type": "stream",
     "text": [
      "Départ : ['Venezia S. Lucia', 'Venezia Mestre', 'Milano Centrale', 'Milano Porta Garibaldi', 'Milano Rogoredo', 'Roma Termini', 'Napoli Centrale', 'Napoli Afragola', 'Torino Porta Nuova'] \n",
      "\n",
      "Arrivée : ['Napoli Centrale', 'Napoli Afragola', 'Bari Centrale', 'Pescara Centrale', 'Torino Porta Nuova']\n"
     ]
    }
   ],
   "source": [
    "print(\"Départ :\", list(df1[\"station_departure\"].unique()),'\\n')\n",
    "print(\"Arrivée :\", list(df1[\"station_arrival\"].unique()))"
   ]
  },
  {
   "cell_type": "code",
   "execution_count": 4,
   "id": "2a3e150f",
   "metadata": {},
   "outputs": [
    {
     "name": "stdout",
     "output_type": "stream",
     "text": [
      "Départ : ['Venice M.Polo', 'Milan-Bergame', 'Milan-Malpensa', 'Rome-Fiumicino', '...'] \n",
      "\n",
      "Arrivée : ['Naples', 'Bari', 'Pescara', 'Palerme'] \n",
      "\n",
      "Value_counts departure \n",
      "\n",
      " Rome-Fiumicino    189\n",
      "Venice M.Polo     178\n",
      "Milan-Bergame     176\n",
      "Milan-Malpensa    109\n",
      "...                 7\n",
      "Name: departure_airport, dtype: int64\n"
     ]
    }
   ],
   "source": [
    "print(\"Départ :\",list(df2[\"departure_airport\"].unique()),\"\\n\")\n",
    "print(\"Arrivée :\",list(df2[\"arrival_airport\"].unique()),\"\\n\")\n",
    "print(\"Value_counts departure \\n\\n\",df2[\"departure_airport\"].value_counts())"
   ]
  },
  {
   "cell_type": "markdown",
   "id": "509b0ad3",
   "metadata": {},
   "source": [
    "### Modification sur le dataframe (types,données) sur df1\n",
    "Une partie des modifications sont destinées à faciliter la jointure avec df2"
   ]
  },
  {
   "cell_type": "code",
   "execution_count": 5,
   "id": "567decef",
   "metadata": {},
   "outputs": [],
   "source": [
    "# Modification du type des colonnes reliées au temps (départ, arrivée, date)\n",
    "df1['hour_departure'] = pd.to_datetime(df1['hour_departure'], format='%H:%M').dt.time\n",
    "df1['hour_arrival'] = pd.to_datetime(df1['hour_arrival'], format='%H:%M').dt.time\n",
    "df1['date_departure'] = pd.to_datetime(df1['date_departure']).dt.date"
   ]
  },
  {
   "cell_type": "code",
   "execution_count": 6,
   "id": "08ff0596",
   "metadata": {},
   "outputs": [],
   "source": [
    "# On transforme traject_lenght(durée du trajet) en float exprimé en heure (ex : 1h30 -> 1.5h)\n",
    "df1['traject_lenght'] = df1['traject_lenght'].str.replace('h ', ':').str.replace('min', ':00')\n",
    "df1['traject_lenght'] = pd.to_timedelta(df1['traject_lenght']).dt.total_seconds() / 3600"
   ]
  },
  {
   "cell_type": "code",
   "execution_count": 7,
   "id": "c68240cb",
   "metadata": {},
   "outputs": [
    {
     "name": "stdout",
     "output_type": "stream",
     "text": [
      "['Venezia', 'Milano', 'Roma', 'Napoli', 'Torino'] \n",
      "\n",
      "['Napoli', 'Bari', 'Pescara', 'Torino'] \n",
      "\n"
     ]
    }
   ],
   "source": [
    "# On simplifie la localisation des départs/arrivées pour les trains\n",
    "def simply_location(location):\n",
    "    return location.split()[0]\n",
    "\n",
    "df1['station_departure'] = df1['station_departure'].apply(simply_location)\n",
    "df1['station_arrival'] = df1['station_arrival'].apply(simply_location)\n",
    "print(list(df1[\"station_departure\"].unique()),\"\\n\")\n",
    "print(list(df1[\"station_arrival\"].unique()),\"\\n\")"
   ]
  },
  {
   "cell_type": "code",
   "execution_count": 8,
   "id": "d985beaf",
   "metadata": {},
   "outputs": [],
   "source": [
    "# station_departure modification\n",
    "df1[\"station_departure\"].replace(['Venezia', 'Milano','Roma', 'Napoli', 'Torino'],\n",
    "                                  [\"Venice\",\"Milan\",'Rome','Naples','Turin'],inplace=True)"
   ]
  },
  {
   "cell_type": "code",
   "execution_count": 9,
   "id": "fa664f7c",
   "metadata": {},
   "outputs": [],
   "source": [
    "# station_arrival modification\n",
    "df1[\"station_arrival\"].replace(['Napoli','Torino'],[\"Naples\",'Turin'],inplace=True)"
   ]
  },
  {
   "cell_type": "code",
   "execution_count": 10,
   "id": "f2ab6cec",
   "metadata": {},
   "outputs": [],
   "source": [
    "# On crée une variable qui combine le départ et l'arrivée\n",
    "df1['travel'] = df1['station_departure'] + '-' + df1['station_arrival']"
   ]
  },
  {
   "cell_type": "code",
   "execution_count": 11,
   "id": "e52b768d",
   "metadata": {},
   "outputs": [],
   "source": [
    "# On met le prix en float\n",
    "df1[\"prix\"] = df1[\"prix\"].str[:-1].str.replace(\",\", \".\").astype(float)"
   ]
  },
  {
   "cell_type": "code",
   "execution_count": 12,
   "id": "7f7434bc",
   "metadata": {},
   "outputs": [],
   "source": [
    "df1.columns = ['departure_location','arrival_location','departure_time','arrival_time','date','travel_duration','price','travel']"
   ]
  },
  {
   "cell_type": "code",
   "execution_count": 13,
   "id": "28e7ce0f",
   "metadata": {},
   "outputs": [],
   "source": [
    "# Colonne pour indiquer le moyen de déplacement\n",
    "df1['travel_mean'] = 'train'"
   ]
  },
  {
   "cell_type": "code",
   "execution_count": 14,
   "id": "2c7ee2d6",
   "metadata": {},
   "outputs": [
    {
     "data": {
      "text/html": [
       "<div>\n",
       "<style scoped>\n",
       "    .dataframe tbody tr th:only-of-type {\n",
       "        vertical-align: middle;\n",
       "    }\n",
       "\n",
       "    .dataframe tbody tr th {\n",
       "        vertical-align: top;\n",
       "    }\n",
       "\n",
       "    .dataframe thead th {\n",
       "        text-align: right;\n",
       "    }\n",
       "</style>\n",
       "<table border=\"1\" class=\"dataframe\">\n",
       "  <thead>\n",
       "    <tr style=\"text-align: right;\">\n",
       "      <th></th>\n",
       "      <th>departure_location</th>\n",
       "      <th>arrival_location</th>\n",
       "      <th>departure_time</th>\n",
       "      <th>arrival_time</th>\n",
       "      <th>date</th>\n",
       "      <th>travel_duration</th>\n",
       "      <th>price</th>\n",
       "      <th>travel</th>\n",
       "      <th>travel_mean</th>\n",
       "    </tr>\n",
       "  </thead>\n",
       "  <tbody>\n",
       "    <tr>\n",
       "      <th>0</th>\n",
       "      <td>Venice</td>\n",
       "      <td>Naples</td>\n",
       "      <td>06:26:00</td>\n",
       "      <td>11:48:00</td>\n",
       "      <td>2024-05-01</td>\n",
       "      <td>5.366667</td>\n",
       "      <td>105.0</td>\n",
       "      <td>Venice-Naples</td>\n",
       "      <td>train</td>\n",
       "    </tr>\n",
       "  </tbody>\n",
       "</table>\n",
       "</div>"
      ],
      "text/plain": [
       "  departure_location arrival_location departure_time arrival_time        date  \\\n",
       "0             Venice           Naples       06:26:00     11:48:00  2024-05-01   \n",
       "\n",
       "   travel_duration  price         travel travel_mean  \n",
       "0         5.366667  105.0  Venice-Naples       train  "
      ]
     },
     "execution_count": 14,
     "metadata": {},
     "output_type": "execute_result"
    }
   ],
   "source": [
    "df1.head(1)"
   ]
  },
  {
   "cell_type": "markdown",
   "id": "4261a278",
   "metadata": {},
   "source": [
    "### Modification des types pour df2"
   ]
  },
  {
   "cell_type": "code",
   "execution_count": 15,
   "id": "22fb2f56",
   "metadata": {},
   "outputs": [],
   "source": [
    "# supprimer carrier et flight_id (pas présent df1)\n",
    "df2 = df2.drop(['carrier','Flight_id'],axis=1)"
   ]
  },
  {
   "cell_type": "code",
   "execution_count": 16,
   "id": "bd90f6f3",
   "metadata": {},
   "outputs": [
    {
     "data": {
      "text/plain": [
       "array(['66,54', '42,89', '49,16', '45,46', '38,05', '39,44', '31,89',\n",
       "       '34,09', '37,17', '27,49', '40,69', '36,29', '99,13', '39,89',\n",
       "       '54,20', '39,59', '58,29', '76,36', '32,44', 'Tarif Basic',\n",
       "       '41,31', '53,89', '147,39', '108,89', '139,69', '46,19', '53,05',\n",
       "       '61,09', '51,76', '63,79', '52,35', '45,09', '72,59', '79,19',\n",
       "       '53,64', '72,30', '32,99', '74,79', '63,05', '52,95', '113,30',\n",
       "       '72,70', '37,39', '37,47', '42,54', '45,96', '44,98', '77,46',\n",
       "       '59,39', '54,99', '37,61', '32,03', '46,44', '38,49', '44,19',\n",
       "       '43,66', '73,72', '73,02', '52,49', '52,12', '62,69', '49,49',\n",
       "       '102,29', '62,40', '80,29', '47,06', '35,19', '62,59', '40,10',\n",
       "       '33,54', '53,45', '47,29', '54,66', '64,15', '74,82', '46,56',\n",
       "       '46,08', '36,74', '53,56', '40,89', '37,88', '67,23', '39,00',\n",
       "       '46,92', '44,70', '97,38', '43,14', '32,86', '50,20', '52,79',\n",
       "       '65,86', '84,69'], dtype=object)"
      ]
     },
     "execution_count": 16,
     "metadata": {},
     "output_type": "execute_result"
    }
   ],
   "source": [
    "df2[\"price\"].unique()"
   ]
  },
  {
   "cell_type": "code",
   "execution_count": 17,
   "id": "ec8c3409",
   "metadata": {},
   "outputs": [],
   "source": [
    "# Gestion des prix non définis et conversion du prix en float\n",
    "df2 = df2[df2[\"price\"] !=\"Tarif Basic\"]\n",
    "df2.loc[:, \"price\"] = df2[\"price\"].str.replace(\",\", \".\").astype(float)"
   ]
  },
  {
   "cell_type": "code",
   "execution_count": 18,
   "id": "fdd59013",
   "metadata": {},
   "outputs": [],
   "source": [
    "# Modification du types des variables reliées au temps\n",
    "df2.loc[:,'landing_time'] = pd.to_datetime(df2['landing_time'], format='%H:%M').dt.time\n",
    "df2.loc[:,'take_off_time'] = pd.to_datetime(df2['take_off_time'], format='%H:%M').dt.time\n",
    "df2.loc[:,'date'] = pd.to_datetime(df2['date']).dt.date\n",
    "\n",
    "# Transformation de flight_time en float \n",
    "df2.loc[:,'flight_time'] = pd.to_timedelta(df2['flight_time'] + ':00').dt.total_seconds() / 3600"
   ]
  },
  {
   "cell_type": "code",
   "execution_count": 19,
   "id": "8867d026",
   "metadata": {},
   "outputs": [
    {
     "name": "stdout",
     "output_type": "stream",
     "text": [
      "['Venice M.Polo', 'Milan-Bergame', 'Milan-Malpensa', 'Rome-Fiumicino', '...']\n",
      "['Naples', 'Bari', 'Pescara', 'Palerme']\n",
      "Value_counts departure \n",
      "\n",
      " Rome-Fiumicino    189\n",
      "Venice M.Polo     178\n",
      "Milan-Bergame     175\n",
      "Milan-Malpensa    109\n",
      "...                 7\n",
      "Name: departure_airport, dtype: int64\n"
     ]
    }
   ],
   "source": [
    "print(list(df2[\"departure_airport\"].unique()))\n",
    "print(list(df2[\"arrival_airport\"].unique()))\n",
    "print(\"Value_counts departure \\n\\n\",df2[\"departure_airport\"].value_counts())"
   ]
  },
  {
   "cell_type": "code",
   "execution_count": 20,
   "id": "3b9a2836",
   "metadata": {},
   "outputs": [],
   "source": [
    "# Suppression des départs d'aréoport non définis (pas de localisation)\n",
    "df2 = df2.loc[df2[\"departure_airport\"] != '...']"
   ]
  },
  {
   "cell_type": "code",
   "execution_count": 21,
   "id": "72101706",
   "metadata": {},
   "outputs": [],
   "source": [
    "# Changement nom des départ/\n",
    "location_dict = {'Rome-Fiumicino': 'Rome', 'Venice M.Polo': 'Venice','Milan-Bergame':'Milan','Milan-Malpensa':'Milan'}\n",
    "df2.loc[:,'departure_airport'] = df2['departure_airport'].map(location_dict)\n",
    "# Changement nom des arrivées\n",
    "location_dict = {'Palerme':'Palermo'}\n",
    "df2['arrival_airport'] = df2['arrival_airport'].replace(location_dict)"
   ]
  },
  {
   "cell_type": "code",
   "execution_count": 22,
   "id": "847c5afb",
   "metadata": {},
   "outputs": [],
   "source": [
    "df2['travel'] = df2['departure_airport'] + '-' + df2['arrival_airport']"
   ]
  },
  {
   "cell_type": "code",
   "execution_count": 23,
   "id": "8bb4732a",
   "metadata": {},
   "outputs": [],
   "source": [
    "df2.columns = ['departure_location','arrival_location','date','departure_time','arrival_time','travel_duration','price','travel']"
   ]
  },
  {
   "cell_type": "code",
   "execution_count": 24,
   "id": "49cd7354",
   "metadata": {},
   "outputs": [],
   "source": [
    "df2['travel_mean'] = 'plane'"
   ]
  },
  {
   "cell_type": "code",
   "execution_count": 25,
   "id": "87a4c909",
   "metadata": {},
   "outputs": [
    {
     "data": {
      "text/html": [
       "<div>\n",
       "<style scoped>\n",
       "    .dataframe tbody tr th:only-of-type {\n",
       "        vertical-align: middle;\n",
       "    }\n",
       "\n",
       "    .dataframe tbody tr th {\n",
       "        vertical-align: top;\n",
       "    }\n",
       "\n",
       "    .dataframe thead th {\n",
       "        text-align: right;\n",
       "    }\n",
       "</style>\n",
       "<table border=\"1\" class=\"dataframe\">\n",
       "  <thead>\n",
       "    <tr style=\"text-align: right;\">\n",
       "      <th></th>\n",
       "      <th>departure_location</th>\n",
       "      <th>arrival_location</th>\n",
       "      <th>date</th>\n",
       "      <th>departure_time</th>\n",
       "      <th>arrival_time</th>\n",
       "      <th>travel_duration</th>\n",
       "      <th>price</th>\n",
       "      <th>travel</th>\n",
       "      <th>travel_mean</th>\n",
       "    </tr>\n",
       "  </thead>\n",
       "  <tbody>\n",
       "    <tr>\n",
       "      <th>0</th>\n",
       "      <td>Venice</td>\n",
       "      <td>Naples</td>\n",
       "      <td>2024-05-01</td>\n",
       "      <td>11:30:00</td>\n",
       "      <td>12:50:00</td>\n",
       "      <td>1.333333</td>\n",
       "      <td>66.54</td>\n",
       "      <td>Venice-Naples</td>\n",
       "      <td>plane</td>\n",
       "    </tr>\n",
       "  </tbody>\n",
       "</table>\n",
       "</div>"
      ],
      "text/plain": [
       "  departure_location arrival_location        date departure_time arrival_time  \\\n",
       "0             Venice           Naples  2024-05-01       11:30:00     12:50:00   \n",
       "\n",
       "   travel_duration  price         travel travel_mean  \n",
       "0         1.333333  66.54  Venice-Naples       plane  "
      ]
     },
     "execution_count": 25,
     "metadata": {},
     "output_type": "execute_result"
    }
   ],
   "source": [
    "df2.head(1)"
   ]
  },
  {
   "cell_type": "markdown",
   "id": "227af114",
   "metadata": {},
   "source": [
    "#### Jointure des 2 dataframes df1 et df2 "
   ]
  },
  {
   "cell_type": "code",
   "execution_count": 26,
   "id": "c484e93f",
   "metadata": {},
   "outputs": [
    {
     "data": {
      "text/plain": [
       "{'Milan-Bari',\n",
       " 'Milan-Naples',\n",
       " 'Milan-Pescara',\n",
       " 'Rome-Bari',\n",
       " 'Venice-Bari',\n",
       " 'Venice-Naples'}"
      ]
     },
     "execution_count": 26,
     "metadata": {},
     "output_type": "execute_result"
    }
   ],
   "source": [
    "set(df1['travel']).intersection(df2['travel'])"
   ]
  },
  {
   "cell_type": "code",
   "execution_count": 27,
   "id": "7dfd1203",
   "metadata": {},
   "outputs": [
    {
     "name": "stdout",
     "output_type": "stream",
     "text": [
      "Common trips {'Milan-Bari', 'Venice-Naples', 'Venice-Bari', 'Milan-Naples', 'Rome-Bari', 'Milan-Pescara'}\n"
     ]
    }
   ],
   "source": [
    "# Récupération des trajets en communs sur les 2 datasets\n",
    "common_trips = set(df1['travel']).intersection(df2['travel'])\n",
    "print(\"Common trips\",common_trips)\n",
    "\n",
    "# Filtrage des dataframes pour garder les lignes uniquement avec common_trips\n",
    "df1 = df1[df1['travel'].isin(common_trips)]\n",
    "df2 = df2[df2['travel'].isin(common_trips)]"
   ]
  },
  {
   "cell_type": "code",
   "execution_count": 28,
   "id": "2cce48de",
   "metadata": {},
   "outputs": [],
   "source": [
    "df = pd.concat([df1, df2])"
   ]
  },
  {
   "cell_type": "code",
   "execution_count": 29,
   "id": "50e6ea8a",
   "metadata": {},
   "outputs": [
    {
     "data": {
      "text/plain": [
       "train    1579\n",
       "plane     500\n",
       "Name: travel_mean, dtype: int64"
      ]
     },
     "execution_count": 29,
     "metadata": {},
     "output_type": "execute_result"
    }
   ],
   "source": [
    "df[\"travel_mean\"].value_counts()"
   ]
  },
  {
   "cell_type": "markdown",
   "id": "36e531af",
   "metadata": {},
   "source": [
    "### Calcul de l'empreinte carbone pour les trains"
   ]
  },
  {
   "cell_type": "code",
   "execution_count": 30,
   "id": "e796a902",
   "metadata": {},
   "outputs": [],
   "source": [
    "destinations = ['Venice-Naples', 'Venice-Bari', 'Milan-Bari', 'Milan-Naples','Milan-Pescara', 'Rome-Bari']\n",
    "vals_train = [1,2,3.5,2.5,2,2]\n",
    "\n",
    "df[\"carbon_footprint\"] = 0\n",
    "\n",
    "for i in range(len(destinations)):\n",
    "    filt = (df['travel'] == destinations[i]) & (df['travel_mean']=='train')\n",
    "    df.loc[filt, 'carbon_footprint'] = vals_train[i]"
   ]
  },
  {
   "cell_type": "markdown",
   "id": "ff025d60",
   "metadata": {},
   "source": [
    "### Calcul de l'empreinte carbone pour les avions"
   ]
  },
  {
   "cell_type": "code",
   "execution_count": 31,
   "id": "822e9d70",
   "metadata": {},
   "outputs": [],
   "source": [
    "vals_avions = [191,202,233,233,186,166]\n",
    "for i in range(len(destinations)):\n",
    "    filt = (df['travel'] == destinations[i]) & (df['travel_mean']=='plane')\n",
    "    df.loc[filt, 'carbon_footprint'] = vals_avions[i]"
   ]
  },
  {
   "cell_type": "markdown",
   "id": "0c44483b",
   "metadata": {},
   "source": [
    "### Exportation du dataframe"
   ]
  },
  {
   "cell_type": "code",
   "execution_count": 32,
   "id": "d4cb0199",
   "metadata": {},
   "outputs": [],
   "source": [
    "df.to_csv(\"common_travels_data.csv\")"
   ]
  }
 ],
 "metadata": {
  "kernelspec": {
   "display_name": "Python 3 (ipykernel)",
   "language": "python",
   "name": "python3"
  },
  "language_info": {
   "codemirror_mode": {
    "name": "ipython",
    "version": 3
   },
   "file_extension": ".py",
   "mimetype": "text/x-python",
   "name": "python",
   "nbconvert_exporter": "python",
   "pygments_lexer": "ipython3",
   "version": "3.9.7"
  }
 },
 "nbformat": 4,
 "nbformat_minor": 5
}
