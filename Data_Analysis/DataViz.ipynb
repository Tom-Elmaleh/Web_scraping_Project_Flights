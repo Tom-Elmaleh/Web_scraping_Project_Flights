{
 "cells": [
  {
   "cell_type": "code",
   "execution_count": 1,
   "id": "7d48715d",
   "metadata": {},
   "outputs": [],
   "source": [
    "import pandas as pd\n",
    "import plotly.express as px"
   ]
  },
  {
   "cell_type": "code",
   "execution_count": 2,
   "id": "034021b1",
   "metadata": {},
   "outputs": [
    {
     "data": {
      "text/html": [
       "<div>\n",
       "<style scoped>\n",
       "    .dataframe tbody tr th:only-of-type {\n",
       "        vertical-align: middle;\n",
       "    }\n",
       "\n",
       "    .dataframe tbody tr th {\n",
       "        vertical-align: top;\n",
       "    }\n",
       "\n",
       "    .dataframe thead th {\n",
       "        text-align: right;\n",
       "    }\n",
       "</style>\n",
       "<table border=\"1\" class=\"dataframe\">\n",
       "  <thead>\n",
       "    <tr style=\"text-align: right;\">\n",
       "      <th></th>\n",
       "      <th>departure_location</th>\n",
       "      <th>arrival_location</th>\n",
       "      <th>departure_time</th>\n",
       "      <th>arrival_time</th>\n",
       "      <th>date</th>\n",
       "      <th>travel_duration</th>\n",
       "      <th>price</th>\n",
       "      <th>travel</th>\n",
       "      <th>travel_mean</th>\n",
       "    </tr>\n",
       "  </thead>\n",
       "  <tbody>\n",
       "    <tr>\n",
       "      <th>0</th>\n",
       "      <td>Venice</td>\n",
       "      <td>Naples</td>\n",
       "      <td>06:26:00</td>\n",
       "      <td>11:48:00</td>\n",
       "      <td>2024-05-01</td>\n",
       "      <td>5.366667</td>\n",
       "      <td>105.0</td>\n",
       "      <td>Venice-Naples</td>\n",
       "      <td>train</td>\n",
       "    </tr>\n",
       "    <tr>\n",
       "      <th>1</th>\n",
       "      <td>Venice</td>\n",
       "      <td>Naples</td>\n",
       "      <td>07:26:00</td>\n",
       "      <td>12:48:00</td>\n",
       "      <td>2024-05-01</td>\n",
       "      <td>5.366667</td>\n",
       "      <td>105.0</td>\n",
       "      <td>Venice-Naples</td>\n",
       "      <td>train</td>\n",
       "    </tr>\n",
       "    <tr>\n",
       "      <th>2</th>\n",
       "      <td>Venice</td>\n",
       "      <td>Naples</td>\n",
       "      <td>08:40:00</td>\n",
       "      <td>14:03:00</td>\n",
       "      <td>2024-05-01</td>\n",
       "      <td>5.383333</td>\n",
       "      <td>105.0</td>\n",
       "      <td>Venice-Naples</td>\n",
       "      <td>train</td>\n",
       "    </tr>\n",
       "    <tr>\n",
       "      <th>3</th>\n",
       "      <td>Venice</td>\n",
       "      <td>Naples</td>\n",
       "      <td>10:26:00</td>\n",
       "      <td>15:48:00</td>\n",
       "      <td>2024-05-01</td>\n",
       "      <td>5.366667</td>\n",
       "      <td>105.0</td>\n",
       "      <td>Venice-Naples</td>\n",
       "      <td>train</td>\n",
       "    </tr>\n",
       "    <tr>\n",
       "      <th>4</th>\n",
       "      <td>Venice</td>\n",
       "      <td>Naples</td>\n",
       "      <td>12:26:00</td>\n",
       "      <td>17:36:00</td>\n",
       "      <td>2024-05-01</td>\n",
       "      <td>5.166667</td>\n",
       "      <td>105.0</td>\n",
       "      <td>Venice-Naples</td>\n",
       "      <td>train</td>\n",
       "    </tr>\n",
       "  </tbody>\n",
       "</table>\n",
       "</div>"
      ],
      "text/plain": [
       "  departure_location arrival_location departure_time arrival_time        date  \\\n",
       "0             Venice           Naples       06:26:00     11:48:00  2024-05-01   \n",
       "1             Venice           Naples       07:26:00     12:48:00  2024-05-01   \n",
       "2             Venice           Naples       08:40:00     14:03:00  2024-05-01   \n",
       "3             Venice           Naples       10:26:00     15:48:00  2024-05-01   \n",
       "4             Venice           Naples       12:26:00     17:36:00  2024-05-01   \n",
       "\n",
       "   travel_duration  price         travel travel_mean  \n",
       "0         5.366667  105.0  Venice-Naples       train  \n",
       "1         5.366667  105.0  Venice-Naples       train  \n",
       "2         5.383333  105.0  Venice-Naples       train  \n",
       "3         5.366667  105.0  Venice-Naples       train  \n",
       "4         5.166667  105.0  Venice-Naples       train  "
      ]
     },
     "execution_count": 2,
     "metadata": {},
     "output_type": "execute_result"
    }
   ],
   "source": [
    "df = pd.read_csv(\"common_travels_data.csv\",index_col=0)\n",
    "df.head()"
   ]
  },
  {
   "cell_type": "markdown",
   "id": "3278f81b",
   "metadata": {},
   "source": [
    "### Calcul de l'empreinte carbone pour les trains"
   ]
  },
  {
   "cell_type": "code",
   "execution_count": 7,
   "id": "a01ca5a8",
   "metadata": {},
   "outputs": [],
   "source": [
    "destinations = ['Venice-Naples', 'Venice-Bari', 'Milan-Bari', 'Milan-Naples','Milan-Pescara', 'Rome-Bari']\n",
    "vals_train = [1,2,3.5,2.5,2,2]\n",
    "\n",
    "df[\"carbon_footprint\"] = 0\n",
    "\n",
    "for i in range(len(destinations)):\n",
    "    filt = (df['travel'] == destinations[i]) & (df['travel_mean']=='train')\n",
    "    df.loc[filt, 'carbon_footprint'] = vals_train[i]"
   ]
  },
  {
   "cell_type": "markdown",
   "id": "c8046a29",
   "metadata": {},
   "source": [
    "### Calcul de l'empreinte carbone pour les avions"
   ]
  },
  {
   "cell_type": "code",
   "execution_count": 9,
   "id": "c312d9df",
   "metadata": {},
   "outputs": [],
   "source": [
    "vals_avions = [191,202,233,233,186,166]\n",
    "\n",
    "for i in range(len(destinations)):\n",
    "    filt = (df['travel'] == destinations[i]) & (df['travel_mean']=='plane')\n",
    "    df.loc[filt, 'carbon_footprint'] = vals_avions[i]"
   ]
  },
  {
   "cell_type": "markdown",
   "id": "ead7b053",
   "metadata": {},
   "source": [
    "### Comparaison du prix"
   ]
  },
  {
   "cell_type": "code",
   "execution_count": 89,
   "id": "ba7fcdf3",
   "metadata": {},
   "outputs": [
    {
     "data": {
      "application/vnd.plotly.v1+json": {
       "config": {
        "plotlyServerURL": "https://plot.ly"
       },
       "data": [
        {
         "alignmentgroup": "True",
         "hovertemplate": "travel_mean=train<br>travel=%{x}<br>price=%{y}<extra></extra>",
         "legendgroup": "train",
         "marker": {
          "color": "rgb(95, 70, 144)"
         },
         "name": "train",
         "notched": false,
         "offsetgroup": "train",
         "orientation": "v",
         "showlegend": true,
         "type": "box",
         "x": [
          "Venice-Naples",
          "Venice-Naples",
          "Venice-Naples",
          "Venice-Naples",
          "Venice-Naples",
          "Venice-Naples",
          "Venice-Naples",
          "Venice-Naples",
          "Venice-Naples",
          "Venice-Naples",
          "Venice-Naples",
          "Venice-Naples",
          "Venice-Naples",
          "Venice-Naples",
          "Venice-Naples",
          "Venice-Naples",
          "Venice-Naples",
          "Venice-Naples",
          "Venice-Naples",
          "Venice-Naples",
          "Venice-Naples",
          "Venice-Naples",
          "Venice-Naples",
          "Venice-Naples",
          "Venice-Naples",
          "Venice-Naples",
          "Venice-Naples",
          "Venice-Naples",
          "Venice-Naples",
          "Venice-Naples",
          "Venice-Naples",
          "Venice-Naples",
          "Venice-Naples",
          "Venice-Naples",
          "Venice-Naples",
          "Venice-Naples",
          "Venice-Naples",
          "Venice-Naples",
          "Venice-Naples",
          "Venice-Naples",
          "Venice-Naples",
          "Venice-Naples",
          "Venice-Naples",
          "Venice-Naples",
          "Venice-Naples",
          "Venice-Naples",
          "Venice-Naples",
          "Venice-Naples",
          "Venice-Naples",
          "Venice-Naples",
          "Venice-Naples",
          "Venice-Naples",
          "Venice-Naples",
          "Venice-Naples",
          "Venice-Naples",
          "Venice-Naples",
          "Venice-Naples",
          "Venice-Naples",
          "Venice-Naples",
          "Venice-Naples",
          "Venice-Naples",
          "Venice-Naples",
          "Venice-Naples",
          "Venice-Naples",
          "Venice-Naples",
          "Venice-Naples",
          "Venice-Naples",
          "Venice-Naples",
          "Venice-Naples",
          "Venice-Naples",
          "Venice-Naples",
          "Venice-Naples",
          "Venice-Naples",
          "Venice-Naples",
          "Venice-Naples",
          "Venice-Naples",
          "Venice-Naples",
          "Venice-Naples",
          "Venice-Naples",
          "Venice-Naples",
          "Venice-Naples",
          "Venice-Naples",
          "Venice-Naples",
          "Venice-Naples",
          "Venice-Naples",
          "Venice-Naples",
          "Venice-Naples",
          "Venice-Naples",
          "Venice-Naples",
          "Venice-Naples",
          "Venice-Naples",
          "Venice-Naples",
          "Venice-Naples",
          "Venice-Naples",
          "Venice-Naples",
          "Venice-Naples",
          "Venice-Naples",
          "Venice-Naples",
          "Venice-Naples",
          "Venice-Naples",
          "Venice-Naples",
          "Venice-Naples",
          "Venice-Naples",
          "Venice-Naples",
          "Venice-Naples",
          "Venice-Naples",
          "Venice-Naples",
          "Venice-Naples",
          "Venice-Naples",
          "Venice-Naples",
          "Venice-Naples",
          "Venice-Naples",
          "Venice-Naples",
          "Venice-Naples",
          "Venice-Naples",
          "Venice-Naples",
          "Venice-Naples",
          "Venice-Naples",
          "Venice-Naples",
          "Venice-Naples",
          "Venice-Naples",
          "Venice-Naples",
          "Venice-Naples",
          "Venice-Naples",
          "Venice-Naples",
          "Venice-Naples",
          "Venice-Naples",
          "Venice-Naples",
          "Venice-Naples",
          "Venice-Naples",
          "Venice-Naples",
          "Venice-Naples",
          "Venice-Naples",
          "Venice-Naples",
          "Venice-Naples",
          "Venice-Naples",
          "Venice-Naples",
          "Venice-Naples",
          "Venice-Naples",
          "Venice-Naples",
          "Venice-Naples",
          "Venice-Naples",
          "Venice-Naples",
          "Venice-Naples",
          "Venice-Naples",
          "Venice-Naples",
          "Venice-Naples",
          "Venice-Naples",
          "Venice-Naples",
          "Venice-Naples",
          "Venice-Naples",
          "Venice-Naples",
          "Venice-Naples",
          "Venice-Naples",
          "Venice-Naples",
          "Venice-Naples",
          "Venice-Naples",
          "Venice-Naples",
          "Venice-Naples",
          "Venice-Naples",
          "Venice-Naples",
          "Venice-Naples",
          "Venice-Naples",
          "Venice-Naples",
          "Venice-Naples",
          "Venice-Naples",
          "Venice-Naples",
          "Venice-Naples",
          "Venice-Naples",
          "Venice-Naples",
          "Venice-Naples",
          "Venice-Naples",
          "Venice-Naples",
          "Venice-Naples",
          "Venice-Naples",
          "Venice-Naples",
          "Venice-Naples",
          "Venice-Naples",
          "Venice-Naples",
          "Venice-Naples",
          "Venice-Naples",
          "Venice-Naples",
          "Venice-Naples",
          "Venice-Naples",
          "Venice-Naples",
          "Venice-Naples",
          "Venice-Naples",
          "Venice-Naples",
          "Venice-Naples",
          "Venice-Naples",
          "Venice-Naples",
          "Venice-Naples",
          "Venice-Naples",
          "Venice-Naples",
          "Venice-Naples",
          "Venice-Naples",
          "Venice-Naples",
          "Venice-Naples",
          "Venice-Naples",
          "Venice-Naples",
          "Venice-Naples",
          "Venice-Naples",
          "Venice-Naples",
          "Venice-Naples",
          "Venice-Naples",
          "Venice-Naples",
          "Venice-Naples",
          "Venice-Naples",
          "Venice-Naples",
          "Venice-Naples",
          "Venice-Naples",
          "Venice-Naples",
          "Venice-Naples",
          "Venice-Naples",
          "Venice-Naples",
          "Venice-Naples",
          "Venice-Naples",
          "Venice-Naples",
          "Venice-Naples",
          "Venice-Naples",
          "Venice-Naples",
          "Venice-Naples",
          "Venice-Naples",
          "Venice-Naples",
          "Venice-Naples",
          "Venice-Naples",
          "Venice-Naples",
          "Venice-Naples",
          "Venice-Naples",
          "Venice-Naples",
          "Venice-Bari",
          "Venice-Bari",
          "Venice-Bari",
          "Venice-Bari",
          "Venice-Bari",
          "Venice-Bari",
          "Venice-Bari",
          "Venice-Bari",
          "Venice-Bari",
          "Venice-Bari",
          "Venice-Bari",
          "Venice-Bari",
          "Venice-Bari",
          "Venice-Bari",
          "Venice-Bari",
          "Venice-Bari",
          "Venice-Bari",
          "Venice-Bari",
          "Venice-Bari",
          "Venice-Bari",
          "Venice-Bari",
          "Venice-Bari",
          "Venice-Bari",
          "Venice-Bari",
          "Venice-Bari",
          "Venice-Bari",
          "Venice-Bari",
          "Venice-Bari",
          "Venice-Bari",
          "Venice-Bari",
          "Venice-Bari",
          "Venice-Bari",
          "Venice-Bari",
          "Venice-Bari",
          "Venice-Bari",
          "Venice-Bari",
          "Venice-Bari",
          "Venice-Bari",
          "Venice-Bari",
          "Venice-Bari",
          "Venice-Bari",
          "Venice-Bari",
          "Venice-Bari",
          "Venice-Bari",
          "Venice-Bari",
          "Venice-Bari",
          "Venice-Bari",
          "Venice-Bari",
          "Venice-Bari",
          "Venice-Bari",
          "Venice-Bari",
          "Venice-Bari",
          "Venice-Bari",
          "Venice-Bari",
          "Venice-Bari",
          "Venice-Bari",
          "Venice-Bari",
          "Venice-Bari",
          "Venice-Bari",
          "Venice-Bari",
          "Venice-Bari",
          "Venice-Bari",
          "Venice-Bari",
          "Venice-Bari",
          "Milan-Bari",
          "Milan-Bari",
          "Milan-Bari",
          "Milan-Bari",
          "Milan-Bari",
          "Milan-Bari",
          "Milan-Bari",
          "Milan-Bari",
          "Milan-Bari",
          "Milan-Bari",
          "Milan-Bari",
          "Milan-Bari",
          "Milan-Bari",
          "Milan-Bari",
          "Milan-Bari",
          "Milan-Bari",
          "Milan-Bari",
          "Milan-Bari",
          "Milan-Bari",
          "Milan-Bari",
          "Milan-Bari",
          "Milan-Bari",
          "Milan-Bari",
          "Milan-Bari",
          "Milan-Bari",
          "Milan-Bari",
          "Milan-Bari",
          "Milan-Bari",
          "Milan-Bari",
          "Milan-Bari",
          "Milan-Bari",
          "Milan-Bari",
          "Milan-Bari",
          "Milan-Bari",
          "Milan-Bari",
          "Milan-Bari",
          "Milan-Bari",
          "Milan-Bari",
          "Milan-Bari",
          "Milan-Bari",
          "Milan-Bari",
          "Milan-Bari",
          "Milan-Bari",
          "Milan-Bari",
          "Milan-Bari",
          "Milan-Bari",
          "Milan-Bari",
          "Milan-Bari",
          "Milan-Bari",
          "Milan-Bari",
          "Milan-Bari",
          "Milan-Bari",
          "Milan-Bari",
          "Milan-Bari",
          "Milan-Bari",
          "Milan-Bari",
          "Milan-Bari",
          "Milan-Bari",
          "Milan-Bari",
          "Milan-Bari",
          "Milan-Bari",
          "Milan-Bari",
          "Milan-Bari",
          "Milan-Bari",
          "Milan-Bari",
          "Milan-Bari",
          "Milan-Bari",
          "Milan-Bari",
          "Milan-Bari",
          "Milan-Bari",
          "Milan-Bari",
          "Milan-Bari",
          "Milan-Bari",
          "Milan-Bari",
          "Milan-Bari",
          "Milan-Bari",
          "Milan-Bari",
          "Milan-Bari",
          "Milan-Bari",
          "Milan-Bari",
          "Milan-Bari",
          "Milan-Bari",
          "Milan-Bari",
          "Milan-Bari",
          "Milan-Bari",
          "Milan-Bari",
          "Milan-Bari",
          "Milan-Bari",
          "Milan-Bari",
          "Milan-Bari",
          "Milan-Bari",
          "Milan-Bari",
          "Milan-Bari",
          "Milan-Bari",
          "Milan-Bari",
          "Milan-Bari",
          "Milan-Bari",
          "Milan-Bari",
          "Milan-Bari",
          "Milan-Bari",
          "Milan-Bari",
          "Milan-Bari",
          "Milan-Bari",
          "Milan-Bari",
          "Milan-Bari",
          "Milan-Bari",
          "Milan-Bari",
          "Milan-Bari",
          "Milan-Bari",
          "Milan-Bari",
          "Milan-Bari",
          "Milan-Bari",
          "Milan-Bari",
          "Milan-Bari",
          "Milan-Bari",
          "Milan-Bari",
          "Milan-Bari",
          "Milan-Bari",
          "Milan-Bari",
          "Milan-Bari",
          "Milan-Bari",
          "Milan-Bari",
          "Milan-Bari",
          "Milan-Bari",
          "Milan-Bari",
          "Milan-Bari",
          "Milan-Bari",
          "Milan-Bari",
          "Milan-Bari",
          "Milan-Bari",
          "Milan-Bari",
          "Milan-Bari",
          "Milan-Bari",
          "Milan-Bari",
          "Milan-Bari",
          "Milan-Bari",
          "Milan-Bari",
          "Milan-Bari",
          "Milan-Bari",
          "Milan-Bari",
          "Milan-Bari",
          "Milan-Bari",
          "Milan-Bari",
          "Milan-Bari",
          "Milan-Bari",
          "Milan-Bari",
          "Milan-Bari",
          "Milan-Bari",
          "Milan-Bari",
          "Milan-Bari",
          "Milan-Bari",
          "Milan-Bari",
          "Milan-Bari",
          "Milan-Bari",
          "Milan-Bari",
          "Milan-Bari",
          "Milan-Bari",
          "Milan-Bari",
          "Milan-Bari",
          "Milan-Bari",
          "Milan-Bari",
          "Milan-Bari",
          "Milan-Bari",
          "Milan-Bari",
          "Milan-Bari",
          "Milan-Bari",
          "Milan-Bari",
          "Milan-Bari",
          "Milan-Bari",
          "Milan-Bari",
          "Milan-Bari",
          "Milan-Bari",
          "Milan-Bari",
          "Milan-Bari",
          "Milan-Bari",
          "Milan-Bari",
          "Milan-Bari",
          "Milan-Bari",
          "Milan-Bari",
          "Milan-Bari",
          "Milan-Bari",
          "Milan-Bari",
          "Milan-Bari",
          "Milan-Bari",
          "Milan-Bari",
          "Milan-Bari",
          "Milan-Bari",
          "Milan-Bari",
          "Milan-Bari",
          "Milan-Bari",
          "Milan-Bari",
          "Milan-Bari",
          "Milan-Bari",
          "Milan-Bari",
          "Milan-Bari",
          "Milan-Bari",
          "Milan-Bari",
          "Milan-Bari",
          "Milan-Bari",
          "Milan-Bari",
          "Milan-Bari",
          "Milan-Bari",
          "Milan-Bari",
          "Milan-Bari",
          "Milan-Bari",
          "Milan-Bari",
          "Milan-Bari",
          "Milan-Bari",
          "Milan-Bari",
          "Milan-Bari",
          "Milan-Bari",
          "Milan-Bari",
          "Milan-Bari",
          "Milan-Bari",
          "Milan-Bari",
          "Milan-Bari",
          "Milan-Bari",
          "Milan-Bari",
          "Milan-Bari",
          "Milan-Bari",
          "Milan-Naples",
          "Milan-Naples",
          "Milan-Naples",
          "Milan-Naples",
          "Milan-Naples",
          "Milan-Naples",
          "Milan-Naples",
          "Milan-Naples",
          "Milan-Naples",
          "Milan-Naples",
          "Milan-Naples",
          "Milan-Naples",
          "Milan-Naples",
          "Milan-Naples",
          "Milan-Naples",
          "Milan-Naples",
          "Milan-Naples",
          "Milan-Naples",
          "Milan-Naples",
          "Milan-Naples",
          "Milan-Naples",
          "Milan-Naples",
          "Milan-Naples",
          "Milan-Naples",
          "Milan-Naples",
          "Milan-Naples",
          "Milan-Naples",
          "Milan-Naples",
          "Milan-Naples",
          "Milan-Naples",
          "Milan-Naples",
          "Milan-Naples",
          "Milan-Naples",
          "Milan-Naples",
          "Milan-Naples",
          "Milan-Naples",
          "Milan-Naples",
          "Milan-Naples",
          "Milan-Naples",
          "Milan-Naples",
          "Milan-Naples",
          "Milan-Naples",
          "Milan-Naples",
          "Milan-Naples",
          "Milan-Naples",
          "Milan-Naples",
          "Milan-Naples",
          "Milan-Naples",
          "Milan-Naples",
          "Milan-Naples",
          "Milan-Naples",
          "Milan-Naples",
          "Milan-Naples",
          "Milan-Naples",
          "Milan-Naples",
          "Milan-Naples",
          "Milan-Naples",
          "Milan-Naples",
          "Milan-Naples",
          "Milan-Naples",
          "Milan-Naples",
          "Milan-Naples",
          "Milan-Naples",
          "Milan-Naples",
          "Milan-Naples",
          "Milan-Naples",
          "Milan-Naples",
          "Milan-Naples",
          "Milan-Naples",
          "Milan-Naples",
          "Milan-Naples",
          "Milan-Naples",
          "Milan-Naples",
          "Milan-Naples",
          "Milan-Naples",
          "Milan-Naples",
          "Milan-Naples",
          "Milan-Naples",
          "Milan-Naples",
          "Milan-Naples",
          "Milan-Naples",
          "Milan-Naples",
          "Milan-Naples",
          "Milan-Naples",
          "Milan-Naples",
          "Milan-Naples",
          "Milan-Naples",
          "Milan-Naples",
          "Milan-Naples",
          "Milan-Naples",
          "Milan-Naples",
          "Milan-Naples",
          "Milan-Naples",
          "Milan-Naples",
          "Milan-Naples",
          "Milan-Naples",
          "Milan-Naples",
          "Milan-Naples",
          "Milan-Naples",
          "Milan-Naples",
          "Milan-Naples",
          "Milan-Naples",
          "Milan-Naples",
          "Milan-Naples",
          "Milan-Naples",
          "Milan-Naples",
          "Milan-Naples",
          "Milan-Naples",
          "Milan-Naples",
          "Milan-Naples",
          "Milan-Naples",
          "Milan-Naples",
          "Milan-Naples",
          "Milan-Naples",
          "Milan-Naples",
          "Milan-Naples",
          "Milan-Naples",
          "Milan-Naples",
          "Milan-Naples",
          "Milan-Naples",
          "Milan-Naples",
          "Milan-Naples",
          "Milan-Naples",
          "Milan-Naples",
          "Milan-Naples",
          "Milan-Naples",
          "Milan-Naples",
          "Milan-Naples",
          "Milan-Naples",
          "Milan-Naples",
          "Milan-Naples",
          "Milan-Naples",
          "Milan-Naples",
          "Milan-Naples",
          "Milan-Naples",
          "Milan-Naples",
          "Milan-Naples",
          "Milan-Naples",
          "Milan-Naples",
          "Milan-Naples",
          "Milan-Naples",
          "Milan-Naples",
          "Milan-Naples",
          "Milan-Naples",
          "Milan-Naples",
          "Milan-Naples",
          "Milan-Naples",
          "Milan-Naples",
          "Milan-Naples",
          "Milan-Naples",
          "Milan-Naples",
          "Milan-Naples",
          "Milan-Naples",
          "Milan-Naples",
          "Milan-Naples",
          "Milan-Naples",
          "Milan-Naples",
          "Milan-Naples",
          "Milan-Naples",
          "Milan-Naples",
          "Milan-Naples",
          "Milan-Naples",
          "Milan-Naples",
          "Milan-Naples",
          "Milan-Naples",
          "Milan-Naples",
          "Milan-Naples",
          "Milan-Naples",
          "Milan-Naples",
          "Milan-Naples",
          "Milan-Naples",
          "Milan-Naples",
          "Milan-Naples",
          "Milan-Naples",
          "Milan-Naples",
          "Milan-Naples",
          "Milan-Naples",
          "Milan-Naples",
          "Milan-Naples",
          "Milan-Naples",
          "Milan-Naples",
          "Milan-Naples",
          "Milan-Naples",
          "Milan-Naples",
          "Milan-Naples",
          "Milan-Naples",
          "Milan-Naples",
          "Milan-Naples",
          "Milan-Naples",
          "Milan-Naples",
          "Milan-Naples",
          "Milan-Naples",
          "Milan-Naples",
          "Milan-Naples",
          "Milan-Naples",
          "Milan-Naples",
          "Milan-Naples",
          "Milan-Naples",
          "Milan-Naples",
          "Milan-Naples",
          "Milan-Naples",
          "Milan-Naples",
          "Milan-Naples",
          "Milan-Naples",
          "Milan-Naples",
          "Milan-Naples",
          "Milan-Naples",
          "Milan-Naples",
          "Milan-Naples",
          "Milan-Naples",
          "Milan-Naples",
          "Milan-Naples",
          "Milan-Naples",
          "Milan-Naples",
          "Milan-Naples",
          "Milan-Naples",
          "Milan-Naples",
          "Milan-Naples",
          "Milan-Naples",
          "Milan-Naples",
          "Milan-Naples",
          "Milan-Naples",
          "Milan-Naples",
          "Milan-Naples",
          "Milan-Naples",
          "Milan-Naples",
          "Milan-Naples",
          "Milan-Naples",
          "Milan-Naples",
          "Milan-Naples",
          "Milan-Naples",
          "Milan-Naples",
          "Milan-Naples",
          "Milan-Naples",
          "Milan-Naples",
          "Milan-Naples",
          "Milan-Naples",
          "Milan-Naples",
          "Milan-Naples",
          "Milan-Naples",
          "Milan-Naples",
          "Milan-Naples",
          "Milan-Naples",
          "Milan-Naples",
          "Milan-Naples",
          "Milan-Naples",
          "Milan-Naples",
          "Milan-Naples",
          "Milan-Naples",
          "Milan-Naples",
          "Milan-Naples",
          "Milan-Naples",
          "Milan-Naples",
          "Milan-Naples",
          "Milan-Naples",
          "Milan-Naples",
          "Milan-Naples",
          "Milan-Naples",
          "Milan-Naples",
          "Milan-Naples",
          "Milan-Naples",
          "Milan-Naples",
          "Milan-Naples",
          "Milan-Naples",
          "Milan-Naples",
          "Milan-Naples",
          "Milan-Naples",
          "Milan-Naples",
          "Milan-Naples",
          "Milan-Naples",
          "Milan-Naples",
          "Milan-Naples",
          "Milan-Naples",
          "Milan-Naples",
          "Milan-Naples",
          "Milan-Naples",
          "Milan-Naples",
          "Milan-Naples",
          "Milan-Naples",
          "Milan-Naples",
          "Milan-Naples",
          "Milan-Naples",
          "Milan-Naples",
          "Milan-Naples",
          "Milan-Naples",
          "Milan-Naples",
          "Milan-Naples",
          "Milan-Naples",
          "Milan-Naples",
          "Milan-Naples",
          "Milan-Naples",
          "Milan-Naples",
          "Milan-Naples",
          "Milan-Naples",
          "Milan-Naples",
          "Milan-Naples",
          "Milan-Naples",
          "Milan-Naples",
          "Milan-Naples",
          "Milan-Naples",
          "Milan-Naples",
          "Milan-Naples",
          "Milan-Naples",
          "Milan-Naples",
          "Milan-Naples",
          "Milan-Naples",
          "Milan-Naples",
          "Milan-Naples",
          "Milan-Naples",
          "Milan-Naples",
          "Milan-Naples",
          "Milan-Naples",
          "Milan-Naples",
          "Milan-Naples",
          "Milan-Naples",
          "Milan-Naples",
          "Milan-Naples",
          "Milan-Naples",
          "Milan-Naples",
          "Milan-Naples",
          "Milan-Naples",
          "Milan-Naples",
          "Milan-Naples",
          "Milan-Naples",
          "Milan-Naples",
          "Milan-Naples",
          "Milan-Naples",
          "Milan-Naples",
          "Milan-Naples",
          "Milan-Naples",
          "Milan-Naples",
          "Milan-Naples",
          "Milan-Naples",
          "Milan-Naples",
          "Milan-Naples",
          "Milan-Naples",
          "Milan-Naples",
          "Milan-Naples",
          "Milan-Naples",
          "Milan-Naples",
          "Milan-Naples",
          "Milan-Naples",
          "Milan-Naples",
          "Milan-Naples",
          "Milan-Naples",
          "Milan-Naples",
          "Milan-Naples",
          "Milan-Naples",
          "Milan-Naples",
          "Milan-Naples",
          "Milan-Naples",
          "Milan-Naples",
          "Milan-Naples",
          "Milan-Naples",
          "Milan-Naples",
          "Milan-Naples",
          "Milan-Naples",
          "Milan-Naples",
          "Milan-Naples",
          "Milan-Naples",
          "Milan-Naples",
          "Milan-Naples",
          "Milan-Naples",
          "Milan-Naples",
          "Milan-Naples",
          "Milan-Naples",
          "Milan-Naples",
          "Milan-Naples",
          "Milan-Naples",
          "Milan-Naples",
          "Milan-Naples",
          "Milan-Naples",
          "Milan-Naples",
          "Milan-Naples",
          "Milan-Naples",
          "Milan-Naples",
          "Milan-Naples",
          "Milan-Naples",
          "Milan-Naples",
          "Milan-Naples",
          "Milan-Naples",
          "Milan-Naples",
          "Milan-Naples",
          "Milan-Naples",
          "Milan-Naples",
          "Milan-Naples",
          "Milan-Naples",
          "Milan-Naples",
          "Milan-Naples",
          "Milan-Naples",
          "Milan-Naples",
          "Milan-Naples",
          "Milan-Naples",
          "Milan-Naples",
          "Milan-Naples",
          "Milan-Naples",
          "Milan-Naples",
          "Milan-Naples",
          "Milan-Naples",
          "Milan-Naples",
          "Milan-Naples",
          "Milan-Naples",
          "Milan-Naples",
          "Milan-Naples",
          "Milan-Naples",
          "Milan-Naples",
          "Milan-Naples",
          "Milan-Naples",
          "Milan-Naples",
          "Milan-Naples",
          "Milan-Naples",
          "Milan-Naples",
          "Milan-Naples",
          "Milan-Naples",
          "Milan-Naples",
          "Milan-Naples",
          "Milan-Naples",
          "Milan-Naples",
          "Milan-Naples",
          "Milan-Naples",
          "Milan-Naples",
          "Milan-Naples",
          "Milan-Naples",
          "Milan-Naples",
          "Milan-Naples",
          "Milan-Naples",
          "Milan-Naples",
          "Milan-Naples",
          "Milan-Naples",
          "Milan-Naples",
          "Milan-Naples",
          "Milan-Naples",
          "Milan-Naples",
          "Milan-Naples",
          "Milan-Naples",
          "Milan-Naples",
          "Milan-Naples",
          "Milan-Naples",
          "Milan-Naples",
          "Milan-Naples",
          "Milan-Naples",
          "Milan-Naples",
          "Milan-Naples",
          "Milan-Naples",
          "Milan-Naples",
          "Milan-Naples",
          "Milan-Naples",
          "Milan-Naples",
          "Milan-Naples",
          "Milan-Naples",
          "Milan-Naples",
          "Milan-Naples",
          "Milan-Naples",
          "Milan-Naples",
          "Milan-Naples",
          "Milan-Naples",
          "Milan-Naples",
          "Milan-Naples",
          "Milan-Naples",
          "Milan-Naples",
          "Milan-Naples",
          "Milan-Naples",
          "Milan-Naples",
          "Milan-Naples",
          "Milan-Naples",
          "Milan-Naples",
          "Milan-Naples",
          "Milan-Naples",
          "Milan-Naples",
          "Milan-Naples",
          "Milan-Naples",
          "Milan-Naples",
          "Milan-Naples",
          "Milan-Naples",
          "Milan-Naples",
          "Milan-Naples",
          "Milan-Naples",
          "Milan-Naples",
          "Milan-Naples",
          "Milan-Naples",
          "Milan-Naples",
          "Milan-Naples",
          "Milan-Naples",
          "Milan-Naples",
          "Milan-Naples",
          "Milan-Naples",
          "Milan-Naples",
          "Milan-Naples",
          "Milan-Naples",
          "Milan-Naples",
          "Milan-Naples",
          "Milan-Naples",
          "Milan-Naples",
          "Milan-Naples",
          "Milan-Naples",
          "Milan-Naples",
          "Milan-Naples",
          "Milan-Naples",
          "Milan-Naples",
          "Milan-Naples",
          "Milan-Naples",
          "Milan-Naples",
          "Milan-Naples",
          "Milan-Naples",
          "Milan-Naples",
          "Milan-Naples",
          "Milan-Naples",
          "Milan-Naples",
          "Milan-Naples",
          "Milan-Naples",
          "Milan-Naples",
          "Milan-Naples",
          "Milan-Naples",
          "Milan-Naples",
          "Milan-Naples",
          "Milan-Naples",
          "Milan-Naples",
          "Milan-Naples",
          "Milan-Naples",
          "Milan-Naples",
          "Milan-Naples",
          "Milan-Naples",
          "Milan-Naples",
          "Milan-Naples",
          "Milan-Naples",
          "Milan-Naples",
          "Milan-Naples",
          "Milan-Naples",
          "Milan-Naples",
          "Milan-Naples",
          "Milan-Naples",
          "Milan-Naples",
          "Milan-Naples",
          "Milan-Naples",
          "Milan-Naples",
          "Milan-Naples",
          "Milan-Naples",
          "Milan-Naples",
          "Milan-Naples",
          "Milan-Naples",
          "Milan-Naples",
          "Milan-Naples",
          "Milan-Naples",
          "Milan-Naples",
          "Milan-Naples",
          "Milan-Naples",
          "Milan-Naples",
          "Milan-Naples",
          "Milan-Naples",
          "Milan-Naples",
          "Milan-Naples",
          "Milan-Naples",
          "Milan-Naples",
          "Milan-Naples",
          "Milan-Naples",
          "Milan-Naples",
          "Milan-Naples",
          "Milan-Naples",
          "Milan-Naples",
          "Milan-Naples",
          "Milan-Naples",
          "Milan-Naples",
          "Milan-Naples",
          "Milan-Naples",
          "Milan-Naples",
          "Milan-Naples",
          "Milan-Naples",
          "Milan-Naples",
          "Milan-Naples",
          "Milan-Naples",
          "Milan-Naples",
          "Milan-Naples",
          "Milan-Naples",
          "Milan-Naples",
          "Milan-Naples",
          "Milan-Naples",
          "Milan-Naples",
          "Milan-Naples",
          "Milan-Naples",
          "Milan-Naples",
          "Milan-Naples",
          "Milan-Naples",
          "Milan-Naples",
          "Milan-Naples",
          "Milan-Naples",
          "Milan-Naples",
          "Milan-Naples",
          "Milan-Naples",
          "Milan-Naples",
          "Milan-Naples",
          "Milan-Naples",
          "Milan-Naples",
          "Milan-Naples",
          "Milan-Naples",
          "Milan-Naples",
          "Milan-Naples",
          "Milan-Naples",
          "Milan-Naples",
          "Milan-Naples",
          "Milan-Naples",
          "Milan-Naples",
          "Milan-Naples",
          "Milan-Naples",
          "Milan-Naples",
          "Milan-Naples",
          "Milan-Naples",
          "Milan-Naples",
          "Milan-Naples",
          "Milan-Naples",
          "Milan-Naples",
          "Milan-Naples",
          "Milan-Naples",
          "Milan-Naples",
          "Milan-Naples",
          "Milan-Naples",
          "Milan-Naples",
          "Milan-Naples",
          "Milan-Naples",
          "Milan-Naples",
          "Milan-Naples",
          "Milan-Naples",
          "Milan-Naples",
          "Milan-Naples",
          "Milan-Naples",
          "Milan-Naples",
          "Milan-Naples",
          "Milan-Naples",
          "Milan-Naples",
          "Milan-Naples",
          "Milan-Naples",
          "Milan-Naples",
          "Milan-Naples",
          "Milan-Naples",
          "Milan-Naples",
          "Milan-Naples",
          "Milan-Naples",
          "Milan-Naples",
          "Milan-Naples",
          "Milan-Naples",
          "Milan-Naples",
          "Milan-Naples",
          "Milan-Naples",
          "Milan-Naples",
          "Milan-Naples",
          "Milan-Naples",
          "Milan-Naples",
          "Milan-Naples",
          "Milan-Naples",
          "Milan-Naples",
          "Milan-Naples",
          "Milan-Naples",
          "Milan-Naples",
          "Milan-Naples",
          "Milan-Naples",
          "Milan-Naples",
          "Milan-Naples",
          "Milan-Naples",
          "Milan-Naples",
          "Milan-Naples",
          "Milan-Naples",
          "Milan-Naples",
          "Milan-Naples",
          "Milan-Naples",
          "Milan-Naples",
          "Milan-Naples",
          "Milan-Naples",
          "Milan-Naples",
          "Milan-Naples",
          "Milan-Naples",
          "Milan-Naples",
          "Milan-Naples",
          "Milan-Naples",
          "Milan-Naples",
          "Milan-Naples",
          "Milan-Naples",
          "Milan-Naples",
          "Milan-Naples",
          "Milan-Naples",
          "Milan-Naples",
          "Milan-Naples",
          "Milan-Naples",
          "Milan-Naples",
          "Milan-Naples",
          "Milan-Naples",
          "Milan-Naples",
          "Milan-Naples",
          "Milan-Naples",
          "Milan-Naples",
          "Milan-Naples",
          "Milan-Naples",
          "Milan-Naples",
          "Milan-Naples",
          "Milan-Naples",
          "Milan-Naples",
          "Milan-Naples",
          "Milan-Naples",
          "Milan-Naples",
          "Milan-Naples",
          "Milan-Naples",
          "Milan-Naples",
          "Milan-Naples",
          "Milan-Naples",
          "Milan-Naples",
          "Milan-Naples",
          "Milan-Naples",
          "Milan-Naples",
          "Milan-Naples",
          "Milan-Naples",
          "Milan-Naples",
          "Milan-Naples",
          "Milan-Naples",
          "Milan-Naples",
          "Milan-Naples",
          "Milan-Naples",
          "Milan-Naples",
          "Milan-Naples",
          "Milan-Naples",
          "Milan-Naples",
          "Milan-Naples",
          "Milan-Naples",
          "Milan-Naples",
          "Milan-Naples",
          "Milan-Naples",
          "Milan-Naples",
          "Milan-Naples",
          "Milan-Naples",
          "Milan-Naples",
          "Milan-Naples",
          "Milan-Naples",
          "Milan-Naples",
          "Milan-Naples",
          "Milan-Naples",
          "Milan-Naples",
          "Milan-Naples",
          "Milan-Naples",
          "Milan-Naples",
          "Milan-Naples",
          "Milan-Naples",
          "Milan-Naples",
          "Milan-Naples",
          "Milan-Naples",
          "Milan-Naples",
          "Milan-Naples",
          "Milan-Naples",
          "Milan-Naples",
          "Milan-Naples",
          "Milan-Naples",
          "Milan-Pescara",
          "Milan-Pescara",
          "Milan-Pescara",
          "Milan-Pescara",
          "Milan-Pescara",
          "Milan-Pescara",
          "Milan-Pescara",
          "Milan-Pescara",
          "Milan-Pescara",
          "Milan-Pescara",
          "Milan-Pescara",
          "Milan-Pescara",
          "Milan-Pescara",
          "Milan-Pescara",
          "Milan-Pescara",
          "Milan-Pescara",
          "Milan-Pescara",
          "Milan-Pescara",
          "Milan-Pescara",
          "Milan-Pescara",
          "Milan-Pescara",
          "Milan-Pescara",
          "Milan-Pescara",
          "Milan-Pescara",
          "Milan-Pescara",
          "Milan-Pescara",
          "Milan-Pescara",
          "Milan-Pescara",
          "Milan-Pescara",
          "Milan-Pescara",
          "Milan-Pescara",
          "Milan-Pescara",
          "Milan-Pescara",
          "Milan-Pescara",
          "Milan-Pescara",
          "Milan-Pescara",
          "Milan-Pescara",
          "Milan-Pescara",
          "Milan-Pescara",
          "Milan-Pescara",
          "Milan-Pescara",
          "Milan-Pescara",
          "Milan-Pescara",
          "Milan-Pescara",
          "Milan-Pescara",
          "Milan-Pescara",
          "Milan-Pescara",
          "Milan-Pescara",
          "Milan-Pescara",
          "Milan-Pescara",
          "Milan-Pescara",
          "Milan-Pescara",
          "Milan-Pescara",
          "Milan-Pescara",
          "Milan-Pescara",
          "Milan-Pescara",
          "Milan-Pescara",
          "Milan-Pescara",
          "Milan-Pescara",
          "Milan-Pescara",
          "Milan-Pescara",
          "Milan-Pescara",
          "Milan-Pescara",
          "Milan-Pescara",
          "Milan-Pescara",
          "Milan-Pescara",
          "Milan-Pescara",
          "Milan-Pescara",
          "Milan-Pescara",
          "Milan-Pescara",
          "Milan-Pescara",
          "Milan-Pescara",
          "Milan-Pescara",
          "Milan-Pescara",
          "Milan-Pescara",
          "Milan-Pescara",
          "Milan-Pescara",
          "Milan-Pescara",
          "Milan-Pescara",
          "Milan-Pescara",
          "Milan-Pescara",
          "Milan-Pescara",
          "Milan-Pescara",
          "Milan-Pescara",
          "Milan-Pescara",
          "Milan-Pescara",
          "Milan-Pescara",
          "Milan-Pescara",
          "Milan-Pescara",
          "Milan-Pescara",
          "Milan-Pescara",
          "Milan-Pescara",
          "Milan-Pescara",
          "Milan-Pescara",
          "Milan-Pescara",
          "Milan-Pescara",
          "Milan-Pescara",
          "Milan-Pescara",
          "Milan-Pescara",
          "Milan-Pescara",
          "Milan-Pescara",
          "Milan-Pescara",
          "Milan-Pescara",
          "Milan-Pescara",
          "Milan-Pescara",
          "Milan-Pescara",
          "Milan-Pescara",
          "Milan-Pescara",
          "Milan-Pescara",
          "Milan-Pescara",
          "Milan-Pescara",
          "Milan-Pescara",
          "Milan-Pescara",
          "Milan-Pescara",
          "Milan-Pescara",
          "Milan-Pescara",
          "Milan-Pescara",
          "Milan-Pescara",
          "Milan-Pescara",
          "Milan-Pescara",
          "Milan-Pescara",
          "Milan-Pescara",
          "Milan-Pescara",
          "Milan-Pescara",
          "Milan-Pescara",
          "Milan-Pescara",
          "Milan-Pescara",
          "Milan-Pescara",
          "Milan-Pescara",
          "Milan-Pescara",
          "Milan-Pescara",
          "Milan-Pescara",
          "Milan-Pescara",
          "Milan-Pescara",
          "Milan-Pescara",
          "Milan-Pescara",
          "Milan-Pescara",
          "Milan-Pescara",
          "Milan-Pescara",
          "Milan-Pescara",
          "Milan-Pescara",
          "Milan-Pescara",
          "Milan-Pescara",
          "Milan-Pescara",
          "Milan-Pescara",
          "Milan-Pescara",
          "Milan-Pescara",
          "Milan-Pescara",
          "Milan-Pescara",
          "Milan-Pescara",
          "Milan-Pescara",
          "Milan-Pescara",
          "Milan-Pescara",
          "Milan-Pescara",
          "Milan-Pescara",
          "Milan-Pescara",
          "Milan-Pescara",
          "Milan-Pescara",
          "Milan-Pescara",
          "Milan-Pescara",
          "Milan-Pescara",
          "Milan-Pescara",
          "Rome-Bari",
          "Rome-Bari",
          "Rome-Bari",
          "Rome-Bari",
          "Rome-Bari",
          "Rome-Bari",
          "Rome-Bari",
          "Rome-Bari",
          "Rome-Bari",
          "Rome-Bari",
          "Rome-Bari",
          "Rome-Bari",
          "Rome-Bari",
          "Rome-Bari",
          "Rome-Bari",
          "Rome-Bari",
          "Rome-Bari",
          "Rome-Bari",
          "Rome-Bari",
          "Rome-Bari",
          "Rome-Bari",
          "Rome-Bari",
          "Rome-Bari",
          "Rome-Bari",
          "Rome-Bari",
          "Rome-Bari",
          "Rome-Bari",
          "Rome-Bari",
          "Rome-Bari",
          "Rome-Bari",
          "Rome-Bari",
          "Rome-Bari",
          "Rome-Bari",
          "Rome-Bari",
          "Rome-Bari",
          "Rome-Bari",
          "Rome-Bari",
          "Rome-Bari",
          "Rome-Bari",
          "Rome-Bari",
          "Rome-Bari",
          "Rome-Bari",
          "Rome-Bari",
          "Rome-Bari",
          "Rome-Bari",
          "Rome-Bari",
          "Rome-Bari",
          "Rome-Bari",
          "Rome-Bari",
          "Rome-Bari",
          "Rome-Bari",
          "Rome-Bari",
          "Rome-Bari",
          "Rome-Bari",
          "Rome-Bari",
          "Rome-Bari",
          "Rome-Bari",
          "Rome-Bari",
          "Rome-Bari",
          "Rome-Bari",
          "Rome-Bari",
          "Rome-Bari",
          "Rome-Bari",
          "Rome-Bari",
          "Rome-Bari",
          "Rome-Bari",
          "Rome-Bari",
          "Rome-Bari",
          "Rome-Bari",
          "Rome-Bari",
          "Rome-Bari",
          "Rome-Bari",
          "Rome-Bari",
          "Rome-Bari",
          "Rome-Bari",
          "Rome-Bari",
          "Rome-Bari",
          "Rome-Bari",
          "Rome-Bari",
          "Rome-Bari",
          "Rome-Bari",
          "Rome-Bari",
          "Rome-Bari",
          "Rome-Bari",
          "Rome-Bari",
          "Rome-Bari",
          "Rome-Bari",
          "Rome-Bari",
          "Rome-Bari",
          "Rome-Bari",
          "Rome-Bari",
          "Rome-Bari",
          "Rome-Bari",
          "Rome-Bari",
          "Rome-Bari",
          "Rome-Bari",
          "Rome-Bari",
          "Rome-Bari",
          "Rome-Bari",
          "Rome-Bari",
          "Rome-Bari",
          "Rome-Bari",
          "Rome-Bari",
          "Rome-Bari",
          "Rome-Bari",
          "Rome-Bari",
          "Rome-Bari",
          "Rome-Bari",
          "Rome-Bari",
          "Rome-Bari",
          "Rome-Bari",
          "Rome-Bari",
          "Rome-Bari",
          "Rome-Bari",
          "Rome-Bari",
          "Rome-Bari",
          "Rome-Bari",
          "Rome-Bari",
          "Rome-Bari",
          "Rome-Bari",
          "Rome-Bari",
          "Rome-Bari",
          "Rome-Bari",
          "Rome-Bari",
          "Rome-Bari",
          "Rome-Bari",
          "Rome-Bari",
          "Rome-Bari",
          "Rome-Bari",
          "Rome-Bari",
          "Rome-Bari",
          "Rome-Bari",
          "Rome-Bari",
          "Rome-Bari",
          "Rome-Bari",
          "Rome-Bari",
          "Rome-Bari",
          "Rome-Bari",
          "Rome-Bari",
          "Rome-Bari",
          "Rome-Bari",
          "Rome-Bari",
          "Rome-Bari",
          "Rome-Bari",
          "Rome-Bari",
          "Rome-Bari",
          "Rome-Bari",
          "Rome-Bari",
          "Rome-Bari",
          "Rome-Bari",
          "Rome-Bari",
          "Rome-Bari",
          "Rome-Bari",
          "Rome-Bari",
          "Rome-Bari",
          "Rome-Bari"
         ],
         "x0": " ",
         "xaxis": "x",
         "y": [
          105,
          105,
          105,
          105,
          105,
          105,
          105,
          105,
          105,
          105,
          25.9,
          25.9,
          60.9,
          69.9,
          36.9,
          55.9,
          69.9,
          69.9,
          77.9,
          72.9,
          72.9,
          72.9,
          69.9,
          60.9,
          36.9,
          55.9,
          69.9,
          69.9,
          105,
          105,
          105,
          105,
          105,
          105,
          105,
          105,
          105,
          105,
          36.9,
          48.9,
          69.9,
          69.9,
          25.9,
          25.9,
          60.9,
          69.9,
          25.9,
          25.9,
          25.9,
          25.9,
          25.9,
          25.9,
          25.9,
          25.9,
          60.9,
          69.9,
          25.9,
          25.9,
          60.9,
          69.9,
          34.9,
          25.9,
          25.9,
          25.9,
          25.9,
          25.9,
          36.9,
          55.9,
          69.9,
          69.9,
          36.9,
          48.9,
          69.9,
          69.9,
          36.9,
          36.9,
          36.9,
          36.9,
          36.9,
          36.9,
          36.9,
          36.9,
          60.9,
          55.9,
          36.9,
          55.9,
          69.9,
          69.9,
          36.9,
          36.9,
          36.9,
          36.9,
          36.9,
          36.9,
          25.9,
          25.9,
          60.9,
          69.9,
          25.9,
          25.9,
          60.9,
          69.9,
          29.9,
          25.9,
          25.9,
          25.9,
          25.9,
          25.9,
          25.9,
          25.9,
          60.9,
          69.9,
          36.9,
          55.9,
          69.9,
          69.9,
          77.9,
          72.9,
          72.9,
          72.9,
          69.9,
          60.9,
          36.9,
          55.9,
          69.9,
          69.9,
          36.9,
          36.9,
          60.9,
          55.9,
          72.9,
          72.9,
          79.9,
          79.9,
          79.9,
          77.9,
          36.9,
          55.9,
          69.9,
          69.9,
          25.9,
          25.9,
          60.9,
          69.9,
          25.9,
          25.9,
          25.9,
          25.9,
          25.9,
          25.9,
          25.9,
          25.9,
          60.9,
          69.9,
          25.9,
          25.9,
          25.9,
          25.9,
          25.9,
          25.9,
          25.9,
          25.9,
          60.9,
          69.9,
          34.9,
          25.9,
          25.9,
          25.9,
          25.9,
          25.9,
          36.9,
          55.9,
          69.9,
          69.9,
          36.9,
          48.9,
          69.9,
          69.9,
          36.9,
          36.9,
          36.9,
          36.9,
          36.9,
          36.9,
          36.9,
          36.9,
          60.9,
          55.9,
          36.9,
          48.9,
          69.9,
          69.9,
          36.9,
          36.9,
          36.9,
          36.9,
          36.9,
          36.9,
          25.9,
          25.9,
          60.9,
          69.9,
          25.9,
          25.9,
          60.9,
          69.9,
          29.9,
          25.9,
          25.9,
          25.9,
          25.9,
          25.9,
          25.9,
          25.9,
          60.9,
          69.9,
          36.9,
          48.9,
          69.9,
          69.9,
          77.9,
          72.9,
          72.9,
          72.9,
          69.9,
          60.9,
          36.9,
          55.9,
          69.9,
          69.9,
          99,
          99,
          99,
          99,
          56.9,
          67.9,
          67.9,
          67.9,
          99,
          99,
          99,
          99,
          56.9,
          56.9,
          24.9,
          24.9,
          61.9,
          24.9,
          61.9,
          56.9,
          61.9,
          67.9,
          61.9,
          41.9,
          34.9,
          74.9,
          24.9,
          24.9,
          24.9,
          24.9,
          24.9,
          24.9,
          61.9,
          56.9,
          61.9,
          67.9,
          61.9,
          41.9,
          34.9,
          74.9,
          56.9,
          56.9,
          24.9,
          24.9,
          24.9,
          24.9,
          29.9,
          56.9,
          56.9,
          67.9,
          61.9,
          41.9,
          34.9,
          74.9,
          56.9,
          56.9,
          24.9,
          24.9,
          24.9,
          24.9,
          24.9,
          56.9,
          61.9,
          67.9,
          112,
          112,
          112,
          112,
          112,
          112,
          112,
          112,
          112,
          27.9,
          37.9,
          64.9,
          37.9,
          64.9,
          64.9,
          53.9,
          70.9,
          53.9,
          70.9,
          77.9,
          76.9,
          84.9,
          76.9,
          76.9,
          112,
          112,
          112,
          112,
          112,
          91.9,
          69.9,
          70.9,
          69.9,
          70.9,
          27.9,
          32.9,
          37.9,
          32.9,
          27.9,
          27.9,
          27.9,
          27.9,
          27.9,
          27.9,
          32.9,
          37.9,
          32.9,
          27.9,
          27.9,
          27.9,
          27.9,
          27.9,
          27.9,
          37.9,
          70.9,
          37.9,
          64.9,
          64.9,
          53.9,
          70.9,
          53.9,
          70.9,
          53.9,
          53.9,
          53.9,
          53.9,
          64.9,
          53.9,
          70.9,
          53.9,
          70.9,
          53.9,
          53.9,
          53.9,
          53.9,
          58.9,
          53.9,
          53.9,
          69.9,
          70.9,
          64.9,
          69.9,
          70.9,
          69.9,
          70.9,
          53.9,
          53.9,
          38.9,
          38.9,
          64.9,
          69.9,
          70.9,
          69.9,
          70.9,
          53.9,
          53.9,
          38.9,
          38.9,
          27.9,
          27.9,
          27.9,
          32.9,
          27.9,
          32.9,
          27.9,
          27.9,
          27.9,
          27.9,
          27.9,
          27.9,
          32.9,
          27.9,
          32.9,
          27.9,
          27.9,
          27.9,
          64.9,
          53.9,
          70.9,
          53.9,
          70.9,
          53.9,
          53.9,
          53.9,
          53.9,
          64.9,
          53.9,
          70.9,
          53.9,
          70.9,
          53.9,
          53.9,
          53.9,
          53.9,
          58.9,
          53.9,
          53.9,
          69.9,
          70.9,
          64.9,
          69.9,
          70.9,
          69.9,
          70.9,
          27.9,
          32.9,
          37.9,
          32.9,
          27.9,
          27.9,
          27.9,
          27.9,
          27.9,
          27.9,
          32.9,
          37.9,
          32.9,
          27.9,
          27.9,
          27.9,
          27.9,
          27.9,
          27.9,
          37.9,
          64.9,
          37.9,
          64.9,
          37.9,
          64.9,
          32.9,
          37.9,
          27.9,
          37.9,
          64.9,
          37.9,
          64.9,
          37.9,
          64.9,
          32.9,
          37.9,
          77.9,
          53.9,
          70.9,
          53.9,
          77.9,
          58.9,
          53.9,
          53.9,
          69.9,
          70.9,
          64.9,
          69.9,
          70.9,
          69.9,
          70.9,
          27.9,
          32.9,
          37.9,
          32.9,
          27.9,
          27.9,
          27.9,
          27.9,
          32.9,
          27.9,
          27.9,
          64.9,
          70.9,
          69.9,
          64.9,
          64.9,
          53.9,
          70.9,
          53.9,
          70.9,
          77.9,
          53.9,
          70.9,
          53.9,
          77.9,
          103,
          103,
          103,
          103,
          103,
          103,
          103,
          103,
          103,
          103,
          103,
          103,
          103,
          103,
          103,
          103,
          103,
          103,
          103,
          103,
          103,
          103,
          103,
          103,
          103,
          103,
          103,
          103,
          103,
          103,
          103,
          103,
          103,
          103,
          103,
          103,
          103,
          103,
          103,
          103,
          103,
          103,
          103,
          103,
          103,
          103,
          103,
          103,
          103,
          103,
          103,
          103,
          50.9,
          35.9,
          50.9,
          35.9,
          50.9,
          50.9,
          56.9,
          62.9,
          64.9,
          62.9,
          50.9,
          83.9,
          50.9,
          50.9,
          50.9,
          62.9,
          83.9,
          50.9,
          50.9,
          70.9,
          69.9,
          70.9,
          69.9,
          69.9,
          77.9,
          83.9,
          69.9,
          77.9,
          50.9,
          70.9,
          62.9,
          62.9,
          62.9,
          59.9,
          56.9,
          62.9,
          64.9,
          62.9,
          69.9,
          70.9,
          56.9,
          59.9,
          83.9,
          103,
          103,
          103,
          103,
          103,
          103,
          103,
          103,
          103,
          103,
          103,
          103,
          103,
          103,
          103,
          103,
          103,
          103,
          103,
          103,
          103,
          103,
          103,
          103,
          103,
          103,
          103,
          103,
          103,
          103,
          103,
          103,
          103,
          103,
          103,
          103,
          103,
          103,
          103,
          103,
          103,
          103,
          103,
          103,
          103,
          103,
          103,
          103,
          103,
          103,
          103,
          103,
          25.9,
          25.9,
          25.9,
          25.9,
          25.9,
          35.9,
          29.9,
          56.9,
          35.9,
          50.9,
          29.9,
          70.9,
          25.9,
          25.9,
          25.9,
          62.9,
          83.9,
          25.9,
          25.9,
          25.9,
          25.9,
          25.9,
          25.9,
          25.9,
          25.9,
          29.9,
          25.9,
          25.9,
          25.9,
          25.9,
          25.9,
          25.9,
          25.9,
          25.9,
          29.9,
          25.9,
          25.9,
          25.9,
          35.9,
          25.9,
          56.9,
          35.9,
          50.9,
          25.9,
          25.9,
          25.9,
          25.9,
          25.9,
          35.9,
          50.9,
          62.9,
          61.9,
          56.9,
          35.9,
          70.9,
          25.9,
          25.9,
          29.9,
          62.9,
          83.9,
          25.9,
          25.9,
          29.9,
          25.9,
          29.9,
          25.9,
          25.9,
          54.9,
          69.9,
          29.9,
          54.9,
          25.9,
          29.9,
          50.9,
          25.9,
          25.9,
          50.9,
          42.9,
          50.9,
          35.9,
          56.9,
          50.9,
          62.9,
          62.9,
          64.9,
          62.9,
          59.9,
          56.9,
          62.9,
          64.9,
          62.9,
          69.9,
          70.9,
          56.9,
          59.9,
          83.9,
          59.9,
          70.9,
          77.9,
          83.9,
          70.9,
          64.9,
          50.9,
          69.9,
          35.9,
          35.9,
          35.9,
          35.9,
          35.9,
          35.9,
          59.9,
          56.9,
          62.9,
          64.9,
          62.9,
          69.9,
          70.9,
          56.9,
          59.9,
          83.9,
          59.9,
          70.9,
          77.9,
          83.9,
          70.9,
          64.9,
          50.9,
          69.9,
          35.9,
          35.9,
          35.9,
          35.9,
          35.9,
          35.9,
          35.9,
          35.9,
          35.9,
          35.9,
          50.9,
          50.9,
          50.9,
          56.9,
          50.9,
          62.9,
          35.9,
          83.9,
          35.9,
          35.9,
          50.9,
          62.9,
          83.9,
          35.9,
          35.9,
          35.9,
          35.9,
          35.9,
          35.9,
          35.9,
          35.9,
          42.9,
          35.9,
          35.9,
          35.9,
          35.9,
          35.9,
          35.9,
          35.9,
          25.9,
          25.9,
          25.9,
          25.9,
          25.9,
          54.9,
          25.9,
          56.9,
          35.9,
          50.9,
          25.9,
          25.9,
          25.9,
          25.9,
          25.9,
          35.9,
          25.9,
          56.9,
          35.9,
          50.9,
          25.9,
          70.9,
          29.9,
          25.9,
          29.9,
          62.9,
          83.9,
          25.9,
          25.9,
          35.9,
          25.9,
          25.9,
          25.9,
          25.9,
          25.9,
          35.9,
          25.9,
          25.9,
          29.9,
          29.9,
          25.9,
          25.9,
          25.9,
          25.9,
          25.9,
          25.9,
          25.9,
          25.9,
          54.9,
          25.9,
          62.9,
          35.9,
          56.9,
          50.9,
          35.9,
          50.9,
          50.9,
          50.9,
          50.9,
          56.9,
          62.9,
          64.9,
          62.9,
          50.9,
          83.9,
          54.9,
          50.9,
          50.9,
          65.9,
          83.9,
          50.9,
          50.9,
          70.9,
          69.9,
          70.9,
          69.9,
          69.9,
          77.9,
          83.9,
          69.9,
          77.9,
          59.9,
          70.9,
          62.9,
          62.9,
          62.9,
          59.9,
          56.9,
          62.9,
          64.9,
          62.9,
          69.9,
          70.9,
          62.9,
          59.9,
          83.9,
          35.9,
          35.9,
          35.9,
          35.9,
          42.9,
          42.9,
          35.9,
          35.9,
          83.9,
          35.9,
          50.9,
          77.9,
          83.9,
          50.9,
          50.9,
          59.9,
          50.9,
          70.9,
          69.9,
          56.9,
          50.9,
          42.9,
          50.9,
          56.9,
          56.9,
          56.9,
          35.9,
          35.9,
          35.9,
          35.9,
          42.9,
          42.9,
          35.9,
          35.9,
          83.9,
          35.9,
          50.9,
          77.9,
          83.9,
          50.9,
          50.9,
          59.9,
          50.9,
          70.9,
          69.9,
          56.9,
          50.9,
          42.9,
          50.9,
          56.9,
          56.9,
          56.9,
          25.9,
          25.9,
          25.9,
          25.9,
          25.9,
          35.9,
          25.9,
          56.9,
          59.9,
          50.9,
          25.9,
          25.9,
          25.9,
          25.9,
          25.9,
          25.9,
          29.9,
          25.9,
          25.9,
          25.9,
          25.9,
          25.9,
          25.9,
          25.9,
          29.9,
          25.9,
          25.9,
          25.9,
          25.9,
          25.9,
          25.9,
          25.9,
          25.9,
          25.9,
          25.9,
          25.9,
          25.9,
          35.9,
          25.9,
          56.9,
          35.9,
          50.9,
          25.9,
          25.9,
          25.9,
          25.9,
          25.9,
          35.9,
          25.9,
          62.9,
          35.9,
          50.9,
          25.9,
          70.9,
          25.9,
          25.9,
          29.9,
          62.9,
          83.9,
          25.9,
          25.9,
          29.9,
          25.9,
          29.9,
          25.9,
          25.9,
          35.9,
          69.9,
          50.9,
          35.9,
          25.9,
          29.9,
          29.9,
          25.9,
          25.9,
          50.9,
          35.9,
          50.9,
          42.9,
          50.9,
          50.9,
          56.9,
          62.9,
          64.9,
          62.9,
          59.9,
          56.9,
          62.9,
          64.9,
          62.9,
          69.9,
          70.9,
          56.9,
          59.9,
          83.9,
          59.9,
          70.9,
          77.9,
          83.9,
          70.9,
          64.9,
          50.9,
          69.9,
          35.9,
          35.9,
          35.9,
          35.9,
          35.9,
          35.9,
          59.9,
          56.9,
          62.9,
          64.9,
          62.9,
          69.9,
          70.9,
          56.9,
          59.9,
          83.9,
          59.9,
          70.9,
          77.9,
          83.9,
          70.9,
          64.9,
          50.9,
          69.9,
          35.9,
          35.9,
          35.9,
          35.9,
          35.9,
          35.9,
          35.9,
          35.9,
          42.9,
          35.9,
          50.9,
          59.9,
          50.9,
          56.9,
          50.9,
          62.9,
          35.9,
          87.9,
          35.9,
          35.9,
          50.9,
          62.9,
          83.9,
          35.9,
          35.9,
          35.9,
          35.9,
          35.9,
          35.9,
          35.9,
          35.9,
          42.9,
          35.9,
          35.9,
          35.9,
          35.9,
          35.9,
          35.9,
          35.9,
          35.9,
          35.9,
          42.9,
          35.9,
          50.9,
          59.9,
          50.9,
          56.9,
          50.9,
          62.9,
          35.9,
          87.9,
          35.9,
          35.9,
          50.9,
          62.9,
          83.9,
          35.9,
          35.9,
          35.9,
          35.9,
          35.9,
          35.9,
          35.9,
          35.9,
          42.9,
          35.9,
          35.9,
          35.9,
          35.9,
          35.9,
          35.9,
          35.9,
          25.9,
          25.9,
          25.9,
          25.9,
          25.9,
          35.9,
          25.9,
          56.9,
          35.9,
          50.9,
          25.9,
          70.9,
          25.9,
          25.9,
          25.9,
          62.9,
          83.9,
          25.9,
          25.9,
          35.9,
          25.9,
          25.9,
          25.9,
          25.9,
          25.9,
          35.9,
          25.9,
          25.9,
          29.9,
          54.9,
          25.9,
          25.9,
          25.9,
          25.9,
          25.9,
          25.9,
          25.9,
          25.9,
          35.9,
          25.9,
          62.9,
          35.9,
          50.9,
          50.9,
          35.9,
          50.9,
          35.9,
          50.9,
          59.9,
          56.9,
          62.9,
          64.9,
          62.9,
          50.9,
          83.9,
          50.9,
          50.9,
          50.9,
          69.9,
          83.9,
          50.9,
          50.9,
          70.9,
          69.9,
          70.9,
          69.9,
          69.9,
          77.9,
          83.9,
          69.9,
          77.9,
          59.9,
          70.9,
          62.9,
          62.9,
          62.9,
          59.9,
          56.9,
          62.9,
          64.9,
          62.9,
          69.9,
          71.9,
          62.9,
          59.9,
          83.9,
          81,
          81,
          81,
          81,
          81,
          81,
          81,
          81,
          81,
          81,
          81,
          81,
          81,
          81,
          81,
          81,
          81,
          81,
          81,
          81,
          81,
          81,
          55.9,
          66.9,
          55.9,
          55.9,
          55.9,
          55.9,
          55.9,
          55.9,
          55.9,
          55.9,
          55.9,
          66.9,
          55.9,
          55.9,
          55.9,
          55.9,
          55.9,
          55.9,
          55.9,
          55.9,
          42.5,
          61.9,
          69.9,
          42.5,
          81,
          81,
          81,
          81,
          55.9,
          61.9,
          55.9,
          55.9,
          50.9,
          28.9,
          50.9,
          28.9,
          19.9,
          55.9,
          66.9,
          55.9,
          19.9,
          55.9,
          66.9,
          55.9,
          46.9,
          55.9,
          66.9,
          55.9,
          55.9,
          42.5,
          55.9,
          66.9,
          61.9,
          55.9,
          40.9,
          42.5,
          40.9,
          61.9,
          57.9,
          55.9,
          55.9,
          61.9,
          55.9,
          55.9,
          28.9,
          50.9,
          28.9,
          19.9,
          24.9,
          24.9,
          42.9,
          19.9,
          24.9,
          55.9,
          66.9,
          55.9,
          46.9,
          55.9,
          66.9,
          55.9,
          55.9,
          42.5,
          55.9,
          66.9,
          42.5,
          40.9,
          61.9,
          57.9,
          55.9,
          50.9,
          55.9,
          55.9,
          61.9,
          55.9,
          55.9,
          28.9,
          50.9,
          28.9,
          19.9,
          24.9,
          24.9,
          24.9,
          19.9,
          28.9,
          55.9,
          28.9,
          46.9,
          55.9,
          66.9,
          55.9,
          55.9,
          55.9,
          42.5,
          55.9,
          66.9,
          42.5,
          40.9,
          61.9,
          57.9,
          55.9,
          55.9,
          61.9,
          55.9,
          55.9,
          28.9,
          50.9,
          28.9,
          19.9,
          24.9,
          24.9,
          28.9,
          19.9,
          28.9,
          66.9,
          55.9,
          46.9,
          55.9,
          66.9,
          55.9,
          55.9,
          61,
          61,
          61,
          61,
          61,
          61,
          61,
          61,
          61,
          61,
          13.9,
          31.9,
          13.9,
          31.9,
          13.9,
          14.9,
          34.9,
          31.9,
          34.9,
          14.9,
          14.9,
          41.9,
          31.9,
          14.9,
          61,
          61,
          61,
          61,
          61,
          45.9,
          49.9,
          19.9,
          41.9,
          37.9,
          13.9,
          15.9,
          13.9,
          18.9,
          13.9,
          13.9,
          15.9,
          13.9,
          13.9,
          13.9,
          13.9,
          31.9,
          13.9,
          31.9,
          13.9,
          14.9,
          34.9,
          31.9,
          34.9,
          31.9,
          14.9,
          41.9,
          19.9,
          14.9,
          14.9,
          31.9,
          14.9,
          37.9,
          31.9,
          31.9,
          34.9,
          14.9,
          31.9,
          31.9,
          13.9,
          15.9,
          13.9,
          31.9,
          13.9,
          13.9,
          15.9,
          13.9,
          31.9,
          13.9,
          13.9,
          15.9,
          13.9,
          31.9,
          13.9,
          14.9,
          34.9,
          31.9,
          34.9,
          31.9,
          14.9,
          41.9,
          19.9,
          14.9,
          14.9,
          31.9,
          14.9,
          37.9,
          31.9,
          14.9,
          34.9,
          14.9,
          19.9,
          31.9,
          13.9,
          15.9,
          13.9,
          13.9,
          13.9,
          13.9,
          15.9,
          13.9,
          13.9,
          13.9,
          18.9,
          31.9,
          13.9,
          31.9,
          13.9,
          14.9,
          34.9,
          31.9,
          34.9,
          14.9,
          14.9,
          41.9,
          19.9,
          14.9,
          14.9,
          31.9,
          14.9,
          37.9,
          31.9,
          13.9,
          15.9,
          13.9,
          13.9,
          13.9,
          13.9,
          15.9,
          13.9,
          13.9,
          13.9,
          13.9,
          15.9,
          13.9,
          13.9,
          13.9,
          13.9,
          15.9,
          13.9,
          31.9,
          13.9,
          14.9,
          34.9,
          31.9,
          34.9,
          31.9
         ],
         "y0": " ",
         "yaxis": "y"
        },
        {
         "alignmentgroup": "True",
         "hovertemplate": "travel_mean=plane<br>travel=%{x}<br>price=%{y}<extra></extra>",
         "legendgroup": "plane",
         "marker": {
          "color": "rgb(29, 105, 150)"
         },
         "name": "plane",
         "notched": false,
         "offsetgroup": "plane",
         "orientation": "v",
         "showlegend": true,
         "type": "box",
         "x": [
          "Venice-Naples",
          "Venice-Naples",
          "Venice-Naples",
          "Milan-Bari",
          "Milan-Bari",
          "Milan-Bari",
          "Milan-Bari",
          "Milan-Bari",
          "Milan-Pescara",
          "Milan-Pescara",
          "Rome-Bari",
          "Rome-Bari",
          "Venice-Naples",
          "Venice-Naples",
          "Venice-Naples",
          "Venice-Bari",
          "Venice-Bari",
          "Milan-Naples",
          "Milan-Naples",
          "Milan-Naples",
          "Milan-Naples",
          "Milan-Naples",
          "Milan-Naples",
          "Venice-Naples",
          "Venice-Naples",
          "Venice-Naples",
          "Milan-Bari",
          "Milan-Bari",
          "Milan-Bari",
          "Milan-Bari",
          "Milan-Bari",
          "Milan-Naples",
          "Milan-Naples",
          "Milan-Naples",
          "Milan-Naples",
          "Milan-Naples",
          "Milan-Pescara",
          "Milan-Pescara",
          "Venice-Naples",
          "Venice-Naples",
          "Venice-Naples",
          "Venice-Bari",
          "Venice-Bari",
          "Rome-Bari",
          "Rome-Bari",
          "Rome-Bari",
          "Venice-Naples",
          "Venice-Naples",
          "Venice-Naples",
          "Venice-Bari",
          "Venice-Bari",
          "Milan-Naples",
          "Milan-Naples",
          "Milan-Naples",
          "Milan-Naples",
          "Milan-Naples",
          "Milan-Naples",
          "Milan-Pescara",
          "Rome-Bari",
          "Rome-Bari",
          "Rome-Bari",
          "Venice-Naples",
          "Venice-Naples",
          "Venice-Naples",
          "Venice-Bari",
          "Venice-Bari",
          "Milan-Bari",
          "Milan-Bari",
          "Milan-Bari",
          "Milan-Bari",
          "Milan-Bari",
          "Milan-Pescara",
          "Venice-Naples",
          "Venice-Naples",
          "Venice-Naples",
          "Venice-Bari",
          "Venice-Bari",
          "Milan-Naples",
          "Milan-Naples",
          "Milan-Naples",
          "Milan-Naples",
          "Milan-Naples",
          "Milan-Naples",
          "Milan-Pescara",
          "Milan-Pescara",
          "Rome-Bari",
          "Rome-Bari",
          "Rome-Bari",
          "Rome-Bari",
          "Venice-Naples",
          "Venice-Naples",
          "Venice-Naples",
          "Rome-Bari",
          "Rome-Bari",
          "Rome-Bari",
          "Rome-Bari",
          "Venice-Bari",
          "Venice-Bari",
          "Milan-Bari",
          "Milan-Bari",
          "Milan-Bari",
          "Milan-Bari",
          "Milan-Bari",
          "Milan-Naples",
          "Milan-Naples",
          "Milan-Naples",
          "Milan-Naples",
          "Milan-Naples",
          "Milan-Naples",
          "Milan-Naples",
          "Milan-Pescara",
          "Venice-Naples",
          "Venice-Naples",
          "Venice-Naples",
          "Milan-Pescara",
          "Venice-Naples",
          "Venice-Naples",
          "Venice-Naples",
          "Venice-Bari",
          "Milan-Bari",
          "Milan-Bari",
          "Milan-Bari",
          "Milan-Bari",
          "Milan-Bari",
          "Milan-Pescara",
          "Milan-Pescara",
          "Rome-Bari",
          "Rome-Bari",
          "Rome-Bari",
          "Venice-Naples",
          "Venice-Naples",
          "Venice-Naples",
          "Milan-Bari",
          "Milan-Bari",
          "Milan-Bari",
          "Milan-Bari",
          "Milan-Bari",
          "Milan-Bari",
          "Milan-Naples",
          "Milan-Naples",
          "Milan-Naples",
          "Milan-Naples",
          "Milan-Naples",
          "Milan-Naples",
          "Milan-Naples",
          "Milan-Pescara",
          "Milan-Pescara",
          "Milan-Naples",
          "Milan-Naples",
          "Milan-Naples",
          "Milan-Naples",
          "Milan-Naples",
          "Milan-Naples",
          "Milan-Naples",
          "Venice-Naples",
          "Venice-Naples",
          "Venice-Bari",
          "Venice-Bari",
          "Milan-Bari",
          "Milan-Bari",
          "Milan-Bari",
          "Milan-Bari",
          "Milan-Bari",
          "Milan-Pescara",
          "Milan-Pescara",
          "Rome-Bari",
          "Rome-Bari",
          "Venice-Naples",
          "Venice-Naples",
          "Venice-Naples",
          "Milan-Bari",
          "Milan-Bari",
          "Milan-Bari",
          "Milan-Bari",
          "Milan-Bari",
          "Milan-Naples",
          "Milan-Naples",
          "Milan-Naples",
          "Milan-Naples",
          "Milan-Naples",
          "Milan-Naples",
          "Rome-Bari",
          "Rome-Bari",
          "Venice-Naples",
          "Venice-Naples",
          "Venice-Naples",
          "Venice-Bari",
          "Venice-Bari",
          "Milan-Bari",
          "Milan-Bari",
          "Milan-Bari",
          "Milan-Bari",
          "Milan-Bari",
          "Milan-Bari",
          "Milan-Naples",
          "Milan-Naples",
          "Milan-Naples",
          "Milan-Naples",
          "Milan-Naples",
          "Rome-Bari",
          "Rome-Bari",
          "Rome-Bari",
          "Venice-Naples",
          "Venice-Naples",
          "Venice-Naples",
          "Milan-Bari",
          "Milan-Bari",
          "Milan-Bari",
          "Milan-Bari",
          "Milan-Bari",
          "Milan-Bari",
          "Milan-Pescara",
          "Milan-Pescara",
          "Venice-Naples",
          "Venice-Naples",
          "Venice-Naples",
          "Milan-Bari",
          "Milan-Bari",
          "Milan-Bari",
          "Milan-Bari",
          "Milan-Bari",
          "Milan-Naples",
          "Milan-Naples",
          "Milan-Naples",
          "Milan-Naples",
          "Milan-Naples",
          "Milan-Naples",
          "Venice-Naples",
          "Venice-Naples",
          "Venice-Naples",
          "Milan-Bari",
          "Milan-Bari",
          "Milan-Bari",
          "Milan-Bari",
          "Milan-Bari",
          "Milan-Pescara",
          "Venice-Bari",
          "Milan-Naples",
          "Milan-Naples",
          "Milan-Naples",
          "Milan-Naples",
          "Milan-Naples",
          "Milan-Naples",
          "Milan-Pescara",
          "Milan-Pescara",
          "Venice-Naples",
          "Venice-Naples",
          "Venice-Naples",
          "Venice-Bari",
          "Venice-Bari",
          "Milan-Bari",
          "Milan-Bari",
          "Milan-Bari",
          "Milan-Bari",
          "Milan-Bari",
          "Milan-Naples",
          "Milan-Naples",
          "Milan-Naples",
          "Milan-Naples",
          "Milan-Naples",
          "Milan-Naples",
          "Milan-Pescara",
          "Milan-Pescara",
          "Venice-Naples",
          "Venice-Naples",
          "Venice-Naples",
          "Milan-Naples",
          "Milan-Naples",
          "Milan-Naples",
          "Milan-Naples",
          "Milan-Naples",
          "Milan-Naples",
          "Milan-Naples",
          "Milan-Pescara",
          "Venice-Naples",
          "Venice-Naples",
          "Venice-Naples",
          "Milan-Bari",
          "Milan-Bari",
          "Milan-Bari",
          "Milan-Bari",
          "Milan-Bari",
          "Venice-Naples",
          "Venice-Naples",
          "Venice-Naples",
          "Milan-Bari",
          "Milan-Bari",
          "Milan-Bari",
          "Milan-Bari",
          "Milan-Bari",
          "Milan-Naples",
          "Milan-Naples",
          "Milan-Naples",
          "Milan-Naples",
          "Milan-Naples",
          "Milan-Naples",
          "Milan-Pescara",
          "Milan-Pescara",
          "Rome-Bari",
          "Rome-Bari",
          "Rome-Bari",
          "Venice-Naples",
          "Venice-Naples",
          "Venice-Naples",
          "Venice-Bari",
          "Milan-Pescara",
          "Milan-Pescara",
          "Rome-Bari",
          "Rome-Bari",
          "Rome-Bari",
          "Venice-Naples",
          "Venice-Naples",
          "Venice-Naples",
          "Milan-Bari",
          "Milan-Bari",
          "Milan-Bari",
          "Milan-Bari",
          "Milan-Bari",
          "Milan-Bari",
          "Milan-Naples",
          "Milan-Naples",
          "Milan-Naples",
          "Milan-Naples",
          "Milan-Naples",
          "Milan-Naples",
          "Milan-Naples",
          "Rome-Bari",
          "Rome-Bari",
          "Rome-Bari",
          "Rome-Bari",
          "Venice-Bari",
          "Venice-Bari",
          "Milan-Bari",
          "Milan-Bari",
          "Milan-Bari",
          "Milan-Bari",
          "Milan-Bari",
          "Milan-Bari",
          "Milan-Naples",
          "Milan-Naples",
          "Milan-Naples",
          "Milan-Naples",
          "Milan-Naples",
          "Milan-Naples",
          "Milan-Naples",
          "Rome-Bari",
          "Rome-Bari",
          "Rome-Bari",
          "Rome-Bari",
          "Venice-Naples",
          "Venice-Naples",
          "Venice-Naples",
          "Milan-Naples",
          "Milan-Naples",
          "Milan-Naples",
          "Milan-Naples",
          "Milan-Naples",
          "Milan-Naples",
          "Milan-Pescara",
          "Milan-Pescara",
          "Milan-Bari",
          "Milan-Bari",
          "Milan-Bari",
          "Milan-Bari",
          "Milan-Bari",
          "Milan-Pescara",
          "Milan-Pescara",
          "Rome-Bari",
          "Venice-Bari",
          "Venice-Bari",
          "Rome-Bari",
          "Rome-Bari",
          "Rome-Bari",
          "Rome-Bari",
          "Venice-Naples",
          "Venice-Naples",
          "Venice-Naples",
          "Venice-Naples",
          "Venice-Naples",
          "Venice-Naples",
          "Venice-Bari",
          "Venice-Bari",
          "Milan-Bari",
          "Milan-Bari",
          "Milan-Bari",
          "Milan-Bari",
          "Milan-Bari",
          "Venice-Naples",
          "Venice-Naples",
          "Venice-Naples",
          "Venice-Bari",
          "Venice-Bari",
          "Milan-Pescara",
          "Rome-Bari",
          "Rome-Bari",
          "Rome-Bari",
          "Milan-Pescara",
          "Rome-Bari",
          "Rome-Bari",
          "Rome-Bari",
          "Venice-Naples",
          "Venice-Naples",
          "Venice-Naples",
          "Milan-Bari",
          "Milan-Bari",
          "Milan-Bari",
          "Milan-Bari",
          "Milan-Bari",
          "Milan-Naples",
          "Milan-Naples",
          "Milan-Naples",
          "Milan-Naples",
          "Milan-Naples",
          "Milan-Naples",
          "Milan-Pescara",
          "Milan-Pescara",
          "Rome-Bari",
          "Rome-Bari",
          "Rome-Bari",
          "Venice-Naples",
          "Venice-Naples",
          "Venice-Naples",
          "Rome-Bari",
          "Rome-Bari",
          "Rome-Bari",
          "Venice-Naples",
          "Venice-Naples",
          "Venice-Naples",
          "Milan-Naples",
          "Milan-Naples",
          "Milan-Naples",
          "Milan-Naples",
          "Milan-Naples",
          "Milan-Naples",
          "Milan-Pescara",
          "Milan-Pescara",
          "Rome-Bari",
          "Rome-Bari",
          "Rome-Bari",
          "Venice-Naples",
          "Venice-Naples",
          "Venice-Naples",
          "Milan-Naples",
          "Milan-Naples",
          "Milan-Naples",
          "Milan-Naples",
          "Milan-Naples",
          "Milan-Naples",
          "Venice-Naples",
          "Venice-Naples",
          "Venice-Naples",
          "Venice-Bari",
          "Venice-Bari",
          "Milan-Pescara",
          "Milan-Pescara",
          "Venice-Naples",
          "Venice-Naples",
          "Venice-Naples",
          "Milan-Pescara",
          "Milan-Pescara",
          "Rome-Bari",
          "Rome-Bari",
          "Rome-Bari",
          "Rome-Bari",
          "Venice-Naples",
          "Venice-Naples",
          "Venice-Naples",
          "Venice-Bari",
          "Venice-Bari",
          "Milan-Bari",
          "Milan-Bari",
          "Milan-Bari",
          "Milan-Bari",
          "Milan-Bari",
          "Milan-Naples",
          "Milan-Naples",
          "Milan-Naples",
          "Milan-Naples",
          "Milan-Naples",
          "Milan-Naples",
          "Venice-Naples",
          "Venice-Naples",
          "Venice-Naples",
          "Venice-Bari",
          "Venice-Bari",
          "Rome-Bari",
          "Rome-Bari",
          "Venice-Naples",
          "Venice-Naples",
          "Venice-Naples",
          "Venice-Bari",
          "Venice-Bari",
          "Rome-Bari",
          "Rome-Bari",
          "Rome-Bari",
          "Venice-Naples",
          "Venice-Naples",
          "Venice-Naples",
          "Milan-Pescara",
          "Milan-Pescara"
         ],
         "x0": " ",
         "xaxis": "x",
         "y": [
          66.54,
          42.89,
          49.16,
          45.46,
          38.05,
          39.44,
          31.89,
          34.09,
          34.09,
          34.09,
          37.17,
          27.49,
          66.54,
          42.89,
          49.16,
          99.13,
          34.09,
          39.89,
          54.2,
          39.59,
          39.59,
          34.09,
          34.09,
          58.29,
          76.36,
          58.29,
          34.09,
          27.49,
          34.09,
          39.59,
          32.44,
          34.09,
          34.09,
          39.44,
          34.09,
          34.09,
          34.09,
          34.09,
          58.29,
          76.36,
          58.29,
          53.89,
          53.89,
          27.49,
          27.49,
          27.49,
          147.39,
          147.39,
          108.89,
          139.69,
          139.69,
          34.09,
          46.19,
          39.59,
          53.05,
          45.46,
          61.09,
          34.09,
          27.49,
          27.49,
          27.49,
          147.39,
          147.39,
          108.89,
          139.69,
          139.69,
          51.76,
          63.79,
          52.35,
          46.19,
          45.09,
          34.09,
          147.39,
          79.19,
          147.39,
          139.69,
          139.69,
          53.64,
          72.3,
          61.09,
          34.09,
          34.09,
          34.09,
          34.09,
          34.09,
          27.49,
          27.49,
          27.49,
          27.49,
          147.39,
          79.19,
          147.39,
          27.49,
          27.49,
          27.49,
          27.49,
          74.79,
          74.79,
          34.09,
          27.49,
          63.05,
          53.64,
          52.95,
          39.59,
          34.09,
          34.09,
          34.09,
          39.59,
          34.09,
          34.09,
          34.09,
          58.29,
          79.19,
          79.19,
          34.09,
          42.89,
          42.89,
          58.29,
          113.3,
          46.19,
          39.44,
          72.7,
          63.79,
          37.39,
          34.09,
          34.09,
          27.49,
          27.49,
          32.44,
          37.39,
          37.39,
          37.39,
          39.59,
          45.96,
          72.7,
          27.49,
          34.09,
          27.49,
          34.09,
          34.09,
          34.09,
          34.09,
          34.09,
          45.46,
          34.09,
          34.09,
          34.09,
          34.09,
          34.09,
          34.09,
          34.09,
          34.09,
          45.46,
          34.09,
          37.39,
          37.39,
          34.09,
          34.09,
          44.98,
          27.49,
          34.09,
          37.39,
          34.09,
          34.09,
          34.09,
          27.49,
          27.49,
          37.39,
          37.39,
          37.39,
          44.98,
          27.49,
          34.09,
          37.39,
          34.09,
          34.09,
          45.46,
          34.09,
          34.09,
          34.09,
          34.09,
          27.49,
          27.49,
          77.46,
          59.39,
          59.39,
          54.99,
          54.99,
          39.44,
          37.61,
          39.59,
          34.09,
          32.03,
          46.19,
          53.89,
          46.44,
          39.89,
          34.09,
          45.46,
          27.49,
          27.49,
          27.49,
          77.46,
          59.39,
          59.39,
          39.44,
          37.61,
          39.59,
          34.09,
          32.03,
          46.19,
          34.09,
          34.09,
          108.89,
          108.89,
          79.19,
          44.19,
          53.05,
          43.66,
          73.72,
          45.09,
          46.19,
          73.02,
          39.59,
          61.09,
          46.19,
          52.49,
          108.89,
          108.89,
          79.19,
          44.19,
          53.05,
          43.66,
          73.72,
          45.09,
          34.09,
          102.29,
          54.2,
          62.4,
          45.46,
          34.09,
          34.09,
          34.09,
          34.09,
          62.4,
          108.89,
          108.89,
          108.89,
          102.29,
          102.29,
          53.64,
          44.19,
          44.98,
          31.89,
          34.09,
          54.2,
          62.4,
          45.46,
          34.09,
          34.09,
          34.09,
          34.09,
          62.4,
          80.29,
          80.29,
          80.29,
          47.06,
          35.19,
          35.19,
          35.19,
          35.19,
          35.19,
          35.19,
          35.19,
          80.29,
          80.29,
          80.29,
          40.1,
          33.54,
          35.19,
          40.1,
          53.45,
          58.29,
          58.29,
          58.29,
          47.29,
          40.69,
          54.66,
          64.15,
          53.89,
          74.82,
          46.56,
          40.1,
          46.56,
          35.19,
          46.08,
          35.19,
          35.19,
          27.49,
          36.74,
          53.56,
          58.29,
          58.29,
          58.29,
          53.89,
          35.19,
          35.19,
          27.49,
          36.74,
          53.56,
          67.23,
          37.39,
          37.39,
          44.98,
          34.09,
          36.74,
          27.49,
          34.09,
          37.17,
          34.09,
          34.09,
          34.09,
          34.09,
          34.09,
          34.09,
          34.09,
          27.49,
          27.49,
          27.49,
          27.49,
          34.09,
          63.79,
          44.98,
          34.09,
          36.74,
          27.49,
          34.09,
          37.17,
          34.09,
          34.09,
          34.09,
          34.09,
          34.09,
          34.09,
          34.09,
          27.49,
          27.49,
          27.49,
          27.49,
          37.39,
          37.39,
          37.39,
          34.09,
          34.09,
          34.09,
          34.09,
          34.09,
          34.09,
          34.09,
          34.09,
          34.09,
          32.03,
          39,
          37.39,
          34.09,
          34.09,
          34.09,
          27.49,
          102.29,
          102.29,
          27.49,
          44.7,
          27.49,
          27.49,
          108.89,
          147.39,
          108.89,
          79.19,
          79.19,
          79.19,
          74.79,
          97.38,
          44.98,
          44.7,
          39.59,
          46.19,
          43.66,
          79.19,
          79.19,
          79.19,
          74.79,
          97.38,
          34.09,
          27.49,
          43.14,
          53.56,
          34.09,
          36.74,
          27.49,
          37.17,
          58.29,
          58.29,
          58.29,
          39.59,
          45.96,
          37.61,
          63.05,
          37.39,
          34.09,
          34.09,
          39.44,
          34.09,
          44.98,
          39.44,
          34.09,
          34.09,
          36.74,
          27.49,
          37.17,
          79.19,
          79.19,
          79.19,
          27.49,
          37.17,
          31.89,
          58.29,
          76.36,
          58.29,
          34.09,
          34.09,
          34.09,
          34.09,
          34.09,
          39.44,
          34.09,
          34.09,
          32.86,
          27.49,
          27.49,
          58.29,
          76.36,
          58.29,
          34.09,
          34.09,
          34.09,
          34.09,
          34.09,
          39.44,
          37.39,
          37.39,
          37.39,
          34.09,
          34.09,
          34.09,
          34.09,
          37.39,
          37.39,
          37.39,
          34.09,
          34.09,
          27.49,
          27.49,
          27.49,
          32.44,
          50.2,
          37.39,
          37.39,
          45.46,
          34.09,
          39,
          45.09,
          34.09,
          52.79,
          63.79,
          34.09,
          34.09,
          34.09,
          39.59,
          46.19,
          53.64,
          50.2,
          37.39,
          37.39,
          45.46,
          34.09,
          27.49,
          27.49,
          58.29,
          65.86,
          58.29,
          61.09,
          53.89,
          27.49,
          43.14,
          31.89,
          58.29,
          65.86,
          58.29,
          34.09,
          44.98
         ],
         "y0": " ",
         "yaxis": "y"
        }
       ],
       "layout": {
        "boxmode": "group",
        "legend": {
         "title": {
          "text": "travel_mean"
         },
         "tracegroupgap": 0
        },
        "margin": {
         "t": 60
        },
        "template": {
         "data": {
          "bar": [
           {
            "error_x": {
             "color": "#2a3f5f"
            },
            "error_y": {
             "color": "#2a3f5f"
            },
            "marker": {
             "line": {
              "color": "#E5ECF6",
              "width": 0.5
             },
             "pattern": {
              "fillmode": "overlay",
              "size": 10,
              "solidity": 0.2
             }
            },
            "type": "bar"
           }
          ],
          "barpolar": [
           {
            "marker": {
             "line": {
              "color": "#E5ECF6",
              "width": 0.5
             },
             "pattern": {
              "fillmode": "overlay",
              "size": 10,
              "solidity": 0.2
             }
            },
            "type": "barpolar"
           }
          ],
          "carpet": [
           {
            "aaxis": {
             "endlinecolor": "#2a3f5f",
             "gridcolor": "white",
             "linecolor": "white",
             "minorgridcolor": "white",
             "startlinecolor": "#2a3f5f"
            },
            "baxis": {
             "endlinecolor": "#2a3f5f",
             "gridcolor": "white",
             "linecolor": "white",
             "minorgridcolor": "white",
             "startlinecolor": "#2a3f5f"
            },
            "type": "carpet"
           }
          ],
          "choropleth": [
           {
            "colorbar": {
             "outlinewidth": 0,
             "ticks": ""
            },
            "type": "choropleth"
           }
          ],
          "contour": [
           {
            "colorbar": {
             "outlinewidth": 0,
             "ticks": ""
            },
            "colorscale": [
             [
              0,
              "#0d0887"
             ],
             [
              0.1111111111111111,
              "#46039f"
             ],
             [
              0.2222222222222222,
              "#7201a8"
             ],
             [
              0.3333333333333333,
              "#9c179e"
             ],
             [
              0.4444444444444444,
              "#bd3786"
             ],
             [
              0.5555555555555556,
              "#d8576b"
             ],
             [
              0.6666666666666666,
              "#ed7953"
             ],
             [
              0.7777777777777778,
              "#fb9f3a"
             ],
             [
              0.8888888888888888,
              "#fdca26"
             ],
             [
              1,
              "#f0f921"
             ]
            ],
            "type": "contour"
           }
          ],
          "contourcarpet": [
           {
            "colorbar": {
             "outlinewidth": 0,
             "ticks": ""
            },
            "type": "contourcarpet"
           }
          ],
          "heatmap": [
           {
            "colorbar": {
             "outlinewidth": 0,
             "ticks": ""
            },
            "colorscale": [
             [
              0,
              "#0d0887"
             ],
             [
              0.1111111111111111,
              "#46039f"
             ],
             [
              0.2222222222222222,
              "#7201a8"
             ],
             [
              0.3333333333333333,
              "#9c179e"
             ],
             [
              0.4444444444444444,
              "#bd3786"
             ],
             [
              0.5555555555555556,
              "#d8576b"
             ],
             [
              0.6666666666666666,
              "#ed7953"
             ],
             [
              0.7777777777777778,
              "#fb9f3a"
             ],
             [
              0.8888888888888888,
              "#fdca26"
             ],
             [
              1,
              "#f0f921"
             ]
            ],
            "type": "heatmap"
           }
          ],
          "heatmapgl": [
           {
            "colorbar": {
             "outlinewidth": 0,
             "ticks": ""
            },
            "colorscale": [
             [
              0,
              "#0d0887"
             ],
             [
              0.1111111111111111,
              "#46039f"
             ],
             [
              0.2222222222222222,
              "#7201a8"
             ],
             [
              0.3333333333333333,
              "#9c179e"
             ],
             [
              0.4444444444444444,
              "#bd3786"
             ],
             [
              0.5555555555555556,
              "#d8576b"
             ],
             [
              0.6666666666666666,
              "#ed7953"
             ],
             [
              0.7777777777777778,
              "#fb9f3a"
             ],
             [
              0.8888888888888888,
              "#fdca26"
             ],
             [
              1,
              "#f0f921"
             ]
            ],
            "type": "heatmapgl"
           }
          ],
          "histogram": [
           {
            "marker": {
             "pattern": {
              "fillmode": "overlay",
              "size": 10,
              "solidity": 0.2
             }
            },
            "type": "histogram"
           }
          ],
          "histogram2d": [
           {
            "colorbar": {
             "outlinewidth": 0,
             "ticks": ""
            },
            "colorscale": [
             [
              0,
              "#0d0887"
             ],
             [
              0.1111111111111111,
              "#46039f"
             ],
             [
              0.2222222222222222,
              "#7201a8"
             ],
             [
              0.3333333333333333,
              "#9c179e"
             ],
             [
              0.4444444444444444,
              "#bd3786"
             ],
             [
              0.5555555555555556,
              "#d8576b"
             ],
             [
              0.6666666666666666,
              "#ed7953"
             ],
             [
              0.7777777777777778,
              "#fb9f3a"
             ],
             [
              0.8888888888888888,
              "#fdca26"
             ],
             [
              1,
              "#f0f921"
             ]
            ],
            "type": "histogram2d"
           }
          ],
          "histogram2dcontour": [
           {
            "colorbar": {
             "outlinewidth": 0,
             "ticks": ""
            },
            "colorscale": [
             [
              0,
              "#0d0887"
             ],
             [
              0.1111111111111111,
              "#46039f"
             ],
             [
              0.2222222222222222,
              "#7201a8"
             ],
             [
              0.3333333333333333,
              "#9c179e"
             ],
             [
              0.4444444444444444,
              "#bd3786"
             ],
             [
              0.5555555555555556,
              "#d8576b"
             ],
             [
              0.6666666666666666,
              "#ed7953"
             ],
             [
              0.7777777777777778,
              "#fb9f3a"
             ],
             [
              0.8888888888888888,
              "#fdca26"
             ],
             [
              1,
              "#f0f921"
             ]
            ],
            "type": "histogram2dcontour"
           }
          ],
          "mesh3d": [
           {
            "colorbar": {
             "outlinewidth": 0,
             "ticks": ""
            },
            "type": "mesh3d"
           }
          ],
          "parcoords": [
           {
            "line": {
             "colorbar": {
              "outlinewidth": 0,
              "ticks": ""
             }
            },
            "type": "parcoords"
           }
          ],
          "pie": [
           {
            "automargin": true,
            "type": "pie"
           }
          ],
          "scatter": [
           {
            "fillpattern": {
             "fillmode": "overlay",
             "size": 10,
             "solidity": 0.2
            },
            "type": "scatter"
           }
          ],
          "scatter3d": [
           {
            "line": {
             "colorbar": {
              "outlinewidth": 0,
              "ticks": ""
             }
            },
            "marker": {
             "colorbar": {
              "outlinewidth": 0,
              "ticks": ""
             }
            },
            "type": "scatter3d"
           }
          ],
          "scattercarpet": [
           {
            "marker": {
             "colorbar": {
              "outlinewidth": 0,
              "ticks": ""
             }
            },
            "type": "scattercarpet"
           }
          ],
          "scattergeo": [
           {
            "marker": {
             "colorbar": {
              "outlinewidth": 0,
              "ticks": ""
             }
            },
            "type": "scattergeo"
           }
          ],
          "scattergl": [
           {
            "marker": {
             "colorbar": {
              "outlinewidth": 0,
              "ticks": ""
             }
            },
            "type": "scattergl"
           }
          ],
          "scattermapbox": [
           {
            "marker": {
             "colorbar": {
              "outlinewidth": 0,
              "ticks": ""
             }
            },
            "type": "scattermapbox"
           }
          ],
          "scatterpolar": [
           {
            "marker": {
             "colorbar": {
              "outlinewidth": 0,
              "ticks": ""
             }
            },
            "type": "scatterpolar"
           }
          ],
          "scatterpolargl": [
           {
            "marker": {
             "colorbar": {
              "outlinewidth": 0,
              "ticks": ""
             }
            },
            "type": "scatterpolargl"
           }
          ],
          "scatterternary": [
           {
            "marker": {
             "colorbar": {
              "outlinewidth": 0,
              "ticks": ""
             }
            },
            "type": "scatterternary"
           }
          ],
          "surface": [
           {
            "colorbar": {
             "outlinewidth": 0,
             "ticks": ""
            },
            "colorscale": [
             [
              0,
              "#0d0887"
             ],
             [
              0.1111111111111111,
              "#46039f"
             ],
             [
              0.2222222222222222,
              "#7201a8"
             ],
             [
              0.3333333333333333,
              "#9c179e"
             ],
             [
              0.4444444444444444,
              "#bd3786"
             ],
             [
              0.5555555555555556,
              "#d8576b"
             ],
             [
              0.6666666666666666,
              "#ed7953"
             ],
             [
              0.7777777777777778,
              "#fb9f3a"
             ],
             [
              0.8888888888888888,
              "#fdca26"
             ],
             [
              1,
              "#f0f921"
             ]
            ],
            "type": "surface"
           }
          ],
          "table": [
           {
            "cells": {
             "fill": {
              "color": "#EBF0F8"
             },
             "line": {
              "color": "white"
             }
            },
            "header": {
             "fill": {
              "color": "#C8D4E3"
             },
             "line": {
              "color": "white"
             }
            },
            "type": "table"
           }
          ]
         },
         "layout": {
          "annotationdefaults": {
           "arrowcolor": "#2a3f5f",
           "arrowhead": 0,
           "arrowwidth": 1
          },
          "autotypenumbers": "strict",
          "coloraxis": {
           "colorbar": {
            "outlinewidth": 0,
            "ticks": ""
           }
          },
          "colorscale": {
           "diverging": [
            [
             0,
             "#8e0152"
            ],
            [
             0.1,
             "#c51b7d"
            ],
            [
             0.2,
             "#de77ae"
            ],
            [
             0.3,
             "#f1b6da"
            ],
            [
             0.4,
             "#fde0ef"
            ],
            [
             0.5,
             "#f7f7f7"
            ],
            [
             0.6,
             "#e6f5d0"
            ],
            [
             0.7,
             "#b8e186"
            ],
            [
             0.8,
             "#7fbc41"
            ],
            [
             0.9,
             "#4d9221"
            ],
            [
             1,
             "#276419"
            ]
           ],
           "sequential": [
            [
             0,
             "#0d0887"
            ],
            [
             0.1111111111111111,
             "#46039f"
            ],
            [
             0.2222222222222222,
             "#7201a8"
            ],
            [
             0.3333333333333333,
             "#9c179e"
            ],
            [
             0.4444444444444444,
             "#bd3786"
            ],
            [
             0.5555555555555556,
             "#d8576b"
            ],
            [
             0.6666666666666666,
             "#ed7953"
            ],
            [
             0.7777777777777778,
             "#fb9f3a"
            ],
            [
             0.8888888888888888,
             "#fdca26"
            ],
            [
             1,
             "#f0f921"
            ]
           ],
           "sequentialminus": [
            [
             0,
             "#0d0887"
            ],
            [
             0.1111111111111111,
             "#46039f"
            ],
            [
             0.2222222222222222,
             "#7201a8"
            ],
            [
             0.3333333333333333,
             "#9c179e"
            ],
            [
             0.4444444444444444,
             "#bd3786"
            ],
            [
             0.5555555555555556,
             "#d8576b"
            ],
            [
             0.6666666666666666,
             "#ed7953"
            ],
            [
             0.7777777777777778,
             "#fb9f3a"
            ],
            [
             0.8888888888888888,
             "#fdca26"
            ],
            [
             1,
             "#f0f921"
            ]
           ]
          },
          "colorway": [
           "#636efa",
           "#EF553B",
           "#00cc96",
           "#ab63fa",
           "#FFA15A",
           "#19d3f3",
           "#FF6692",
           "#B6E880",
           "#FF97FF",
           "#FECB52"
          ],
          "font": {
           "color": "#2a3f5f"
          },
          "geo": {
           "bgcolor": "white",
           "lakecolor": "white",
           "landcolor": "#E5ECF6",
           "showlakes": true,
           "showland": true,
           "subunitcolor": "white"
          },
          "hoverlabel": {
           "align": "left"
          },
          "hovermode": "closest",
          "mapbox": {
           "style": "light"
          },
          "paper_bgcolor": "white",
          "plot_bgcolor": "#E5ECF6",
          "polar": {
           "angularaxis": {
            "gridcolor": "white",
            "linecolor": "white",
            "ticks": ""
           },
           "bgcolor": "#E5ECF6",
           "radialaxis": {
            "gridcolor": "white",
            "linecolor": "white",
            "ticks": ""
           }
          },
          "scene": {
           "xaxis": {
            "backgroundcolor": "#E5ECF6",
            "gridcolor": "white",
            "gridwidth": 2,
            "linecolor": "white",
            "showbackground": true,
            "ticks": "",
            "zerolinecolor": "white"
           },
           "yaxis": {
            "backgroundcolor": "#E5ECF6",
            "gridcolor": "white",
            "gridwidth": 2,
            "linecolor": "white",
            "showbackground": true,
            "ticks": "",
            "zerolinecolor": "white"
           },
           "zaxis": {
            "backgroundcolor": "#E5ECF6",
            "gridcolor": "white",
            "gridwidth": 2,
            "linecolor": "white",
            "showbackground": true,
            "ticks": "",
            "zerolinecolor": "white"
           }
          },
          "shapedefaults": {
           "line": {
            "color": "#2a3f5f"
           }
          },
          "ternary": {
           "aaxis": {
            "gridcolor": "white",
            "linecolor": "white",
            "ticks": ""
           },
           "baxis": {
            "gridcolor": "white",
            "linecolor": "white",
            "ticks": ""
           },
           "bgcolor": "#E5ECF6",
           "caxis": {
            "gridcolor": "white",
            "linecolor": "white",
            "ticks": ""
           }
          },
          "title": {
           "x": 0.05
          },
          "xaxis": {
           "automargin": true,
           "gridcolor": "white",
           "linecolor": "white",
           "ticks": "",
           "title": {
            "standoff": 15
           },
           "zerolinecolor": "white",
           "zerolinewidth": 2
          },
          "yaxis": {
           "automargin": true,
           "gridcolor": "white",
           "linecolor": "white",
           "ticks": "",
           "title": {
            "standoff": 15
           },
           "zerolinecolor": "white",
           "zerolinewidth": 2
          }
         }
        },
        "title": {
         "text": "Boîtes à moustache des prix (en euros) de chaque trajet pour chaque moyen de transport"
        },
        "xaxis": {
         "anchor": "y",
         "domain": [
          0,
          1
         ],
         "title": {
          "text": "Trajet"
         }
        },
        "yaxis": {
         "anchor": "x",
         "domain": [
          0,
          1
         ],
         "title": {
          "text": "Prix (en euros)"
         }
        }
       }
      },
      "text/html": [
       "<div>                            <div id=\"4823fe13-49e0-42af-aa6e-10179bb19ce5\" class=\"plotly-graph-div\" style=\"height:525px; width:100%;\"></div>            <script type=\"text/javascript\">                require([\"plotly\"], function(Plotly) {                    window.PLOTLYENV=window.PLOTLYENV || {};                                    if (document.getElementById(\"4823fe13-49e0-42af-aa6e-10179bb19ce5\")) {                    Plotly.newPlot(                        \"4823fe13-49e0-42af-aa6e-10179bb19ce5\",                        [{\"alignmentgroup\":\"True\",\"hovertemplate\":\"travel_mean=train<br>travel=%{x}<br>price=%{y}<extra></extra>\",\"legendgroup\":\"train\",\"marker\":{\"color\":\"rgb(95, 70, 144)\"},\"name\":\"train\",\"notched\":false,\"offsetgroup\":\"train\",\"orientation\":\"v\",\"showlegend\":true,\"x\":[\"Venice-Naples\",\"Venice-Naples\",\"Venice-Naples\",\"Venice-Naples\",\"Venice-Naples\",\"Venice-Naples\",\"Venice-Naples\",\"Venice-Naples\",\"Venice-Naples\",\"Venice-Naples\",\"Venice-Naples\",\"Venice-Naples\",\"Venice-Naples\",\"Venice-Naples\",\"Venice-Naples\",\"Venice-Naples\",\"Venice-Naples\",\"Venice-Naples\",\"Venice-Naples\",\"Venice-Naples\",\"Venice-Naples\",\"Venice-Naples\",\"Venice-Naples\",\"Venice-Naples\",\"Venice-Naples\",\"Venice-Naples\",\"Venice-Naples\",\"Venice-Naples\",\"Venice-Naples\",\"Venice-Naples\",\"Venice-Naples\",\"Venice-Naples\",\"Venice-Naples\",\"Venice-Naples\",\"Venice-Naples\",\"Venice-Naples\",\"Venice-Naples\",\"Venice-Naples\",\"Venice-Naples\",\"Venice-Naples\",\"Venice-Naples\",\"Venice-Naples\",\"Venice-Naples\",\"Venice-Naples\",\"Venice-Naples\",\"Venice-Naples\",\"Venice-Naples\",\"Venice-Naples\",\"Venice-Naples\",\"Venice-Naples\",\"Venice-Naples\",\"Venice-Naples\",\"Venice-Naples\",\"Venice-Naples\",\"Venice-Naples\",\"Venice-Naples\",\"Venice-Naples\",\"Venice-Naples\",\"Venice-Naples\",\"Venice-Naples\",\"Venice-Naples\",\"Venice-Naples\",\"Venice-Naples\",\"Venice-Naples\",\"Venice-Naples\",\"Venice-Naples\",\"Venice-Naples\",\"Venice-Naples\",\"Venice-Naples\",\"Venice-Naples\",\"Venice-Naples\",\"Venice-Naples\",\"Venice-Naples\",\"Venice-Naples\",\"Venice-Naples\",\"Venice-Naples\",\"Venice-Naples\",\"Venice-Naples\",\"Venice-Naples\",\"Venice-Naples\",\"Venice-Naples\",\"Venice-Naples\",\"Venice-Naples\",\"Venice-Naples\",\"Venice-Naples\",\"Venice-Naples\",\"Venice-Naples\",\"Venice-Naples\",\"Venice-Naples\",\"Venice-Naples\",\"Venice-Naples\",\"Venice-Naples\",\"Venice-Naples\",\"Venice-Naples\",\"Venice-Naples\",\"Venice-Naples\",\"Venice-Naples\",\"Venice-Naples\",\"Venice-Naples\",\"Venice-Naples\",\"Venice-Naples\",\"Venice-Naples\",\"Venice-Naples\",\"Venice-Naples\",\"Venice-Naples\",\"Venice-Naples\",\"Venice-Naples\",\"Venice-Naples\",\"Venice-Naples\",\"Venice-Naples\",\"Venice-Naples\",\"Venice-Naples\",\"Venice-Naples\",\"Venice-Naples\",\"Venice-Naples\",\"Venice-Naples\",\"Venice-Naples\",\"Venice-Naples\",\"Venice-Naples\",\"Venice-Naples\",\"Venice-Naples\",\"Venice-Naples\",\"Venice-Naples\",\"Venice-Naples\",\"Venice-Naples\",\"Venice-Naples\",\"Venice-Naples\",\"Venice-Naples\",\"Venice-Naples\",\"Venice-Naples\",\"Venice-Naples\",\"Venice-Naples\",\"Venice-Naples\",\"Venice-Naples\",\"Venice-Naples\",\"Venice-Naples\",\"Venice-Naples\",\"Venice-Naples\",\"Venice-Naples\",\"Venice-Naples\",\"Venice-Naples\",\"Venice-Naples\",\"Venice-Naples\",\"Venice-Naples\",\"Venice-Naples\",\"Venice-Naples\",\"Venice-Naples\",\"Venice-Naples\",\"Venice-Naples\",\"Venice-Naples\",\"Venice-Naples\",\"Venice-Naples\",\"Venice-Naples\",\"Venice-Naples\",\"Venice-Naples\",\"Venice-Naples\",\"Venice-Naples\",\"Venice-Naples\",\"Venice-Naples\",\"Venice-Naples\",\"Venice-Naples\",\"Venice-Naples\",\"Venice-Naples\",\"Venice-Naples\",\"Venice-Naples\",\"Venice-Naples\",\"Venice-Naples\",\"Venice-Naples\",\"Venice-Naples\",\"Venice-Naples\",\"Venice-Naples\",\"Venice-Naples\",\"Venice-Naples\",\"Venice-Naples\",\"Venice-Naples\",\"Venice-Naples\",\"Venice-Naples\",\"Venice-Naples\",\"Venice-Naples\",\"Venice-Naples\",\"Venice-Naples\",\"Venice-Naples\",\"Venice-Naples\",\"Venice-Naples\",\"Venice-Naples\",\"Venice-Naples\",\"Venice-Naples\",\"Venice-Naples\",\"Venice-Naples\",\"Venice-Naples\",\"Venice-Naples\",\"Venice-Naples\",\"Venice-Naples\",\"Venice-Naples\",\"Venice-Naples\",\"Venice-Naples\",\"Venice-Naples\",\"Venice-Naples\",\"Venice-Naples\",\"Venice-Naples\",\"Venice-Naples\",\"Venice-Naples\",\"Venice-Naples\",\"Venice-Naples\",\"Venice-Naples\",\"Venice-Naples\",\"Venice-Naples\",\"Venice-Naples\",\"Venice-Naples\",\"Venice-Naples\",\"Venice-Naples\",\"Venice-Naples\",\"Venice-Naples\",\"Venice-Naples\",\"Venice-Naples\",\"Venice-Naples\",\"Venice-Naples\",\"Venice-Naples\",\"Venice-Naples\",\"Venice-Naples\",\"Venice-Naples\",\"Venice-Naples\",\"Venice-Naples\",\"Venice-Naples\",\"Venice-Naples\",\"Venice-Naples\",\"Venice-Naples\",\"Venice-Naples\",\"Venice-Naples\",\"Venice-Naples\",\"Venice-Bari\",\"Venice-Bari\",\"Venice-Bari\",\"Venice-Bari\",\"Venice-Bari\",\"Venice-Bari\",\"Venice-Bari\",\"Venice-Bari\",\"Venice-Bari\",\"Venice-Bari\",\"Venice-Bari\",\"Venice-Bari\",\"Venice-Bari\",\"Venice-Bari\",\"Venice-Bari\",\"Venice-Bari\",\"Venice-Bari\",\"Venice-Bari\",\"Venice-Bari\",\"Venice-Bari\",\"Venice-Bari\",\"Venice-Bari\",\"Venice-Bari\",\"Venice-Bari\",\"Venice-Bari\",\"Venice-Bari\",\"Venice-Bari\",\"Venice-Bari\",\"Venice-Bari\",\"Venice-Bari\",\"Venice-Bari\",\"Venice-Bari\",\"Venice-Bari\",\"Venice-Bari\",\"Venice-Bari\",\"Venice-Bari\",\"Venice-Bari\",\"Venice-Bari\",\"Venice-Bari\",\"Venice-Bari\",\"Venice-Bari\",\"Venice-Bari\",\"Venice-Bari\",\"Venice-Bari\",\"Venice-Bari\",\"Venice-Bari\",\"Venice-Bari\",\"Venice-Bari\",\"Venice-Bari\",\"Venice-Bari\",\"Venice-Bari\",\"Venice-Bari\",\"Venice-Bari\",\"Venice-Bari\",\"Venice-Bari\",\"Venice-Bari\",\"Venice-Bari\",\"Venice-Bari\",\"Venice-Bari\",\"Venice-Bari\",\"Venice-Bari\",\"Venice-Bari\",\"Venice-Bari\",\"Venice-Bari\",\"Milan-Bari\",\"Milan-Bari\",\"Milan-Bari\",\"Milan-Bari\",\"Milan-Bari\",\"Milan-Bari\",\"Milan-Bari\",\"Milan-Bari\",\"Milan-Bari\",\"Milan-Bari\",\"Milan-Bari\",\"Milan-Bari\",\"Milan-Bari\",\"Milan-Bari\",\"Milan-Bari\",\"Milan-Bari\",\"Milan-Bari\",\"Milan-Bari\",\"Milan-Bari\",\"Milan-Bari\",\"Milan-Bari\",\"Milan-Bari\",\"Milan-Bari\",\"Milan-Bari\",\"Milan-Bari\",\"Milan-Bari\",\"Milan-Bari\",\"Milan-Bari\",\"Milan-Bari\",\"Milan-Bari\",\"Milan-Bari\",\"Milan-Bari\",\"Milan-Bari\",\"Milan-Bari\",\"Milan-Bari\",\"Milan-Bari\",\"Milan-Bari\",\"Milan-Bari\",\"Milan-Bari\",\"Milan-Bari\",\"Milan-Bari\",\"Milan-Bari\",\"Milan-Bari\",\"Milan-Bari\",\"Milan-Bari\",\"Milan-Bari\",\"Milan-Bari\",\"Milan-Bari\",\"Milan-Bari\",\"Milan-Bari\",\"Milan-Bari\",\"Milan-Bari\",\"Milan-Bari\",\"Milan-Bari\",\"Milan-Bari\",\"Milan-Bari\",\"Milan-Bari\",\"Milan-Bari\",\"Milan-Bari\",\"Milan-Bari\",\"Milan-Bari\",\"Milan-Bari\",\"Milan-Bari\",\"Milan-Bari\",\"Milan-Bari\",\"Milan-Bari\",\"Milan-Bari\",\"Milan-Bari\",\"Milan-Bari\",\"Milan-Bari\",\"Milan-Bari\",\"Milan-Bari\",\"Milan-Bari\",\"Milan-Bari\",\"Milan-Bari\",\"Milan-Bari\",\"Milan-Bari\",\"Milan-Bari\",\"Milan-Bari\",\"Milan-Bari\",\"Milan-Bari\",\"Milan-Bari\",\"Milan-Bari\",\"Milan-Bari\",\"Milan-Bari\",\"Milan-Bari\",\"Milan-Bari\",\"Milan-Bari\",\"Milan-Bari\",\"Milan-Bari\",\"Milan-Bari\",\"Milan-Bari\",\"Milan-Bari\",\"Milan-Bari\",\"Milan-Bari\",\"Milan-Bari\",\"Milan-Bari\",\"Milan-Bari\",\"Milan-Bari\",\"Milan-Bari\",\"Milan-Bari\",\"Milan-Bari\",\"Milan-Bari\",\"Milan-Bari\",\"Milan-Bari\",\"Milan-Bari\",\"Milan-Bari\",\"Milan-Bari\",\"Milan-Bari\",\"Milan-Bari\",\"Milan-Bari\",\"Milan-Bari\",\"Milan-Bari\",\"Milan-Bari\",\"Milan-Bari\",\"Milan-Bari\",\"Milan-Bari\",\"Milan-Bari\",\"Milan-Bari\",\"Milan-Bari\",\"Milan-Bari\",\"Milan-Bari\",\"Milan-Bari\",\"Milan-Bari\",\"Milan-Bari\",\"Milan-Bari\",\"Milan-Bari\",\"Milan-Bari\",\"Milan-Bari\",\"Milan-Bari\",\"Milan-Bari\",\"Milan-Bari\",\"Milan-Bari\",\"Milan-Bari\",\"Milan-Bari\",\"Milan-Bari\",\"Milan-Bari\",\"Milan-Bari\",\"Milan-Bari\",\"Milan-Bari\",\"Milan-Bari\",\"Milan-Bari\",\"Milan-Bari\",\"Milan-Bari\",\"Milan-Bari\",\"Milan-Bari\",\"Milan-Bari\",\"Milan-Bari\",\"Milan-Bari\",\"Milan-Bari\",\"Milan-Bari\",\"Milan-Bari\",\"Milan-Bari\",\"Milan-Bari\",\"Milan-Bari\",\"Milan-Bari\",\"Milan-Bari\",\"Milan-Bari\",\"Milan-Bari\",\"Milan-Bari\",\"Milan-Bari\",\"Milan-Bari\",\"Milan-Bari\",\"Milan-Bari\",\"Milan-Bari\",\"Milan-Bari\",\"Milan-Bari\",\"Milan-Bari\",\"Milan-Bari\",\"Milan-Bari\",\"Milan-Bari\",\"Milan-Bari\",\"Milan-Bari\",\"Milan-Bari\",\"Milan-Bari\",\"Milan-Bari\",\"Milan-Bari\",\"Milan-Bari\",\"Milan-Bari\",\"Milan-Bari\",\"Milan-Bari\",\"Milan-Bari\",\"Milan-Bari\",\"Milan-Bari\",\"Milan-Bari\",\"Milan-Bari\",\"Milan-Bari\",\"Milan-Bari\",\"Milan-Bari\",\"Milan-Bari\",\"Milan-Bari\",\"Milan-Bari\",\"Milan-Bari\",\"Milan-Bari\",\"Milan-Bari\",\"Milan-Bari\",\"Milan-Bari\",\"Milan-Bari\",\"Milan-Bari\",\"Milan-Bari\",\"Milan-Bari\",\"Milan-Bari\",\"Milan-Bari\",\"Milan-Bari\",\"Milan-Bari\",\"Milan-Bari\",\"Milan-Bari\",\"Milan-Bari\",\"Milan-Bari\",\"Milan-Bari\",\"Milan-Bari\",\"Milan-Bari\",\"Milan-Bari\",\"Milan-Bari\",\"Milan-Bari\",\"Milan-Bari\",\"Milan-Bari\",\"Milan-Bari\",\"Milan-Bari\",\"Milan-Bari\",\"Milan-Naples\",\"Milan-Naples\",\"Milan-Naples\",\"Milan-Naples\",\"Milan-Naples\",\"Milan-Naples\",\"Milan-Naples\",\"Milan-Naples\",\"Milan-Naples\",\"Milan-Naples\",\"Milan-Naples\",\"Milan-Naples\",\"Milan-Naples\",\"Milan-Naples\",\"Milan-Naples\",\"Milan-Naples\",\"Milan-Naples\",\"Milan-Naples\",\"Milan-Naples\",\"Milan-Naples\",\"Milan-Naples\",\"Milan-Naples\",\"Milan-Naples\",\"Milan-Naples\",\"Milan-Naples\",\"Milan-Naples\",\"Milan-Naples\",\"Milan-Naples\",\"Milan-Naples\",\"Milan-Naples\",\"Milan-Naples\",\"Milan-Naples\",\"Milan-Naples\",\"Milan-Naples\",\"Milan-Naples\",\"Milan-Naples\",\"Milan-Naples\",\"Milan-Naples\",\"Milan-Naples\",\"Milan-Naples\",\"Milan-Naples\",\"Milan-Naples\",\"Milan-Naples\",\"Milan-Naples\",\"Milan-Naples\",\"Milan-Naples\",\"Milan-Naples\",\"Milan-Naples\",\"Milan-Naples\",\"Milan-Naples\",\"Milan-Naples\",\"Milan-Naples\",\"Milan-Naples\",\"Milan-Naples\",\"Milan-Naples\",\"Milan-Naples\",\"Milan-Naples\",\"Milan-Naples\",\"Milan-Naples\",\"Milan-Naples\",\"Milan-Naples\",\"Milan-Naples\",\"Milan-Naples\",\"Milan-Naples\",\"Milan-Naples\",\"Milan-Naples\",\"Milan-Naples\",\"Milan-Naples\",\"Milan-Naples\",\"Milan-Naples\",\"Milan-Naples\",\"Milan-Naples\",\"Milan-Naples\",\"Milan-Naples\",\"Milan-Naples\",\"Milan-Naples\",\"Milan-Naples\",\"Milan-Naples\",\"Milan-Naples\",\"Milan-Naples\",\"Milan-Naples\",\"Milan-Naples\",\"Milan-Naples\",\"Milan-Naples\",\"Milan-Naples\",\"Milan-Naples\",\"Milan-Naples\",\"Milan-Naples\",\"Milan-Naples\",\"Milan-Naples\",\"Milan-Naples\",\"Milan-Naples\",\"Milan-Naples\",\"Milan-Naples\",\"Milan-Naples\",\"Milan-Naples\",\"Milan-Naples\",\"Milan-Naples\",\"Milan-Naples\",\"Milan-Naples\",\"Milan-Naples\",\"Milan-Naples\",\"Milan-Naples\",\"Milan-Naples\",\"Milan-Naples\",\"Milan-Naples\",\"Milan-Naples\",\"Milan-Naples\",\"Milan-Naples\",\"Milan-Naples\",\"Milan-Naples\",\"Milan-Naples\",\"Milan-Naples\",\"Milan-Naples\",\"Milan-Naples\",\"Milan-Naples\",\"Milan-Naples\",\"Milan-Naples\",\"Milan-Naples\",\"Milan-Naples\",\"Milan-Naples\",\"Milan-Naples\",\"Milan-Naples\",\"Milan-Naples\",\"Milan-Naples\",\"Milan-Naples\",\"Milan-Naples\",\"Milan-Naples\",\"Milan-Naples\",\"Milan-Naples\",\"Milan-Naples\",\"Milan-Naples\",\"Milan-Naples\",\"Milan-Naples\",\"Milan-Naples\",\"Milan-Naples\",\"Milan-Naples\",\"Milan-Naples\",\"Milan-Naples\",\"Milan-Naples\",\"Milan-Naples\",\"Milan-Naples\",\"Milan-Naples\",\"Milan-Naples\",\"Milan-Naples\",\"Milan-Naples\",\"Milan-Naples\",\"Milan-Naples\",\"Milan-Naples\",\"Milan-Naples\",\"Milan-Naples\",\"Milan-Naples\",\"Milan-Naples\",\"Milan-Naples\",\"Milan-Naples\",\"Milan-Naples\",\"Milan-Naples\",\"Milan-Naples\",\"Milan-Naples\",\"Milan-Naples\",\"Milan-Naples\",\"Milan-Naples\",\"Milan-Naples\",\"Milan-Naples\",\"Milan-Naples\",\"Milan-Naples\",\"Milan-Naples\",\"Milan-Naples\",\"Milan-Naples\",\"Milan-Naples\",\"Milan-Naples\",\"Milan-Naples\",\"Milan-Naples\",\"Milan-Naples\",\"Milan-Naples\",\"Milan-Naples\",\"Milan-Naples\",\"Milan-Naples\",\"Milan-Naples\",\"Milan-Naples\",\"Milan-Naples\",\"Milan-Naples\",\"Milan-Naples\",\"Milan-Naples\",\"Milan-Naples\",\"Milan-Naples\",\"Milan-Naples\",\"Milan-Naples\",\"Milan-Naples\",\"Milan-Naples\",\"Milan-Naples\",\"Milan-Naples\",\"Milan-Naples\",\"Milan-Naples\",\"Milan-Naples\",\"Milan-Naples\",\"Milan-Naples\",\"Milan-Naples\",\"Milan-Naples\",\"Milan-Naples\",\"Milan-Naples\",\"Milan-Naples\",\"Milan-Naples\",\"Milan-Naples\",\"Milan-Naples\",\"Milan-Naples\",\"Milan-Naples\",\"Milan-Naples\",\"Milan-Naples\",\"Milan-Naples\",\"Milan-Naples\",\"Milan-Naples\",\"Milan-Naples\",\"Milan-Naples\",\"Milan-Naples\",\"Milan-Naples\",\"Milan-Naples\",\"Milan-Naples\",\"Milan-Naples\",\"Milan-Naples\",\"Milan-Naples\",\"Milan-Naples\",\"Milan-Naples\",\"Milan-Naples\",\"Milan-Naples\",\"Milan-Naples\",\"Milan-Naples\",\"Milan-Naples\",\"Milan-Naples\",\"Milan-Naples\",\"Milan-Naples\",\"Milan-Naples\",\"Milan-Naples\",\"Milan-Naples\",\"Milan-Naples\",\"Milan-Naples\",\"Milan-Naples\",\"Milan-Naples\",\"Milan-Naples\",\"Milan-Naples\",\"Milan-Naples\",\"Milan-Naples\",\"Milan-Naples\",\"Milan-Naples\",\"Milan-Naples\",\"Milan-Naples\",\"Milan-Naples\",\"Milan-Naples\",\"Milan-Naples\",\"Milan-Naples\",\"Milan-Naples\",\"Milan-Naples\",\"Milan-Naples\",\"Milan-Naples\",\"Milan-Naples\",\"Milan-Naples\",\"Milan-Naples\",\"Milan-Naples\",\"Milan-Naples\",\"Milan-Naples\",\"Milan-Naples\",\"Milan-Naples\",\"Milan-Naples\",\"Milan-Naples\",\"Milan-Naples\",\"Milan-Naples\",\"Milan-Naples\",\"Milan-Naples\",\"Milan-Naples\",\"Milan-Naples\",\"Milan-Naples\",\"Milan-Naples\",\"Milan-Naples\",\"Milan-Naples\",\"Milan-Naples\",\"Milan-Naples\",\"Milan-Naples\",\"Milan-Naples\",\"Milan-Naples\",\"Milan-Naples\",\"Milan-Naples\",\"Milan-Naples\",\"Milan-Naples\",\"Milan-Naples\",\"Milan-Naples\",\"Milan-Naples\",\"Milan-Naples\",\"Milan-Naples\",\"Milan-Naples\",\"Milan-Naples\",\"Milan-Naples\",\"Milan-Naples\",\"Milan-Naples\",\"Milan-Naples\",\"Milan-Naples\",\"Milan-Naples\",\"Milan-Naples\",\"Milan-Naples\",\"Milan-Naples\",\"Milan-Naples\",\"Milan-Naples\",\"Milan-Naples\",\"Milan-Naples\",\"Milan-Naples\",\"Milan-Naples\",\"Milan-Naples\",\"Milan-Naples\",\"Milan-Naples\",\"Milan-Naples\",\"Milan-Naples\",\"Milan-Naples\",\"Milan-Naples\",\"Milan-Naples\",\"Milan-Naples\",\"Milan-Naples\",\"Milan-Naples\",\"Milan-Naples\",\"Milan-Naples\",\"Milan-Naples\",\"Milan-Naples\",\"Milan-Naples\",\"Milan-Naples\",\"Milan-Naples\",\"Milan-Naples\",\"Milan-Naples\",\"Milan-Naples\",\"Milan-Naples\",\"Milan-Naples\",\"Milan-Naples\",\"Milan-Naples\",\"Milan-Naples\",\"Milan-Naples\",\"Milan-Naples\",\"Milan-Naples\",\"Milan-Naples\",\"Milan-Naples\",\"Milan-Naples\",\"Milan-Naples\",\"Milan-Naples\",\"Milan-Naples\",\"Milan-Naples\",\"Milan-Naples\",\"Milan-Naples\",\"Milan-Naples\",\"Milan-Naples\",\"Milan-Naples\",\"Milan-Naples\",\"Milan-Naples\",\"Milan-Naples\",\"Milan-Naples\",\"Milan-Naples\",\"Milan-Naples\",\"Milan-Naples\",\"Milan-Naples\",\"Milan-Naples\",\"Milan-Naples\",\"Milan-Naples\",\"Milan-Naples\",\"Milan-Naples\",\"Milan-Naples\",\"Milan-Naples\",\"Milan-Naples\",\"Milan-Naples\",\"Milan-Naples\",\"Milan-Naples\",\"Milan-Naples\",\"Milan-Naples\",\"Milan-Naples\",\"Milan-Naples\",\"Milan-Naples\",\"Milan-Naples\",\"Milan-Naples\",\"Milan-Naples\",\"Milan-Naples\",\"Milan-Naples\",\"Milan-Naples\",\"Milan-Naples\",\"Milan-Naples\",\"Milan-Naples\",\"Milan-Naples\",\"Milan-Naples\",\"Milan-Naples\",\"Milan-Naples\",\"Milan-Naples\",\"Milan-Naples\",\"Milan-Naples\",\"Milan-Naples\",\"Milan-Naples\",\"Milan-Naples\",\"Milan-Naples\",\"Milan-Naples\",\"Milan-Naples\",\"Milan-Naples\",\"Milan-Naples\",\"Milan-Naples\",\"Milan-Naples\",\"Milan-Naples\",\"Milan-Naples\",\"Milan-Naples\",\"Milan-Naples\",\"Milan-Naples\",\"Milan-Naples\",\"Milan-Naples\",\"Milan-Naples\",\"Milan-Naples\",\"Milan-Naples\",\"Milan-Naples\",\"Milan-Naples\",\"Milan-Naples\",\"Milan-Naples\",\"Milan-Naples\",\"Milan-Naples\",\"Milan-Naples\",\"Milan-Naples\",\"Milan-Naples\",\"Milan-Naples\",\"Milan-Naples\",\"Milan-Naples\",\"Milan-Naples\",\"Milan-Naples\",\"Milan-Naples\",\"Milan-Naples\",\"Milan-Naples\",\"Milan-Naples\",\"Milan-Naples\",\"Milan-Naples\",\"Milan-Naples\",\"Milan-Naples\",\"Milan-Naples\",\"Milan-Naples\",\"Milan-Naples\",\"Milan-Naples\",\"Milan-Naples\",\"Milan-Naples\",\"Milan-Naples\",\"Milan-Naples\",\"Milan-Naples\",\"Milan-Naples\",\"Milan-Naples\",\"Milan-Naples\",\"Milan-Naples\",\"Milan-Naples\",\"Milan-Naples\",\"Milan-Naples\",\"Milan-Naples\",\"Milan-Naples\",\"Milan-Naples\",\"Milan-Naples\",\"Milan-Naples\",\"Milan-Naples\",\"Milan-Naples\",\"Milan-Naples\",\"Milan-Naples\",\"Milan-Naples\",\"Milan-Naples\",\"Milan-Naples\",\"Milan-Naples\",\"Milan-Naples\",\"Milan-Naples\",\"Milan-Naples\",\"Milan-Naples\",\"Milan-Naples\",\"Milan-Naples\",\"Milan-Naples\",\"Milan-Naples\",\"Milan-Naples\",\"Milan-Naples\",\"Milan-Naples\",\"Milan-Naples\",\"Milan-Naples\",\"Milan-Naples\",\"Milan-Naples\",\"Milan-Naples\",\"Milan-Naples\",\"Milan-Naples\",\"Milan-Naples\",\"Milan-Naples\",\"Milan-Naples\",\"Milan-Naples\",\"Milan-Naples\",\"Milan-Naples\",\"Milan-Naples\",\"Milan-Naples\",\"Milan-Naples\",\"Milan-Naples\",\"Milan-Naples\",\"Milan-Naples\",\"Milan-Naples\",\"Milan-Naples\",\"Milan-Naples\",\"Milan-Naples\",\"Milan-Naples\",\"Milan-Naples\",\"Milan-Naples\",\"Milan-Naples\",\"Milan-Naples\",\"Milan-Naples\",\"Milan-Naples\",\"Milan-Naples\",\"Milan-Naples\",\"Milan-Naples\",\"Milan-Naples\",\"Milan-Naples\",\"Milan-Naples\",\"Milan-Naples\",\"Milan-Naples\",\"Milan-Naples\",\"Milan-Naples\",\"Milan-Naples\",\"Milan-Naples\",\"Milan-Naples\",\"Milan-Naples\",\"Milan-Naples\",\"Milan-Naples\",\"Milan-Naples\",\"Milan-Naples\",\"Milan-Naples\",\"Milan-Naples\",\"Milan-Naples\",\"Milan-Naples\",\"Milan-Naples\",\"Milan-Naples\",\"Milan-Naples\",\"Milan-Naples\",\"Milan-Naples\",\"Milan-Naples\",\"Milan-Naples\",\"Milan-Naples\",\"Milan-Naples\",\"Milan-Naples\",\"Milan-Naples\",\"Milan-Naples\",\"Milan-Naples\",\"Milan-Naples\",\"Milan-Naples\",\"Milan-Naples\",\"Milan-Naples\",\"Milan-Naples\",\"Milan-Naples\",\"Milan-Naples\",\"Milan-Naples\",\"Milan-Naples\",\"Milan-Naples\",\"Milan-Naples\",\"Milan-Naples\",\"Milan-Naples\",\"Milan-Naples\",\"Milan-Naples\",\"Milan-Naples\",\"Milan-Naples\",\"Milan-Naples\",\"Milan-Naples\",\"Milan-Naples\",\"Milan-Naples\",\"Milan-Naples\",\"Milan-Naples\",\"Milan-Naples\",\"Milan-Naples\",\"Milan-Naples\",\"Milan-Naples\",\"Milan-Naples\",\"Milan-Naples\",\"Milan-Naples\",\"Milan-Naples\",\"Milan-Naples\",\"Milan-Naples\",\"Milan-Naples\",\"Milan-Naples\",\"Milan-Naples\",\"Milan-Naples\",\"Milan-Naples\",\"Milan-Naples\",\"Milan-Naples\",\"Milan-Naples\",\"Milan-Naples\",\"Milan-Naples\",\"Milan-Naples\",\"Milan-Naples\",\"Milan-Naples\",\"Milan-Naples\",\"Milan-Naples\",\"Milan-Naples\",\"Milan-Naples\",\"Milan-Naples\",\"Milan-Naples\",\"Milan-Naples\",\"Milan-Naples\",\"Milan-Naples\",\"Milan-Naples\",\"Milan-Naples\",\"Milan-Naples\",\"Milan-Naples\",\"Milan-Naples\",\"Milan-Naples\",\"Milan-Naples\",\"Milan-Naples\",\"Milan-Naples\",\"Milan-Naples\",\"Milan-Naples\",\"Milan-Naples\",\"Milan-Naples\",\"Milan-Naples\",\"Milan-Naples\",\"Milan-Naples\",\"Milan-Naples\",\"Milan-Naples\",\"Milan-Naples\",\"Milan-Naples\",\"Milan-Naples\",\"Milan-Naples\",\"Milan-Naples\",\"Milan-Naples\",\"Milan-Naples\",\"Milan-Naples\",\"Milan-Naples\",\"Milan-Naples\",\"Milan-Naples\",\"Milan-Naples\",\"Milan-Naples\",\"Milan-Naples\",\"Milan-Naples\",\"Milan-Naples\",\"Milan-Naples\",\"Milan-Naples\",\"Milan-Naples\",\"Milan-Naples\",\"Milan-Naples\",\"Milan-Naples\",\"Milan-Naples\",\"Milan-Naples\",\"Milan-Naples\",\"Milan-Naples\",\"Milan-Naples\",\"Milan-Naples\",\"Milan-Naples\",\"Milan-Naples\",\"Milan-Naples\",\"Milan-Naples\",\"Milan-Naples\",\"Milan-Naples\",\"Milan-Naples\",\"Milan-Naples\",\"Milan-Naples\",\"Milan-Naples\",\"Milan-Naples\",\"Milan-Naples\",\"Milan-Naples\",\"Milan-Naples\",\"Milan-Naples\",\"Milan-Naples\",\"Milan-Naples\",\"Milan-Naples\",\"Milan-Naples\",\"Milan-Naples\",\"Milan-Naples\",\"Milan-Naples\",\"Milan-Naples\",\"Milan-Naples\",\"Milan-Naples\",\"Milan-Naples\",\"Milan-Naples\",\"Milan-Naples\",\"Milan-Naples\",\"Milan-Naples\",\"Milan-Naples\",\"Milan-Naples\",\"Milan-Naples\",\"Milan-Naples\",\"Milan-Naples\",\"Milan-Naples\",\"Milan-Naples\",\"Milan-Naples\",\"Milan-Naples\",\"Milan-Naples\",\"Milan-Naples\",\"Milan-Naples\",\"Milan-Naples\",\"Milan-Naples\",\"Milan-Naples\",\"Milan-Naples\",\"Milan-Naples\",\"Milan-Naples\",\"Milan-Naples\",\"Milan-Naples\",\"Milan-Naples\",\"Milan-Naples\",\"Milan-Naples\",\"Milan-Naples\",\"Milan-Naples\",\"Milan-Naples\",\"Milan-Naples\",\"Milan-Naples\",\"Milan-Naples\",\"Milan-Naples\",\"Milan-Naples\",\"Milan-Naples\",\"Milan-Naples\",\"Milan-Naples\",\"Milan-Naples\",\"Milan-Naples\",\"Milan-Naples\",\"Milan-Naples\",\"Milan-Naples\",\"Milan-Naples\",\"Milan-Naples\",\"Milan-Naples\",\"Milan-Naples\",\"Milan-Naples\",\"Milan-Naples\",\"Milan-Naples\",\"Milan-Naples\",\"Milan-Naples\",\"Milan-Naples\",\"Milan-Naples\",\"Milan-Naples\",\"Milan-Naples\",\"Milan-Naples\",\"Milan-Naples\",\"Milan-Naples\",\"Milan-Naples\",\"Milan-Naples\",\"Milan-Naples\",\"Milan-Naples\",\"Milan-Naples\",\"Milan-Naples\",\"Milan-Naples\",\"Milan-Naples\",\"Milan-Naples\",\"Milan-Naples\",\"Milan-Naples\",\"Milan-Naples\",\"Milan-Naples\",\"Milan-Naples\",\"Milan-Naples\",\"Milan-Naples\",\"Milan-Naples\",\"Milan-Naples\",\"Milan-Naples\",\"Milan-Naples\",\"Milan-Naples\",\"Milan-Naples\",\"Milan-Naples\",\"Milan-Naples\",\"Milan-Naples\",\"Milan-Naples\",\"Milan-Naples\",\"Milan-Naples\",\"Milan-Pescara\",\"Milan-Pescara\",\"Milan-Pescara\",\"Milan-Pescara\",\"Milan-Pescara\",\"Milan-Pescara\",\"Milan-Pescara\",\"Milan-Pescara\",\"Milan-Pescara\",\"Milan-Pescara\",\"Milan-Pescara\",\"Milan-Pescara\",\"Milan-Pescara\",\"Milan-Pescara\",\"Milan-Pescara\",\"Milan-Pescara\",\"Milan-Pescara\",\"Milan-Pescara\",\"Milan-Pescara\",\"Milan-Pescara\",\"Milan-Pescara\",\"Milan-Pescara\",\"Milan-Pescara\",\"Milan-Pescara\",\"Milan-Pescara\",\"Milan-Pescara\",\"Milan-Pescara\",\"Milan-Pescara\",\"Milan-Pescara\",\"Milan-Pescara\",\"Milan-Pescara\",\"Milan-Pescara\",\"Milan-Pescara\",\"Milan-Pescara\",\"Milan-Pescara\",\"Milan-Pescara\",\"Milan-Pescara\",\"Milan-Pescara\",\"Milan-Pescara\",\"Milan-Pescara\",\"Milan-Pescara\",\"Milan-Pescara\",\"Milan-Pescara\",\"Milan-Pescara\",\"Milan-Pescara\",\"Milan-Pescara\",\"Milan-Pescara\",\"Milan-Pescara\",\"Milan-Pescara\",\"Milan-Pescara\",\"Milan-Pescara\",\"Milan-Pescara\",\"Milan-Pescara\",\"Milan-Pescara\",\"Milan-Pescara\",\"Milan-Pescara\",\"Milan-Pescara\",\"Milan-Pescara\",\"Milan-Pescara\",\"Milan-Pescara\",\"Milan-Pescara\",\"Milan-Pescara\",\"Milan-Pescara\",\"Milan-Pescara\",\"Milan-Pescara\",\"Milan-Pescara\",\"Milan-Pescara\",\"Milan-Pescara\",\"Milan-Pescara\",\"Milan-Pescara\",\"Milan-Pescara\",\"Milan-Pescara\",\"Milan-Pescara\",\"Milan-Pescara\",\"Milan-Pescara\",\"Milan-Pescara\",\"Milan-Pescara\",\"Milan-Pescara\",\"Milan-Pescara\",\"Milan-Pescara\",\"Milan-Pescara\",\"Milan-Pescara\",\"Milan-Pescara\",\"Milan-Pescara\",\"Milan-Pescara\",\"Milan-Pescara\",\"Milan-Pescara\",\"Milan-Pescara\",\"Milan-Pescara\",\"Milan-Pescara\",\"Milan-Pescara\",\"Milan-Pescara\",\"Milan-Pescara\",\"Milan-Pescara\",\"Milan-Pescara\",\"Milan-Pescara\",\"Milan-Pescara\",\"Milan-Pescara\",\"Milan-Pescara\",\"Milan-Pescara\",\"Milan-Pescara\",\"Milan-Pescara\",\"Milan-Pescara\",\"Milan-Pescara\",\"Milan-Pescara\",\"Milan-Pescara\",\"Milan-Pescara\",\"Milan-Pescara\",\"Milan-Pescara\",\"Milan-Pescara\",\"Milan-Pescara\",\"Milan-Pescara\",\"Milan-Pescara\",\"Milan-Pescara\",\"Milan-Pescara\",\"Milan-Pescara\",\"Milan-Pescara\",\"Milan-Pescara\",\"Milan-Pescara\",\"Milan-Pescara\",\"Milan-Pescara\",\"Milan-Pescara\",\"Milan-Pescara\",\"Milan-Pescara\",\"Milan-Pescara\",\"Milan-Pescara\",\"Milan-Pescara\",\"Milan-Pescara\",\"Milan-Pescara\",\"Milan-Pescara\",\"Milan-Pescara\",\"Milan-Pescara\",\"Milan-Pescara\",\"Milan-Pescara\",\"Milan-Pescara\",\"Milan-Pescara\",\"Milan-Pescara\",\"Milan-Pescara\",\"Milan-Pescara\",\"Milan-Pescara\",\"Milan-Pescara\",\"Milan-Pescara\",\"Milan-Pescara\",\"Milan-Pescara\",\"Milan-Pescara\",\"Milan-Pescara\",\"Milan-Pescara\",\"Milan-Pescara\",\"Milan-Pescara\",\"Milan-Pescara\",\"Milan-Pescara\",\"Milan-Pescara\",\"Milan-Pescara\",\"Milan-Pescara\",\"Milan-Pescara\",\"Milan-Pescara\",\"Milan-Pescara\",\"Milan-Pescara\",\"Milan-Pescara\",\"Milan-Pescara\",\"Milan-Pescara\",\"Milan-Pescara\",\"Rome-Bari\",\"Rome-Bari\",\"Rome-Bari\",\"Rome-Bari\",\"Rome-Bari\",\"Rome-Bari\",\"Rome-Bari\",\"Rome-Bari\",\"Rome-Bari\",\"Rome-Bari\",\"Rome-Bari\",\"Rome-Bari\",\"Rome-Bari\",\"Rome-Bari\",\"Rome-Bari\",\"Rome-Bari\",\"Rome-Bari\",\"Rome-Bari\",\"Rome-Bari\",\"Rome-Bari\",\"Rome-Bari\",\"Rome-Bari\",\"Rome-Bari\",\"Rome-Bari\",\"Rome-Bari\",\"Rome-Bari\",\"Rome-Bari\",\"Rome-Bari\",\"Rome-Bari\",\"Rome-Bari\",\"Rome-Bari\",\"Rome-Bari\",\"Rome-Bari\",\"Rome-Bari\",\"Rome-Bari\",\"Rome-Bari\",\"Rome-Bari\",\"Rome-Bari\",\"Rome-Bari\",\"Rome-Bari\",\"Rome-Bari\",\"Rome-Bari\",\"Rome-Bari\",\"Rome-Bari\",\"Rome-Bari\",\"Rome-Bari\",\"Rome-Bari\",\"Rome-Bari\",\"Rome-Bari\",\"Rome-Bari\",\"Rome-Bari\",\"Rome-Bari\",\"Rome-Bari\",\"Rome-Bari\",\"Rome-Bari\",\"Rome-Bari\",\"Rome-Bari\",\"Rome-Bari\",\"Rome-Bari\",\"Rome-Bari\",\"Rome-Bari\",\"Rome-Bari\",\"Rome-Bari\",\"Rome-Bari\",\"Rome-Bari\",\"Rome-Bari\",\"Rome-Bari\",\"Rome-Bari\",\"Rome-Bari\",\"Rome-Bari\",\"Rome-Bari\",\"Rome-Bari\",\"Rome-Bari\",\"Rome-Bari\",\"Rome-Bari\",\"Rome-Bari\",\"Rome-Bari\",\"Rome-Bari\",\"Rome-Bari\",\"Rome-Bari\",\"Rome-Bari\",\"Rome-Bari\",\"Rome-Bari\",\"Rome-Bari\",\"Rome-Bari\",\"Rome-Bari\",\"Rome-Bari\",\"Rome-Bari\",\"Rome-Bari\",\"Rome-Bari\",\"Rome-Bari\",\"Rome-Bari\",\"Rome-Bari\",\"Rome-Bari\",\"Rome-Bari\",\"Rome-Bari\",\"Rome-Bari\",\"Rome-Bari\",\"Rome-Bari\",\"Rome-Bari\",\"Rome-Bari\",\"Rome-Bari\",\"Rome-Bari\",\"Rome-Bari\",\"Rome-Bari\",\"Rome-Bari\",\"Rome-Bari\",\"Rome-Bari\",\"Rome-Bari\",\"Rome-Bari\",\"Rome-Bari\",\"Rome-Bari\",\"Rome-Bari\",\"Rome-Bari\",\"Rome-Bari\",\"Rome-Bari\",\"Rome-Bari\",\"Rome-Bari\",\"Rome-Bari\",\"Rome-Bari\",\"Rome-Bari\",\"Rome-Bari\",\"Rome-Bari\",\"Rome-Bari\",\"Rome-Bari\",\"Rome-Bari\",\"Rome-Bari\",\"Rome-Bari\",\"Rome-Bari\",\"Rome-Bari\",\"Rome-Bari\",\"Rome-Bari\",\"Rome-Bari\",\"Rome-Bari\",\"Rome-Bari\",\"Rome-Bari\",\"Rome-Bari\",\"Rome-Bari\",\"Rome-Bari\",\"Rome-Bari\",\"Rome-Bari\",\"Rome-Bari\",\"Rome-Bari\",\"Rome-Bari\",\"Rome-Bari\",\"Rome-Bari\",\"Rome-Bari\",\"Rome-Bari\",\"Rome-Bari\",\"Rome-Bari\",\"Rome-Bari\",\"Rome-Bari\",\"Rome-Bari\",\"Rome-Bari\",\"Rome-Bari\",\"Rome-Bari\"],\"x0\":\" \",\"xaxis\":\"x\",\"y\":[105.0,105.0,105.0,105.0,105.0,105.0,105.0,105.0,105.0,105.0,25.9,25.9,60.9,69.9,36.9,55.9,69.9,69.9,77.9,72.9,72.9,72.9,69.9,60.9,36.9,55.9,69.9,69.9,105.0,105.0,105.0,105.0,105.0,105.0,105.0,105.0,105.0,105.0,36.9,48.9,69.9,69.9,25.9,25.9,60.9,69.9,25.9,25.9,25.9,25.9,25.9,25.9,25.9,25.9,60.9,69.9,25.9,25.9,60.9,69.9,34.9,25.9,25.9,25.9,25.9,25.9,36.9,55.9,69.9,69.9,36.9,48.9,69.9,69.9,36.9,36.9,36.9,36.9,36.9,36.9,36.9,36.9,60.9,55.9,36.9,55.9,69.9,69.9,36.9,36.9,36.9,36.9,36.9,36.9,25.9,25.9,60.9,69.9,25.9,25.9,60.9,69.9,29.9,25.9,25.9,25.9,25.9,25.9,25.9,25.9,60.9,69.9,36.9,55.9,69.9,69.9,77.9,72.9,72.9,72.9,69.9,60.9,36.9,55.9,69.9,69.9,36.9,36.9,60.9,55.9,72.9,72.9,79.9,79.9,79.9,77.9,36.9,55.9,69.9,69.9,25.9,25.9,60.9,69.9,25.9,25.9,25.9,25.9,25.9,25.9,25.9,25.9,60.9,69.9,25.9,25.9,25.9,25.9,25.9,25.9,25.9,25.9,60.9,69.9,34.9,25.9,25.9,25.9,25.9,25.9,36.9,55.9,69.9,69.9,36.9,48.9,69.9,69.9,36.9,36.9,36.9,36.9,36.9,36.9,36.9,36.9,60.9,55.9,36.9,48.9,69.9,69.9,36.9,36.9,36.9,36.9,36.9,36.9,25.9,25.9,60.9,69.9,25.9,25.9,60.9,69.9,29.9,25.9,25.9,25.9,25.9,25.9,25.9,25.9,60.9,69.9,36.9,48.9,69.9,69.9,77.9,72.9,72.9,72.9,69.9,60.9,36.9,55.9,69.9,69.9,99.0,99.0,99.0,99.0,56.9,67.9,67.9,67.9,99.0,99.0,99.0,99.0,56.9,56.9,24.9,24.9,61.9,24.9,61.9,56.9,61.9,67.9,61.9,41.9,34.9,74.9,24.9,24.9,24.9,24.9,24.9,24.9,61.9,56.9,61.9,67.9,61.9,41.9,34.9,74.9,56.9,56.9,24.9,24.9,24.9,24.9,29.9,56.9,56.9,67.9,61.9,41.9,34.9,74.9,56.9,56.9,24.9,24.9,24.9,24.9,24.9,56.9,61.9,67.9,112.0,112.0,112.0,112.0,112.0,112.0,112.0,112.0,112.0,27.9,37.9,64.9,37.9,64.9,64.9,53.9,70.9,53.9,70.9,77.9,76.9,84.9,76.9,76.9,112.0,112.0,112.0,112.0,112.0,91.9,69.9,70.9,69.9,70.9,27.9,32.9,37.9,32.9,27.9,27.9,27.9,27.9,27.9,27.9,32.9,37.9,32.9,27.9,27.9,27.9,27.9,27.9,27.9,37.9,70.9,37.9,64.9,64.9,53.9,70.9,53.9,70.9,53.9,53.9,53.9,53.9,64.9,53.9,70.9,53.9,70.9,53.9,53.9,53.9,53.9,58.9,53.9,53.9,69.9,70.9,64.9,69.9,70.9,69.9,70.9,53.9,53.9,38.9,38.9,64.9,69.9,70.9,69.9,70.9,53.9,53.9,38.9,38.9,27.9,27.9,27.9,32.9,27.9,32.9,27.9,27.9,27.9,27.9,27.9,27.9,32.9,27.9,32.9,27.9,27.9,27.9,64.9,53.9,70.9,53.9,70.9,53.9,53.9,53.9,53.9,64.9,53.9,70.9,53.9,70.9,53.9,53.9,53.9,53.9,58.9,53.9,53.9,69.9,70.9,64.9,69.9,70.9,69.9,70.9,27.9,32.9,37.9,32.9,27.9,27.9,27.9,27.9,27.9,27.9,32.9,37.9,32.9,27.9,27.9,27.9,27.9,27.9,27.9,37.9,64.9,37.9,64.9,37.9,64.9,32.9,37.9,27.9,37.9,64.9,37.9,64.9,37.9,64.9,32.9,37.9,77.9,53.9,70.9,53.9,77.9,58.9,53.9,53.9,69.9,70.9,64.9,69.9,70.9,69.9,70.9,27.9,32.9,37.9,32.9,27.9,27.9,27.9,27.9,32.9,27.9,27.9,64.9,70.9,69.9,64.9,64.9,53.9,70.9,53.9,70.9,77.9,53.9,70.9,53.9,77.9,103.0,103.0,103.0,103.0,103.0,103.0,103.0,103.0,103.0,103.0,103.0,103.0,103.0,103.0,103.0,103.0,103.0,103.0,103.0,103.0,103.0,103.0,103.0,103.0,103.0,103.0,103.0,103.0,103.0,103.0,103.0,103.0,103.0,103.0,103.0,103.0,103.0,103.0,103.0,103.0,103.0,103.0,103.0,103.0,103.0,103.0,103.0,103.0,103.0,103.0,103.0,103.0,50.9,35.9,50.9,35.9,50.9,50.9,56.9,62.9,64.9,62.9,50.9,83.9,50.9,50.9,50.9,62.9,83.9,50.9,50.9,70.9,69.9,70.9,69.9,69.9,77.9,83.9,69.9,77.9,50.9,70.9,62.9,62.9,62.9,59.9,56.9,62.9,64.9,62.9,69.9,70.9,56.9,59.9,83.9,103.0,103.0,103.0,103.0,103.0,103.0,103.0,103.0,103.0,103.0,103.0,103.0,103.0,103.0,103.0,103.0,103.0,103.0,103.0,103.0,103.0,103.0,103.0,103.0,103.0,103.0,103.0,103.0,103.0,103.0,103.0,103.0,103.0,103.0,103.0,103.0,103.0,103.0,103.0,103.0,103.0,103.0,103.0,103.0,103.0,103.0,103.0,103.0,103.0,103.0,103.0,103.0,25.9,25.9,25.9,25.9,25.9,35.9,29.9,56.9,35.9,50.9,29.9,70.9,25.9,25.9,25.9,62.9,83.9,25.9,25.9,25.9,25.9,25.9,25.9,25.9,25.9,29.9,25.9,25.9,25.9,25.9,25.9,25.9,25.9,25.9,29.9,25.9,25.9,25.9,35.9,25.9,56.9,35.9,50.9,25.9,25.9,25.9,25.9,25.9,35.9,50.9,62.9,61.9,56.9,35.9,70.9,25.9,25.9,29.9,62.9,83.9,25.9,25.9,29.9,25.9,29.9,25.9,25.9,54.9,69.9,29.9,54.9,25.9,29.9,50.9,25.9,25.9,50.9,42.9,50.9,35.9,56.9,50.9,62.9,62.9,64.9,62.9,59.9,56.9,62.9,64.9,62.9,69.9,70.9,56.9,59.9,83.9,59.9,70.9,77.9,83.9,70.9,64.9,50.9,69.9,35.9,35.9,35.9,35.9,35.9,35.9,59.9,56.9,62.9,64.9,62.9,69.9,70.9,56.9,59.9,83.9,59.9,70.9,77.9,83.9,70.9,64.9,50.9,69.9,35.9,35.9,35.9,35.9,35.9,35.9,35.9,35.9,35.9,35.9,50.9,50.9,50.9,56.9,50.9,62.9,35.9,83.9,35.9,35.9,50.9,62.9,83.9,35.9,35.9,35.9,35.9,35.9,35.9,35.9,35.9,42.9,35.9,35.9,35.9,35.9,35.9,35.9,35.9,25.9,25.9,25.9,25.9,25.9,54.9,25.9,56.9,35.9,50.9,25.9,25.9,25.9,25.9,25.9,35.9,25.9,56.9,35.9,50.9,25.9,70.9,29.9,25.9,29.9,62.9,83.9,25.9,25.9,35.9,25.9,25.9,25.9,25.9,25.9,35.9,25.9,25.9,29.9,29.9,25.9,25.9,25.9,25.9,25.9,25.9,25.9,25.9,54.9,25.9,62.9,35.9,56.9,50.9,35.9,50.9,50.9,50.9,50.9,56.9,62.9,64.9,62.9,50.9,83.9,54.9,50.9,50.9,65.9,83.9,50.9,50.9,70.9,69.9,70.9,69.9,69.9,77.9,83.9,69.9,77.9,59.9,70.9,62.9,62.9,62.9,59.9,56.9,62.9,64.9,62.9,69.9,70.9,62.9,59.9,83.9,35.9,35.9,35.9,35.9,42.9,42.9,35.9,35.9,83.9,35.9,50.9,77.9,83.9,50.9,50.9,59.9,50.9,70.9,69.9,56.9,50.9,42.9,50.9,56.9,56.9,56.9,35.9,35.9,35.9,35.9,42.9,42.9,35.9,35.9,83.9,35.9,50.9,77.9,83.9,50.9,50.9,59.9,50.9,70.9,69.9,56.9,50.9,42.9,50.9,56.9,56.9,56.9,25.9,25.9,25.9,25.9,25.9,35.9,25.9,56.9,59.9,50.9,25.9,25.9,25.9,25.9,25.9,25.9,29.9,25.9,25.9,25.9,25.9,25.9,25.9,25.9,29.9,25.9,25.9,25.9,25.9,25.9,25.9,25.9,25.9,25.9,25.9,25.9,25.9,35.9,25.9,56.9,35.9,50.9,25.9,25.9,25.9,25.9,25.9,35.9,25.9,62.9,35.9,50.9,25.9,70.9,25.9,25.9,29.9,62.9,83.9,25.9,25.9,29.9,25.9,29.9,25.9,25.9,35.9,69.9,50.9,35.9,25.9,29.9,29.9,25.9,25.9,50.9,35.9,50.9,42.9,50.9,50.9,56.9,62.9,64.9,62.9,59.9,56.9,62.9,64.9,62.9,69.9,70.9,56.9,59.9,83.9,59.9,70.9,77.9,83.9,70.9,64.9,50.9,69.9,35.9,35.9,35.9,35.9,35.9,35.9,59.9,56.9,62.9,64.9,62.9,69.9,70.9,56.9,59.9,83.9,59.9,70.9,77.9,83.9,70.9,64.9,50.9,69.9,35.9,35.9,35.9,35.9,35.9,35.9,35.9,35.9,42.9,35.9,50.9,59.9,50.9,56.9,50.9,62.9,35.9,87.9,35.9,35.9,50.9,62.9,83.9,35.9,35.9,35.9,35.9,35.9,35.9,35.9,35.9,42.9,35.9,35.9,35.9,35.9,35.9,35.9,35.9,35.9,35.9,42.9,35.9,50.9,59.9,50.9,56.9,50.9,62.9,35.9,87.9,35.9,35.9,50.9,62.9,83.9,35.9,35.9,35.9,35.9,35.9,35.9,35.9,35.9,42.9,35.9,35.9,35.9,35.9,35.9,35.9,35.9,25.9,25.9,25.9,25.9,25.9,35.9,25.9,56.9,35.9,50.9,25.9,70.9,25.9,25.9,25.9,62.9,83.9,25.9,25.9,35.9,25.9,25.9,25.9,25.9,25.9,35.9,25.9,25.9,29.9,54.9,25.9,25.9,25.9,25.9,25.9,25.9,25.9,25.9,35.9,25.9,62.9,35.9,50.9,50.9,35.9,50.9,35.9,50.9,59.9,56.9,62.9,64.9,62.9,50.9,83.9,50.9,50.9,50.9,69.9,83.9,50.9,50.9,70.9,69.9,70.9,69.9,69.9,77.9,83.9,69.9,77.9,59.9,70.9,62.9,62.9,62.9,59.9,56.9,62.9,64.9,62.9,69.9,71.9,62.9,59.9,83.9,81.0,81.0,81.0,81.0,81.0,81.0,81.0,81.0,81.0,81.0,81.0,81.0,81.0,81.0,81.0,81.0,81.0,81.0,81.0,81.0,81.0,81.0,55.9,66.9,55.9,55.9,55.9,55.9,55.9,55.9,55.9,55.9,55.9,66.9,55.9,55.9,55.9,55.9,55.9,55.9,55.9,55.9,42.5,61.9,69.9,42.5,81.0,81.0,81.0,81.0,55.9,61.9,55.9,55.9,50.9,28.9,50.9,28.9,19.9,55.9,66.9,55.9,19.9,55.9,66.9,55.9,46.9,55.9,66.9,55.9,55.9,42.5,55.9,66.9,61.9,55.9,40.9,42.5,40.9,61.9,57.9,55.9,55.9,61.9,55.9,55.9,28.9,50.9,28.9,19.9,24.9,24.9,42.9,19.9,24.9,55.9,66.9,55.9,46.9,55.9,66.9,55.9,55.9,42.5,55.9,66.9,42.5,40.9,61.9,57.9,55.9,50.9,55.9,55.9,61.9,55.9,55.9,28.9,50.9,28.9,19.9,24.9,24.9,24.9,19.9,28.9,55.9,28.9,46.9,55.9,66.9,55.9,55.9,55.9,42.5,55.9,66.9,42.5,40.9,61.9,57.9,55.9,55.9,61.9,55.9,55.9,28.9,50.9,28.9,19.9,24.9,24.9,28.9,19.9,28.9,66.9,55.9,46.9,55.9,66.9,55.9,55.9,61.0,61.0,61.0,61.0,61.0,61.0,61.0,61.0,61.0,61.0,13.9,31.9,13.9,31.9,13.9,14.9,34.9,31.9,34.9,14.9,14.9,41.9,31.9,14.9,61.0,61.0,61.0,61.0,61.0,45.9,49.9,19.9,41.9,37.9,13.9,15.9,13.9,18.9,13.9,13.9,15.9,13.9,13.9,13.9,13.9,31.9,13.9,31.9,13.9,14.9,34.9,31.9,34.9,31.9,14.9,41.9,19.9,14.9,14.9,31.9,14.9,37.9,31.9,31.9,34.9,14.9,31.9,31.9,13.9,15.9,13.9,31.9,13.9,13.9,15.9,13.9,31.9,13.9,13.9,15.9,13.9,31.9,13.9,14.9,34.9,31.9,34.9,31.9,14.9,41.9,19.9,14.9,14.9,31.9,14.9,37.9,31.9,14.9,34.9,14.9,19.9,31.9,13.9,15.9,13.9,13.9,13.9,13.9,15.9,13.9,13.9,13.9,18.9,31.9,13.9,31.9,13.9,14.9,34.9,31.9,34.9,14.9,14.9,41.9,19.9,14.9,14.9,31.9,14.9,37.9,31.9,13.9,15.9,13.9,13.9,13.9,13.9,15.9,13.9,13.9,13.9,13.9,15.9,13.9,13.9,13.9,13.9,15.9,13.9,31.9,13.9,14.9,34.9,31.9,34.9,31.9],\"y0\":\" \",\"yaxis\":\"y\",\"type\":\"box\"},{\"alignmentgroup\":\"True\",\"hovertemplate\":\"travel_mean=plane<br>travel=%{x}<br>price=%{y}<extra></extra>\",\"legendgroup\":\"plane\",\"marker\":{\"color\":\"rgb(29, 105, 150)\"},\"name\":\"plane\",\"notched\":false,\"offsetgroup\":\"plane\",\"orientation\":\"v\",\"showlegend\":true,\"x\":[\"Venice-Naples\",\"Venice-Naples\",\"Venice-Naples\",\"Milan-Bari\",\"Milan-Bari\",\"Milan-Bari\",\"Milan-Bari\",\"Milan-Bari\",\"Milan-Pescara\",\"Milan-Pescara\",\"Rome-Bari\",\"Rome-Bari\",\"Venice-Naples\",\"Venice-Naples\",\"Venice-Naples\",\"Venice-Bari\",\"Venice-Bari\",\"Milan-Naples\",\"Milan-Naples\",\"Milan-Naples\",\"Milan-Naples\",\"Milan-Naples\",\"Milan-Naples\",\"Venice-Naples\",\"Venice-Naples\",\"Venice-Naples\",\"Milan-Bari\",\"Milan-Bari\",\"Milan-Bari\",\"Milan-Bari\",\"Milan-Bari\",\"Milan-Naples\",\"Milan-Naples\",\"Milan-Naples\",\"Milan-Naples\",\"Milan-Naples\",\"Milan-Pescara\",\"Milan-Pescara\",\"Venice-Naples\",\"Venice-Naples\",\"Venice-Naples\",\"Venice-Bari\",\"Venice-Bari\",\"Rome-Bari\",\"Rome-Bari\",\"Rome-Bari\",\"Venice-Naples\",\"Venice-Naples\",\"Venice-Naples\",\"Venice-Bari\",\"Venice-Bari\",\"Milan-Naples\",\"Milan-Naples\",\"Milan-Naples\",\"Milan-Naples\",\"Milan-Naples\",\"Milan-Naples\",\"Milan-Pescara\",\"Rome-Bari\",\"Rome-Bari\",\"Rome-Bari\",\"Venice-Naples\",\"Venice-Naples\",\"Venice-Naples\",\"Venice-Bari\",\"Venice-Bari\",\"Milan-Bari\",\"Milan-Bari\",\"Milan-Bari\",\"Milan-Bari\",\"Milan-Bari\",\"Milan-Pescara\",\"Venice-Naples\",\"Venice-Naples\",\"Venice-Naples\",\"Venice-Bari\",\"Venice-Bari\",\"Milan-Naples\",\"Milan-Naples\",\"Milan-Naples\",\"Milan-Naples\",\"Milan-Naples\",\"Milan-Naples\",\"Milan-Pescara\",\"Milan-Pescara\",\"Rome-Bari\",\"Rome-Bari\",\"Rome-Bari\",\"Rome-Bari\",\"Venice-Naples\",\"Venice-Naples\",\"Venice-Naples\",\"Rome-Bari\",\"Rome-Bari\",\"Rome-Bari\",\"Rome-Bari\",\"Venice-Bari\",\"Venice-Bari\",\"Milan-Bari\",\"Milan-Bari\",\"Milan-Bari\",\"Milan-Bari\",\"Milan-Bari\",\"Milan-Naples\",\"Milan-Naples\",\"Milan-Naples\",\"Milan-Naples\",\"Milan-Naples\",\"Milan-Naples\",\"Milan-Naples\",\"Milan-Pescara\",\"Venice-Naples\",\"Venice-Naples\",\"Venice-Naples\",\"Milan-Pescara\",\"Venice-Naples\",\"Venice-Naples\",\"Venice-Naples\",\"Venice-Bari\",\"Milan-Bari\",\"Milan-Bari\",\"Milan-Bari\",\"Milan-Bari\",\"Milan-Bari\",\"Milan-Pescara\",\"Milan-Pescara\",\"Rome-Bari\",\"Rome-Bari\",\"Rome-Bari\",\"Venice-Naples\",\"Venice-Naples\",\"Venice-Naples\",\"Milan-Bari\",\"Milan-Bari\",\"Milan-Bari\",\"Milan-Bari\",\"Milan-Bari\",\"Milan-Bari\",\"Milan-Naples\",\"Milan-Naples\",\"Milan-Naples\",\"Milan-Naples\",\"Milan-Naples\",\"Milan-Naples\",\"Milan-Naples\",\"Milan-Pescara\",\"Milan-Pescara\",\"Milan-Naples\",\"Milan-Naples\",\"Milan-Naples\",\"Milan-Naples\",\"Milan-Naples\",\"Milan-Naples\",\"Milan-Naples\",\"Venice-Naples\",\"Venice-Naples\",\"Venice-Bari\",\"Venice-Bari\",\"Milan-Bari\",\"Milan-Bari\",\"Milan-Bari\",\"Milan-Bari\",\"Milan-Bari\",\"Milan-Pescara\",\"Milan-Pescara\",\"Rome-Bari\",\"Rome-Bari\",\"Venice-Naples\",\"Venice-Naples\",\"Venice-Naples\",\"Milan-Bari\",\"Milan-Bari\",\"Milan-Bari\",\"Milan-Bari\",\"Milan-Bari\",\"Milan-Naples\",\"Milan-Naples\",\"Milan-Naples\",\"Milan-Naples\",\"Milan-Naples\",\"Milan-Naples\",\"Rome-Bari\",\"Rome-Bari\",\"Venice-Naples\",\"Venice-Naples\",\"Venice-Naples\",\"Venice-Bari\",\"Venice-Bari\",\"Milan-Bari\",\"Milan-Bari\",\"Milan-Bari\",\"Milan-Bari\",\"Milan-Bari\",\"Milan-Bari\",\"Milan-Naples\",\"Milan-Naples\",\"Milan-Naples\",\"Milan-Naples\",\"Milan-Naples\",\"Rome-Bari\",\"Rome-Bari\",\"Rome-Bari\",\"Venice-Naples\",\"Venice-Naples\",\"Venice-Naples\",\"Milan-Bari\",\"Milan-Bari\",\"Milan-Bari\",\"Milan-Bari\",\"Milan-Bari\",\"Milan-Bari\",\"Milan-Pescara\",\"Milan-Pescara\",\"Venice-Naples\",\"Venice-Naples\",\"Venice-Naples\",\"Milan-Bari\",\"Milan-Bari\",\"Milan-Bari\",\"Milan-Bari\",\"Milan-Bari\",\"Milan-Naples\",\"Milan-Naples\",\"Milan-Naples\",\"Milan-Naples\",\"Milan-Naples\",\"Milan-Naples\",\"Venice-Naples\",\"Venice-Naples\",\"Venice-Naples\",\"Milan-Bari\",\"Milan-Bari\",\"Milan-Bari\",\"Milan-Bari\",\"Milan-Bari\",\"Milan-Pescara\",\"Venice-Bari\",\"Milan-Naples\",\"Milan-Naples\",\"Milan-Naples\",\"Milan-Naples\",\"Milan-Naples\",\"Milan-Naples\",\"Milan-Pescara\",\"Milan-Pescara\",\"Venice-Naples\",\"Venice-Naples\",\"Venice-Naples\",\"Venice-Bari\",\"Venice-Bari\",\"Milan-Bari\",\"Milan-Bari\",\"Milan-Bari\",\"Milan-Bari\",\"Milan-Bari\",\"Milan-Naples\",\"Milan-Naples\",\"Milan-Naples\",\"Milan-Naples\",\"Milan-Naples\",\"Milan-Naples\",\"Milan-Pescara\",\"Milan-Pescara\",\"Venice-Naples\",\"Venice-Naples\",\"Venice-Naples\",\"Milan-Naples\",\"Milan-Naples\",\"Milan-Naples\",\"Milan-Naples\",\"Milan-Naples\",\"Milan-Naples\",\"Milan-Naples\",\"Milan-Pescara\",\"Venice-Naples\",\"Venice-Naples\",\"Venice-Naples\",\"Milan-Bari\",\"Milan-Bari\",\"Milan-Bari\",\"Milan-Bari\",\"Milan-Bari\",\"Venice-Naples\",\"Venice-Naples\",\"Venice-Naples\",\"Milan-Bari\",\"Milan-Bari\",\"Milan-Bari\",\"Milan-Bari\",\"Milan-Bari\",\"Milan-Naples\",\"Milan-Naples\",\"Milan-Naples\",\"Milan-Naples\",\"Milan-Naples\",\"Milan-Naples\",\"Milan-Pescara\",\"Milan-Pescara\",\"Rome-Bari\",\"Rome-Bari\",\"Rome-Bari\",\"Venice-Naples\",\"Venice-Naples\",\"Venice-Naples\",\"Venice-Bari\",\"Milan-Pescara\",\"Milan-Pescara\",\"Rome-Bari\",\"Rome-Bari\",\"Rome-Bari\",\"Venice-Naples\",\"Venice-Naples\",\"Venice-Naples\",\"Milan-Bari\",\"Milan-Bari\",\"Milan-Bari\",\"Milan-Bari\",\"Milan-Bari\",\"Milan-Bari\",\"Milan-Naples\",\"Milan-Naples\",\"Milan-Naples\",\"Milan-Naples\",\"Milan-Naples\",\"Milan-Naples\",\"Milan-Naples\",\"Rome-Bari\",\"Rome-Bari\",\"Rome-Bari\",\"Rome-Bari\",\"Venice-Bari\",\"Venice-Bari\",\"Milan-Bari\",\"Milan-Bari\",\"Milan-Bari\",\"Milan-Bari\",\"Milan-Bari\",\"Milan-Bari\",\"Milan-Naples\",\"Milan-Naples\",\"Milan-Naples\",\"Milan-Naples\",\"Milan-Naples\",\"Milan-Naples\",\"Milan-Naples\",\"Rome-Bari\",\"Rome-Bari\",\"Rome-Bari\",\"Rome-Bari\",\"Venice-Naples\",\"Venice-Naples\",\"Venice-Naples\",\"Milan-Naples\",\"Milan-Naples\",\"Milan-Naples\",\"Milan-Naples\",\"Milan-Naples\",\"Milan-Naples\",\"Milan-Pescara\",\"Milan-Pescara\",\"Milan-Bari\",\"Milan-Bari\",\"Milan-Bari\",\"Milan-Bari\",\"Milan-Bari\",\"Milan-Pescara\",\"Milan-Pescara\",\"Rome-Bari\",\"Venice-Bari\",\"Venice-Bari\",\"Rome-Bari\",\"Rome-Bari\",\"Rome-Bari\",\"Rome-Bari\",\"Venice-Naples\",\"Venice-Naples\",\"Venice-Naples\",\"Venice-Naples\",\"Venice-Naples\",\"Venice-Naples\",\"Venice-Bari\",\"Venice-Bari\",\"Milan-Bari\",\"Milan-Bari\",\"Milan-Bari\",\"Milan-Bari\",\"Milan-Bari\",\"Venice-Naples\",\"Venice-Naples\",\"Venice-Naples\",\"Venice-Bari\",\"Venice-Bari\",\"Milan-Pescara\",\"Rome-Bari\",\"Rome-Bari\",\"Rome-Bari\",\"Milan-Pescara\",\"Rome-Bari\",\"Rome-Bari\",\"Rome-Bari\",\"Venice-Naples\",\"Venice-Naples\",\"Venice-Naples\",\"Milan-Bari\",\"Milan-Bari\",\"Milan-Bari\",\"Milan-Bari\",\"Milan-Bari\",\"Milan-Naples\",\"Milan-Naples\",\"Milan-Naples\",\"Milan-Naples\",\"Milan-Naples\",\"Milan-Naples\",\"Milan-Pescara\",\"Milan-Pescara\",\"Rome-Bari\",\"Rome-Bari\",\"Rome-Bari\",\"Venice-Naples\",\"Venice-Naples\",\"Venice-Naples\",\"Rome-Bari\",\"Rome-Bari\",\"Rome-Bari\",\"Venice-Naples\",\"Venice-Naples\",\"Venice-Naples\",\"Milan-Naples\",\"Milan-Naples\",\"Milan-Naples\",\"Milan-Naples\",\"Milan-Naples\",\"Milan-Naples\",\"Milan-Pescara\",\"Milan-Pescara\",\"Rome-Bari\",\"Rome-Bari\",\"Rome-Bari\",\"Venice-Naples\",\"Venice-Naples\",\"Venice-Naples\",\"Milan-Naples\",\"Milan-Naples\",\"Milan-Naples\",\"Milan-Naples\",\"Milan-Naples\",\"Milan-Naples\",\"Venice-Naples\",\"Venice-Naples\",\"Venice-Naples\",\"Venice-Bari\",\"Venice-Bari\",\"Milan-Pescara\",\"Milan-Pescara\",\"Venice-Naples\",\"Venice-Naples\",\"Venice-Naples\",\"Milan-Pescara\",\"Milan-Pescara\",\"Rome-Bari\",\"Rome-Bari\",\"Rome-Bari\",\"Rome-Bari\",\"Venice-Naples\",\"Venice-Naples\",\"Venice-Naples\",\"Venice-Bari\",\"Venice-Bari\",\"Milan-Bari\",\"Milan-Bari\",\"Milan-Bari\",\"Milan-Bari\",\"Milan-Bari\",\"Milan-Naples\",\"Milan-Naples\",\"Milan-Naples\",\"Milan-Naples\",\"Milan-Naples\",\"Milan-Naples\",\"Venice-Naples\",\"Venice-Naples\",\"Venice-Naples\",\"Venice-Bari\",\"Venice-Bari\",\"Rome-Bari\",\"Rome-Bari\",\"Venice-Naples\",\"Venice-Naples\",\"Venice-Naples\",\"Venice-Bari\",\"Venice-Bari\",\"Rome-Bari\",\"Rome-Bari\",\"Rome-Bari\",\"Venice-Naples\",\"Venice-Naples\",\"Venice-Naples\",\"Milan-Pescara\",\"Milan-Pescara\"],\"x0\":\" \",\"xaxis\":\"x\",\"y\":[66.54,42.89,49.16,45.46,38.05,39.44,31.89,34.09,34.09,34.09,37.17,27.49,66.54,42.89,49.16,99.13,34.09,39.89,54.2,39.59,39.59,34.09,34.09,58.29,76.36,58.29,34.09,27.49,34.09,39.59,32.44,34.09,34.09,39.44,34.09,34.09,34.09,34.09,58.29,76.36,58.29,53.89,53.89,27.49,27.49,27.49,147.39,147.39,108.89,139.69,139.69,34.09,46.19,39.59,53.05,45.46,61.09,34.09,27.49,27.49,27.49,147.39,147.39,108.89,139.69,139.69,51.76,63.79,52.35,46.19,45.09,34.09,147.39,79.19,147.39,139.69,139.69,53.64,72.3,61.09,34.09,34.09,34.09,34.09,34.09,27.49,27.49,27.49,27.49,147.39,79.19,147.39,27.49,27.49,27.49,27.49,74.79,74.79,34.09,27.49,63.05,53.64,52.95,39.59,34.09,34.09,34.09,39.59,34.09,34.09,34.09,58.29,79.19,79.19,34.09,42.89,42.89,58.29,113.3,46.19,39.44,72.7,63.79,37.39,34.09,34.09,27.49,27.49,32.44,37.39,37.39,37.39,39.59,45.96,72.7,27.49,34.09,27.49,34.09,34.09,34.09,34.09,34.09,45.46,34.09,34.09,34.09,34.09,34.09,34.09,34.09,34.09,45.46,34.09,37.39,37.39,34.09,34.09,44.98,27.49,34.09,37.39,34.09,34.09,34.09,27.49,27.49,37.39,37.39,37.39,44.98,27.49,34.09,37.39,34.09,34.09,45.46,34.09,34.09,34.09,34.09,27.49,27.49,77.46,59.39,59.39,54.99,54.99,39.44,37.61,39.59,34.09,32.03,46.19,53.89,46.44,39.89,34.09,45.46,27.49,27.49,27.49,77.46,59.39,59.39,39.44,37.61,39.59,34.09,32.03,46.19,34.09,34.09,108.89,108.89,79.19,44.19,53.05,43.66,73.72,45.09,46.19,73.02,39.59,61.09,46.19,52.49,108.89,108.89,79.19,44.19,53.05,43.66,73.72,45.09,34.09,102.29,54.2,62.4,45.46,34.09,34.09,34.09,34.09,62.4,108.89,108.89,108.89,102.29,102.29,53.64,44.19,44.98,31.89,34.09,54.2,62.4,45.46,34.09,34.09,34.09,34.09,62.4,80.29,80.29,80.29,47.06,35.19,35.19,35.19,35.19,35.19,35.19,35.19,80.29,80.29,80.29,40.1,33.54,35.19,40.1,53.45,58.29,58.29,58.29,47.29,40.69,54.66,64.15,53.89,74.82,46.56,40.1,46.56,35.19,46.08,35.19,35.19,27.49,36.74,53.56,58.29,58.29,58.29,53.89,35.19,35.19,27.49,36.74,53.56,67.23,37.39,37.39,44.98,34.09,36.74,27.49,34.09,37.17,34.09,34.09,34.09,34.09,34.09,34.09,34.09,27.49,27.49,27.49,27.49,34.09,63.79,44.98,34.09,36.74,27.49,34.09,37.17,34.09,34.09,34.09,34.09,34.09,34.09,34.09,27.49,27.49,27.49,27.49,37.39,37.39,37.39,34.09,34.09,34.09,34.09,34.09,34.09,34.09,34.09,34.09,32.03,39.0,37.39,34.09,34.09,34.09,27.49,102.29,102.29,27.49,44.7,27.49,27.49,108.89,147.39,108.89,79.19,79.19,79.19,74.79,97.38,44.98,44.7,39.59,46.19,43.66,79.19,79.19,79.19,74.79,97.38,34.09,27.49,43.14,53.56,34.09,36.74,27.49,37.17,58.29,58.29,58.29,39.59,45.96,37.61,63.05,37.39,34.09,34.09,39.44,34.09,44.98,39.44,34.09,34.09,36.74,27.49,37.17,79.19,79.19,79.19,27.49,37.17,31.89,58.29,76.36,58.29,34.09,34.09,34.09,34.09,34.09,39.44,34.09,34.09,32.86,27.49,27.49,58.29,76.36,58.29,34.09,34.09,34.09,34.09,34.09,39.44,37.39,37.39,37.39,34.09,34.09,34.09,34.09,37.39,37.39,37.39,34.09,34.09,27.49,27.49,27.49,32.44,50.2,37.39,37.39,45.46,34.09,39.0,45.09,34.09,52.79,63.79,34.09,34.09,34.09,39.59,46.19,53.64,50.2,37.39,37.39,45.46,34.09,27.49,27.49,58.29,65.86,58.29,61.09,53.89,27.49,43.14,31.89,58.29,65.86,58.29,34.09,44.98],\"y0\":\" \",\"yaxis\":\"y\",\"type\":\"box\"}],                        {\"template\":{\"data\":{\"histogram2dcontour\":[{\"type\":\"histogram2dcontour\",\"colorbar\":{\"outlinewidth\":0,\"ticks\":\"\"},\"colorscale\":[[0.0,\"#0d0887\"],[0.1111111111111111,\"#46039f\"],[0.2222222222222222,\"#7201a8\"],[0.3333333333333333,\"#9c179e\"],[0.4444444444444444,\"#bd3786\"],[0.5555555555555556,\"#d8576b\"],[0.6666666666666666,\"#ed7953\"],[0.7777777777777778,\"#fb9f3a\"],[0.8888888888888888,\"#fdca26\"],[1.0,\"#f0f921\"]]}],\"choropleth\":[{\"type\":\"choropleth\",\"colorbar\":{\"outlinewidth\":0,\"ticks\":\"\"}}],\"histogram2d\":[{\"type\":\"histogram2d\",\"colorbar\":{\"outlinewidth\":0,\"ticks\":\"\"},\"colorscale\":[[0.0,\"#0d0887\"],[0.1111111111111111,\"#46039f\"],[0.2222222222222222,\"#7201a8\"],[0.3333333333333333,\"#9c179e\"],[0.4444444444444444,\"#bd3786\"],[0.5555555555555556,\"#d8576b\"],[0.6666666666666666,\"#ed7953\"],[0.7777777777777778,\"#fb9f3a\"],[0.8888888888888888,\"#fdca26\"],[1.0,\"#f0f921\"]]}],\"heatmap\":[{\"type\":\"heatmap\",\"colorbar\":{\"outlinewidth\":0,\"ticks\":\"\"},\"colorscale\":[[0.0,\"#0d0887\"],[0.1111111111111111,\"#46039f\"],[0.2222222222222222,\"#7201a8\"],[0.3333333333333333,\"#9c179e\"],[0.4444444444444444,\"#bd3786\"],[0.5555555555555556,\"#d8576b\"],[0.6666666666666666,\"#ed7953\"],[0.7777777777777778,\"#fb9f3a\"],[0.8888888888888888,\"#fdca26\"],[1.0,\"#f0f921\"]]}],\"heatmapgl\":[{\"type\":\"heatmapgl\",\"colorbar\":{\"outlinewidth\":0,\"ticks\":\"\"},\"colorscale\":[[0.0,\"#0d0887\"],[0.1111111111111111,\"#46039f\"],[0.2222222222222222,\"#7201a8\"],[0.3333333333333333,\"#9c179e\"],[0.4444444444444444,\"#bd3786\"],[0.5555555555555556,\"#d8576b\"],[0.6666666666666666,\"#ed7953\"],[0.7777777777777778,\"#fb9f3a\"],[0.8888888888888888,\"#fdca26\"],[1.0,\"#f0f921\"]]}],\"contourcarpet\":[{\"type\":\"contourcarpet\",\"colorbar\":{\"outlinewidth\":0,\"ticks\":\"\"}}],\"contour\":[{\"type\":\"contour\",\"colorbar\":{\"outlinewidth\":0,\"ticks\":\"\"},\"colorscale\":[[0.0,\"#0d0887\"],[0.1111111111111111,\"#46039f\"],[0.2222222222222222,\"#7201a8\"],[0.3333333333333333,\"#9c179e\"],[0.4444444444444444,\"#bd3786\"],[0.5555555555555556,\"#d8576b\"],[0.6666666666666666,\"#ed7953\"],[0.7777777777777778,\"#fb9f3a\"],[0.8888888888888888,\"#fdca26\"],[1.0,\"#f0f921\"]]}],\"surface\":[{\"type\":\"surface\",\"colorbar\":{\"outlinewidth\":0,\"ticks\":\"\"},\"colorscale\":[[0.0,\"#0d0887\"],[0.1111111111111111,\"#46039f\"],[0.2222222222222222,\"#7201a8\"],[0.3333333333333333,\"#9c179e\"],[0.4444444444444444,\"#bd3786\"],[0.5555555555555556,\"#d8576b\"],[0.6666666666666666,\"#ed7953\"],[0.7777777777777778,\"#fb9f3a\"],[0.8888888888888888,\"#fdca26\"],[1.0,\"#f0f921\"]]}],\"mesh3d\":[{\"type\":\"mesh3d\",\"colorbar\":{\"outlinewidth\":0,\"ticks\":\"\"}}],\"scatter\":[{\"fillpattern\":{\"fillmode\":\"overlay\",\"size\":10,\"solidity\":0.2},\"type\":\"scatter\"}],\"parcoords\":[{\"type\":\"parcoords\",\"line\":{\"colorbar\":{\"outlinewidth\":0,\"ticks\":\"\"}}}],\"scatterpolargl\":[{\"type\":\"scatterpolargl\",\"marker\":{\"colorbar\":{\"outlinewidth\":0,\"ticks\":\"\"}}}],\"bar\":[{\"error_x\":{\"color\":\"#2a3f5f\"},\"error_y\":{\"color\":\"#2a3f5f\"},\"marker\":{\"line\":{\"color\":\"#E5ECF6\",\"width\":0.5},\"pattern\":{\"fillmode\":\"overlay\",\"size\":10,\"solidity\":0.2}},\"type\":\"bar\"}],\"scattergeo\":[{\"type\":\"scattergeo\",\"marker\":{\"colorbar\":{\"outlinewidth\":0,\"ticks\":\"\"}}}],\"scatterpolar\":[{\"type\":\"scatterpolar\",\"marker\":{\"colorbar\":{\"outlinewidth\":0,\"ticks\":\"\"}}}],\"histogram\":[{\"marker\":{\"pattern\":{\"fillmode\":\"overlay\",\"size\":10,\"solidity\":0.2}},\"type\":\"histogram\"}],\"scattergl\":[{\"type\":\"scattergl\",\"marker\":{\"colorbar\":{\"outlinewidth\":0,\"ticks\":\"\"}}}],\"scatter3d\":[{\"type\":\"scatter3d\",\"line\":{\"colorbar\":{\"outlinewidth\":0,\"ticks\":\"\"}},\"marker\":{\"colorbar\":{\"outlinewidth\":0,\"ticks\":\"\"}}}],\"scattermapbox\":[{\"type\":\"scattermapbox\",\"marker\":{\"colorbar\":{\"outlinewidth\":0,\"ticks\":\"\"}}}],\"scatterternary\":[{\"type\":\"scatterternary\",\"marker\":{\"colorbar\":{\"outlinewidth\":0,\"ticks\":\"\"}}}],\"scattercarpet\":[{\"type\":\"scattercarpet\",\"marker\":{\"colorbar\":{\"outlinewidth\":0,\"ticks\":\"\"}}}],\"carpet\":[{\"aaxis\":{\"endlinecolor\":\"#2a3f5f\",\"gridcolor\":\"white\",\"linecolor\":\"white\",\"minorgridcolor\":\"white\",\"startlinecolor\":\"#2a3f5f\"},\"baxis\":{\"endlinecolor\":\"#2a3f5f\",\"gridcolor\":\"white\",\"linecolor\":\"white\",\"minorgridcolor\":\"white\",\"startlinecolor\":\"#2a3f5f\"},\"type\":\"carpet\"}],\"table\":[{\"cells\":{\"fill\":{\"color\":\"#EBF0F8\"},\"line\":{\"color\":\"white\"}},\"header\":{\"fill\":{\"color\":\"#C8D4E3\"},\"line\":{\"color\":\"white\"}},\"type\":\"table\"}],\"barpolar\":[{\"marker\":{\"line\":{\"color\":\"#E5ECF6\",\"width\":0.5},\"pattern\":{\"fillmode\":\"overlay\",\"size\":10,\"solidity\":0.2}},\"type\":\"barpolar\"}],\"pie\":[{\"automargin\":true,\"type\":\"pie\"}]},\"layout\":{\"autotypenumbers\":\"strict\",\"colorway\":[\"#636efa\",\"#EF553B\",\"#00cc96\",\"#ab63fa\",\"#FFA15A\",\"#19d3f3\",\"#FF6692\",\"#B6E880\",\"#FF97FF\",\"#FECB52\"],\"font\":{\"color\":\"#2a3f5f\"},\"hovermode\":\"closest\",\"hoverlabel\":{\"align\":\"left\"},\"paper_bgcolor\":\"white\",\"plot_bgcolor\":\"#E5ECF6\",\"polar\":{\"bgcolor\":\"#E5ECF6\",\"angularaxis\":{\"gridcolor\":\"white\",\"linecolor\":\"white\",\"ticks\":\"\"},\"radialaxis\":{\"gridcolor\":\"white\",\"linecolor\":\"white\",\"ticks\":\"\"}},\"ternary\":{\"bgcolor\":\"#E5ECF6\",\"aaxis\":{\"gridcolor\":\"white\",\"linecolor\":\"white\",\"ticks\":\"\"},\"baxis\":{\"gridcolor\":\"white\",\"linecolor\":\"white\",\"ticks\":\"\"},\"caxis\":{\"gridcolor\":\"white\",\"linecolor\":\"white\",\"ticks\":\"\"}},\"coloraxis\":{\"colorbar\":{\"outlinewidth\":0,\"ticks\":\"\"}},\"colorscale\":{\"sequential\":[[0.0,\"#0d0887\"],[0.1111111111111111,\"#46039f\"],[0.2222222222222222,\"#7201a8\"],[0.3333333333333333,\"#9c179e\"],[0.4444444444444444,\"#bd3786\"],[0.5555555555555556,\"#d8576b\"],[0.6666666666666666,\"#ed7953\"],[0.7777777777777778,\"#fb9f3a\"],[0.8888888888888888,\"#fdca26\"],[1.0,\"#f0f921\"]],\"sequentialminus\":[[0.0,\"#0d0887\"],[0.1111111111111111,\"#46039f\"],[0.2222222222222222,\"#7201a8\"],[0.3333333333333333,\"#9c179e\"],[0.4444444444444444,\"#bd3786\"],[0.5555555555555556,\"#d8576b\"],[0.6666666666666666,\"#ed7953\"],[0.7777777777777778,\"#fb9f3a\"],[0.8888888888888888,\"#fdca26\"],[1.0,\"#f0f921\"]],\"diverging\":[[0,\"#8e0152\"],[0.1,\"#c51b7d\"],[0.2,\"#de77ae\"],[0.3,\"#f1b6da\"],[0.4,\"#fde0ef\"],[0.5,\"#f7f7f7\"],[0.6,\"#e6f5d0\"],[0.7,\"#b8e186\"],[0.8,\"#7fbc41\"],[0.9,\"#4d9221\"],[1,\"#276419\"]]},\"xaxis\":{\"gridcolor\":\"white\",\"linecolor\":\"white\",\"ticks\":\"\",\"title\":{\"standoff\":15},\"zerolinecolor\":\"white\",\"automargin\":true,\"zerolinewidth\":2},\"yaxis\":{\"gridcolor\":\"white\",\"linecolor\":\"white\",\"ticks\":\"\",\"title\":{\"standoff\":15},\"zerolinecolor\":\"white\",\"automargin\":true,\"zerolinewidth\":2},\"scene\":{\"xaxis\":{\"backgroundcolor\":\"#E5ECF6\",\"gridcolor\":\"white\",\"linecolor\":\"white\",\"showbackground\":true,\"ticks\":\"\",\"zerolinecolor\":\"white\",\"gridwidth\":2},\"yaxis\":{\"backgroundcolor\":\"#E5ECF6\",\"gridcolor\":\"white\",\"linecolor\":\"white\",\"showbackground\":true,\"ticks\":\"\",\"zerolinecolor\":\"white\",\"gridwidth\":2},\"zaxis\":{\"backgroundcolor\":\"#E5ECF6\",\"gridcolor\":\"white\",\"linecolor\":\"white\",\"showbackground\":true,\"ticks\":\"\",\"zerolinecolor\":\"white\",\"gridwidth\":2}},\"shapedefaults\":{\"line\":{\"color\":\"#2a3f5f\"}},\"annotationdefaults\":{\"arrowcolor\":\"#2a3f5f\",\"arrowhead\":0,\"arrowwidth\":1},\"geo\":{\"bgcolor\":\"white\",\"landcolor\":\"#E5ECF6\",\"subunitcolor\":\"white\",\"showland\":true,\"showlakes\":true,\"lakecolor\":\"white\"},\"title\":{\"x\":0.05},\"mapbox\":{\"style\":\"light\"}}},\"xaxis\":{\"anchor\":\"y\",\"domain\":[0.0,1.0],\"title\":{\"text\":\"Trajet\"}},\"yaxis\":{\"anchor\":\"x\",\"domain\":[0.0,1.0],\"title\":{\"text\":\"Prix (en euros)\"}},\"legend\":{\"title\":{\"text\":\"travel_mean\"},\"tracegroupgap\":0},\"margin\":{\"t\":60},\"boxmode\":\"group\",\"title\":{\"text\":\"Bo\\u00eetes \\u00e0 moustache des prix (en euros) de chaque trajet pour chaque moyen de transport\"}},                        {\"responsive\": true}                    ).then(function(){\n",
       "                            \n",
       "var gd = document.getElementById('4823fe13-49e0-42af-aa6e-10179bb19ce5');\n",
       "var x = new MutationObserver(function (mutations, observer) {{\n",
       "        var display = window.getComputedStyle(gd).display;\n",
       "        if (!display || display === 'none') {{\n",
       "            console.log([gd, 'removed!']);\n",
       "            Plotly.purge(gd);\n",
       "            observer.disconnect();\n",
       "        }}\n",
       "}});\n",
       "\n",
       "// Listen for the removal of the full notebook cells\n",
       "var notebookContainer = gd.closest('#notebook-container');\n",
       "if (notebookContainer) {{\n",
       "    x.observe(notebookContainer, {childList: true});\n",
       "}}\n",
       "\n",
       "// Listen for the clearing of the current output cell\n",
       "var outputEl = gd.closest('.output');\n",
       "if (outputEl) {{\n",
       "    x.observe(outputEl, {childList: true});\n",
       "}}\n",
       "\n",
       "                        })                };                });            </script>        </div>"
      ]
     },
     "metadata": {},
     "output_type": "display_data"
    }
   ],
   "source": [
    "fig = px.box(df, x='travel', y='price', color='travel_mean',color_discrete_sequence=px.colors.qualitative.Prism)\n",
    "fig.update_layout(title_text='Boîtes à moustache des prix (en euros) de chaque trajet pour chaque moyen de transport',\n",
    "                  xaxis_title='Trajet', yaxis_title='Prix (en euros)')\n",
    "\n",
    "fig.show()"
   ]
  },
  {
   "cell_type": "markdown",
   "id": "dad3ee53",
   "metadata": {},
   "source": [
    "### Comparaison de l'empreinte carbone"
   ]
  },
  {
   "cell_type": "code",
   "execution_count": 102,
   "id": "2a7f69f5",
   "metadata": {},
   "outputs": [
    {
     "data": {
      "text/html": [
       "<div>\n",
       "<style scoped>\n",
       "    .dataframe tbody tr th:only-of-type {\n",
       "        vertical-align: middle;\n",
       "    }\n",
       "\n",
       "    .dataframe tbody tr th {\n",
       "        vertical-align: top;\n",
       "    }\n",
       "\n",
       "    .dataframe thead th {\n",
       "        text-align: right;\n",
       "    }\n",
       "</style>\n",
       "<table border=\"1\" class=\"dataframe\">\n",
       "  <thead>\n",
       "    <tr style=\"text-align: right;\">\n",
       "      <th></th>\n",
       "      <th>travel_mean</th>\n",
       "      <th>carbon_footprint</th>\n",
       "    </tr>\n",
       "    <tr>\n",
       "      <th>travel</th>\n",
       "      <th></th>\n",
       "      <th></th>\n",
       "    </tr>\n",
       "  </thead>\n",
       "  <tbody>\n",
       "    <tr>\n",
       "      <th>Milan-Bari</th>\n",
       "      <td>plane</td>\n",
       "      <td>233.0</td>\n",
       "    </tr>\n",
       "    <tr>\n",
       "      <th>Milan-Bari</th>\n",
       "      <td>train</td>\n",
       "      <td>3.5</td>\n",
       "    </tr>\n",
       "    <tr>\n",
       "      <th>Milan-Naples</th>\n",
       "      <td>plane</td>\n",
       "      <td>233.0</td>\n",
       "    </tr>\n",
       "    <tr>\n",
       "      <th>Milan-Naples</th>\n",
       "      <td>train</td>\n",
       "      <td>2.5</td>\n",
       "    </tr>\n",
       "    <tr>\n",
       "      <th>Milan-Pescara</th>\n",
       "      <td>plane</td>\n",
       "      <td>186.0</td>\n",
       "    </tr>\n",
       "    <tr>\n",
       "      <th>Milan-Pescara</th>\n",
       "      <td>train</td>\n",
       "      <td>2.0</td>\n",
       "    </tr>\n",
       "    <tr>\n",
       "      <th>Rome-Bari</th>\n",
       "      <td>plane</td>\n",
       "      <td>166.0</td>\n",
       "    </tr>\n",
       "    <tr>\n",
       "      <th>Rome-Bari</th>\n",
       "      <td>train</td>\n",
       "      <td>2.0</td>\n",
       "    </tr>\n",
       "    <tr>\n",
       "      <th>Venice-Bari</th>\n",
       "      <td>plane</td>\n",
       "      <td>202.0</td>\n",
       "    </tr>\n",
       "    <tr>\n",
       "      <th>Venice-Bari</th>\n",
       "      <td>train</td>\n",
       "      <td>2.0</td>\n",
       "    </tr>\n",
       "    <tr>\n",
       "      <th>Venice-Naples</th>\n",
       "      <td>plane</td>\n",
       "      <td>191.0</td>\n",
       "    </tr>\n",
       "    <tr>\n",
       "      <th>Venice-Naples</th>\n",
       "      <td>train</td>\n",
       "      <td>1.0</td>\n",
       "    </tr>\n",
       "  </tbody>\n",
       "</table>\n",
       "</div>"
      ],
      "text/plain": [
       "              travel_mean  carbon_footprint\n",
       "travel                                     \n",
       "Milan-Bari          plane             233.0\n",
       "Milan-Bari          train               3.5\n",
       "Milan-Naples        plane             233.0\n",
       "Milan-Naples        train               2.5\n",
       "Milan-Pescara       plane             186.0\n",
       "Milan-Pescara       train               2.0\n",
       "Rome-Bari           plane             166.0\n",
       "Rome-Bari           train               2.0\n",
       "Venice-Bari         plane             202.0\n",
       "Venice-Bari         train               2.0\n",
       "Venice-Naples       plane             191.0\n",
       "Venice-Naples       train               1.0"
      ]
     },
     "execution_count": 102,
     "metadata": {},
     "output_type": "execute_result"
    }
   ],
   "source": [
    "df.groupby(['travel', 'travel_mean'])['carbon_footprint'].max().reset_index().set_index('travel')"
   ]
  },
  {
   "cell_type": "code",
   "execution_count": 92,
   "id": "ff1f7084",
   "metadata": {},
   "outputs": [
    {
     "data": {
      "application/vnd.plotly.v1+json": {
       "config": {
        "plotlyServerURL": "https://plot.ly"
       },
       "data": [
        {
         "alignmentgroup": "True",
         "hovertemplate": "travel_mean=plane<br>travel=%{x}<br>carbon_footprint=%{y}<extra></extra>",
         "legendgroup": "plane",
         "marker": {
          "color": "rgb(95, 70, 144)",
          "pattern": {
           "shape": ""
          }
         },
         "name": "plane",
         "offsetgroup": "plane",
         "orientation": "v",
         "showlegend": true,
         "textposition": "auto",
         "type": "bar",
         "x": [
          "Milan-Bari",
          "Milan-Naples",
          "Milan-Pescara",
          "Rome-Bari",
          "Venice-Bari",
          "Venice-Naples"
         ],
         "xaxis": "x",
         "y": [
          233,
          233,
          186,
          166,
          202,
          191
         ],
         "yaxis": "y"
        },
        {
         "alignmentgroup": "True",
         "hovertemplate": "travel_mean=train<br>travel=%{x}<br>carbon_footprint=%{y}<extra></extra>",
         "legendgroup": "train",
         "marker": {
          "color": "rgb(29, 105, 150)",
          "pattern": {
           "shape": ""
          }
         },
         "name": "train",
         "offsetgroup": "train",
         "orientation": "v",
         "showlegend": true,
         "textposition": "auto",
         "type": "bar",
         "x": [
          "Milan-Bari",
          "Milan-Naples",
          "Milan-Pescara",
          "Rome-Bari",
          "Venice-Bari",
          "Venice-Naples"
         ],
         "xaxis": "x",
         "y": [
          3.5,
          2.5,
          2,
          2,
          2,
          1
         ],
         "yaxis": "y"
        }
       ],
       "layout": {
        "barmode": "group",
        "legend": {
         "title": {
          "text": "travel_mean"
         },
         "tracegroupgap": 0
        },
        "margin": {
         "t": 60
        },
        "template": {
         "data": {
          "bar": [
           {
            "error_x": {
             "color": "#2a3f5f"
            },
            "error_y": {
             "color": "#2a3f5f"
            },
            "marker": {
             "line": {
              "color": "#E5ECF6",
              "width": 0.5
             },
             "pattern": {
              "fillmode": "overlay",
              "size": 10,
              "solidity": 0.2
             }
            },
            "type": "bar"
           }
          ],
          "barpolar": [
           {
            "marker": {
             "line": {
              "color": "#E5ECF6",
              "width": 0.5
             },
             "pattern": {
              "fillmode": "overlay",
              "size": 10,
              "solidity": 0.2
             }
            },
            "type": "barpolar"
           }
          ],
          "carpet": [
           {
            "aaxis": {
             "endlinecolor": "#2a3f5f",
             "gridcolor": "white",
             "linecolor": "white",
             "minorgridcolor": "white",
             "startlinecolor": "#2a3f5f"
            },
            "baxis": {
             "endlinecolor": "#2a3f5f",
             "gridcolor": "white",
             "linecolor": "white",
             "minorgridcolor": "white",
             "startlinecolor": "#2a3f5f"
            },
            "type": "carpet"
           }
          ],
          "choropleth": [
           {
            "colorbar": {
             "outlinewidth": 0,
             "ticks": ""
            },
            "type": "choropleth"
           }
          ],
          "contour": [
           {
            "colorbar": {
             "outlinewidth": 0,
             "ticks": ""
            },
            "colorscale": [
             [
              0,
              "#0d0887"
             ],
             [
              0.1111111111111111,
              "#46039f"
             ],
             [
              0.2222222222222222,
              "#7201a8"
             ],
             [
              0.3333333333333333,
              "#9c179e"
             ],
             [
              0.4444444444444444,
              "#bd3786"
             ],
             [
              0.5555555555555556,
              "#d8576b"
             ],
             [
              0.6666666666666666,
              "#ed7953"
             ],
             [
              0.7777777777777778,
              "#fb9f3a"
             ],
             [
              0.8888888888888888,
              "#fdca26"
             ],
             [
              1,
              "#f0f921"
             ]
            ],
            "type": "contour"
           }
          ],
          "contourcarpet": [
           {
            "colorbar": {
             "outlinewidth": 0,
             "ticks": ""
            },
            "type": "contourcarpet"
           }
          ],
          "heatmap": [
           {
            "colorbar": {
             "outlinewidth": 0,
             "ticks": ""
            },
            "colorscale": [
             [
              0,
              "#0d0887"
             ],
             [
              0.1111111111111111,
              "#46039f"
             ],
             [
              0.2222222222222222,
              "#7201a8"
             ],
             [
              0.3333333333333333,
              "#9c179e"
             ],
             [
              0.4444444444444444,
              "#bd3786"
             ],
             [
              0.5555555555555556,
              "#d8576b"
             ],
             [
              0.6666666666666666,
              "#ed7953"
             ],
             [
              0.7777777777777778,
              "#fb9f3a"
             ],
             [
              0.8888888888888888,
              "#fdca26"
             ],
             [
              1,
              "#f0f921"
             ]
            ],
            "type": "heatmap"
           }
          ],
          "heatmapgl": [
           {
            "colorbar": {
             "outlinewidth": 0,
             "ticks": ""
            },
            "colorscale": [
             [
              0,
              "#0d0887"
             ],
             [
              0.1111111111111111,
              "#46039f"
             ],
             [
              0.2222222222222222,
              "#7201a8"
             ],
             [
              0.3333333333333333,
              "#9c179e"
             ],
             [
              0.4444444444444444,
              "#bd3786"
             ],
             [
              0.5555555555555556,
              "#d8576b"
             ],
             [
              0.6666666666666666,
              "#ed7953"
             ],
             [
              0.7777777777777778,
              "#fb9f3a"
             ],
             [
              0.8888888888888888,
              "#fdca26"
             ],
             [
              1,
              "#f0f921"
             ]
            ],
            "type": "heatmapgl"
           }
          ],
          "histogram": [
           {
            "marker": {
             "pattern": {
              "fillmode": "overlay",
              "size": 10,
              "solidity": 0.2
             }
            },
            "type": "histogram"
           }
          ],
          "histogram2d": [
           {
            "colorbar": {
             "outlinewidth": 0,
             "ticks": ""
            },
            "colorscale": [
             [
              0,
              "#0d0887"
             ],
             [
              0.1111111111111111,
              "#46039f"
             ],
             [
              0.2222222222222222,
              "#7201a8"
             ],
             [
              0.3333333333333333,
              "#9c179e"
             ],
             [
              0.4444444444444444,
              "#bd3786"
             ],
             [
              0.5555555555555556,
              "#d8576b"
             ],
             [
              0.6666666666666666,
              "#ed7953"
             ],
             [
              0.7777777777777778,
              "#fb9f3a"
             ],
             [
              0.8888888888888888,
              "#fdca26"
             ],
             [
              1,
              "#f0f921"
             ]
            ],
            "type": "histogram2d"
           }
          ],
          "histogram2dcontour": [
           {
            "colorbar": {
             "outlinewidth": 0,
             "ticks": ""
            },
            "colorscale": [
             [
              0,
              "#0d0887"
             ],
             [
              0.1111111111111111,
              "#46039f"
             ],
             [
              0.2222222222222222,
              "#7201a8"
             ],
             [
              0.3333333333333333,
              "#9c179e"
             ],
             [
              0.4444444444444444,
              "#bd3786"
             ],
             [
              0.5555555555555556,
              "#d8576b"
             ],
             [
              0.6666666666666666,
              "#ed7953"
             ],
             [
              0.7777777777777778,
              "#fb9f3a"
             ],
             [
              0.8888888888888888,
              "#fdca26"
             ],
             [
              1,
              "#f0f921"
             ]
            ],
            "type": "histogram2dcontour"
           }
          ],
          "mesh3d": [
           {
            "colorbar": {
             "outlinewidth": 0,
             "ticks": ""
            },
            "type": "mesh3d"
           }
          ],
          "parcoords": [
           {
            "line": {
             "colorbar": {
              "outlinewidth": 0,
              "ticks": ""
             }
            },
            "type": "parcoords"
           }
          ],
          "pie": [
           {
            "automargin": true,
            "type": "pie"
           }
          ],
          "scatter": [
           {
            "fillpattern": {
             "fillmode": "overlay",
             "size": 10,
             "solidity": 0.2
            },
            "type": "scatter"
           }
          ],
          "scatter3d": [
           {
            "line": {
             "colorbar": {
              "outlinewidth": 0,
              "ticks": ""
             }
            },
            "marker": {
             "colorbar": {
              "outlinewidth": 0,
              "ticks": ""
             }
            },
            "type": "scatter3d"
           }
          ],
          "scattercarpet": [
           {
            "marker": {
             "colorbar": {
              "outlinewidth": 0,
              "ticks": ""
             }
            },
            "type": "scattercarpet"
           }
          ],
          "scattergeo": [
           {
            "marker": {
             "colorbar": {
              "outlinewidth": 0,
              "ticks": ""
             }
            },
            "type": "scattergeo"
           }
          ],
          "scattergl": [
           {
            "marker": {
             "colorbar": {
              "outlinewidth": 0,
              "ticks": ""
             }
            },
            "type": "scattergl"
           }
          ],
          "scattermapbox": [
           {
            "marker": {
             "colorbar": {
              "outlinewidth": 0,
              "ticks": ""
             }
            },
            "type": "scattermapbox"
           }
          ],
          "scatterpolar": [
           {
            "marker": {
             "colorbar": {
              "outlinewidth": 0,
              "ticks": ""
             }
            },
            "type": "scatterpolar"
           }
          ],
          "scatterpolargl": [
           {
            "marker": {
             "colorbar": {
              "outlinewidth": 0,
              "ticks": ""
             }
            },
            "type": "scatterpolargl"
           }
          ],
          "scatterternary": [
           {
            "marker": {
             "colorbar": {
              "outlinewidth": 0,
              "ticks": ""
             }
            },
            "type": "scatterternary"
           }
          ],
          "surface": [
           {
            "colorbar": {
             "outlinewidth": 0,
             "ticks": ""
            },
            "colorscale": [
             [
              0,
              "#0d0887"
             ],
             [
              0.1111111111111111,
              "#46039f"
             ],
             [
              0.2222222222222222,
              "#7201a8"
             ],
             [
              0.3333333333333333,
              "#9c179e"
             ],
             [
              0.4444444444444444,
              "#bd3786"
             ],
             [
              0.5555555555555556,
              "#d8576b"
             ],
             [
              0.6666666666666666,
              "#ed7953"
             ],
             [
              0.7777777777777778,
              "#fb9f3a"
             ],
             [
              0.8888888888888888,
              "#fdca26"
             ],
             [
              1,
              "#f0f921"
             ]
            ],
            "type": "surface"
           }
          ],
          "table": [
           {
            "cells": {
             "fill": {
              "color": "#EBF0F8"
             },
             "line": {
              "color": "white"
             }
            },
            "header": {
             "fill": {
              "color": "#C8D4E3"
             },
             "line": {
              "color": "white"
             }
            },
            "type": "table"
           }
          ]
         },
         "layout": {
          "annotationdefaults": {
           "arrowcolor": "#2a3f5f",
           "arrowhead": 0,
           "arrowwidth": 1
          },
          "autotypenumbers": "strict",
          "coloraxis": {
           "colorbar": {
            "outlinewidth": 0,
            "ticks": ""
           }
          },
          "colorscale": {
           "diverging": [
            [
             0,
             "#8e0152"
            ],
            [
             0.1,
             "#c51b7d"
            ],
            [
             0.2,
             "#de77ae"
            ],
            [
             0.3,
             "#f1b6da"
            ],
            [
             0.4,
             "#fde0ef"
            ],
            [
             0.5,
             "#f7f7f7"
            ],
            [
             0.6,
             "#e6f5d0"
            ],
            [
             0.7,
             "#b8e186"
            ],
            [
             0.8,
             "#7fbc41"
            ],
            [
             0.9,
             "#4d9221"
            ],
            [
             1,
             "#276419"
            ]
           ],
           "sequential": [
            [
             0,
             "#0d0887"
            ],
            [
             0.1111111111111111,
             "#46039f"
            ],
            [
             0.2222222222222222,
             "#7201a8"
            ],
            [
             0.3333333333333333,
             "#9c179e"
            ],
            [
             0.4444444444444444,
             "#bd3786"
            ],
            [
             0.5555555555555556,
             "#d8576b"
            ],
            [
             0.6666666666666666,
             "#ed7953"
            ],
            [
             0.7777777777777778,
             "#fb9f3a"
            ],
            [
             0.8888888888888888,
             "#fdca26"
            ],
            [
             1,
             "#f0f921"
            ]
           ],
           "sequentialminus": [
            [
             0,
             "#0d0887"
            ],
            [
             0.1111111111111111,
             "#46039f"
            ],
            [
             0.2222222222222222,
             "#7201a8"
            ],
            [
             0.3333333333333333,
             "#9c179e"
            ],
            [
             0.4444444444444444,
             "#bd3786"
            ],
            [
             0.5555555555555556,
             "#d8576b"
            ],
            [
             0.6666666666666666,
             "#ed7953"
            ],
            [
             0.7777777777777778,
             "#fb9f3a"
            ],
            [
             0.8888888888888888,
             "#fdca26"
            ],
            [
             1,
             "#f0f921"
            ]
           ]
          },
          "colorway": [
           "#636efa",
           "#EF553B",
           "#00cc96",
           "#ab63fa",
           "#FFA15A",
           "#19d3f3",
           "#FF6692",
           "#B6E880",
           "#FF97FF",
           "#FECB52"
          ],
          "font": {
           "color": "#2a3f5f"
          },
          "geo": {
           "bgcolor": "white",
           "lakecolor": "white",
           "landcolor": "#E5ECF6",
           "showlakes": true,
           "showland": true,
           "subunitcolor": "white"
          },
          "hoverlabel": {
           "align": "left"
          },
          "hovermode": "closest",
          "mapbox": {
           "style": "light"
          },
          "paper_bgcolor": "white",
          "plot_bgcolor": "#E5ECF6",
          "polar": {
           "angularaxis": {
            "gridcolor": "white",
            "linecolor": "white",
            "ticks": ""
           },
           "bgcolor": "#E5ECF6",
           "radialaxis": {
            "gridcolor": "white",
            "linecolor": "white",
            "ticks": ""
           }
          },
          "scene": {
           "xaxis": {
            "backgroundcolor": "#E5ECF6",
            "gridcolor": "white",
            "gridwidth": 2,
            "linecolor": "white",
            "showbackground": true,
            "ticks": "",
            "zerolinecolor": "white"
           },
           "yaxis": {
            "backgroundcolor": "#E5ECF6",
            "gridcolor": "white",
            "gridwidth": 2,
            "linecolor": "white",
            "showbackground": true,
            "ticks": "",
            "zerolinecolor": "white"
           },
           "zaxis": {
            "backgroundcolor": "#E5ECF6",
            "gridcolor": "white",
            "gridwidth": 2,
            "linecolor": "white",
            "showbackground": true,
            "ticks": "",
            "zerolinecolor": "white"
           }
          },
          "shapedefaults": {
           "line": {
            "color": "#2a3f5f"
           }
          },
          "ternary": {
           "aaxis": {
            "gridcolor": "white",
            "linecolor": "white",
            "ticks": ""
           },
           "baxis": {
            "gridcolor": "white",
            "linecolor": "white",
            "ticks": ""
           },
           "bgcolor": "#E5ECF6",
           "caxis": {
            "gridcolor": "white",
            "linecolor": "white",
            "ticks": ""
           }
          },
          "title": {
           "x": 0.05
          },
          "xaxis": {
           "automargin": true,
           "gridcolor": "white",
           "linecolor": "white",
           "ticks": "",
           "title": {
            "standoff": 15
           },
           "zerolinecolor": "white",
           "zerolinewidth": 2
          },
          "yaxis": {
           "automargin": true,
           "gridcolor": "white",
           "linecolor": "white",
           "ticks": "",
           "title": {
            "standoff": 15
           },
           "zerolinecolor": "white",
           "zerolinewidth": 2
          }
         }
        },
        "title": {
         "text": "Empreinte carbone (en kg) des différents trajets pour chaque moyen de transport"
        },
        "xaxis": {
         "anchor": "y",
         "domain": [
          0,
          1
         ],
         "title": {
          "text": "Trajet"
         }
        },
        "yaxis": {
         "anchor": "x",
         "domain": [
          0,
          1
         ],
         "title": {
          "text": "Empreinte carbone (en kg)"
         }
        }
       }
      },
      "text/html": [
       "<div>                            <div id=\"af47ce7f-78b7-44b3-b698-6316add47f8b\" class=\"plotly-graph-div\" style=\"height:525px; width:100%;\"></div>            <script type=\"text/javascript\">                require([\"plotly\"], function(Plotly) {                    window.PLOTLYENV=window.PLOTLYENV || {};                                    if (document.getElementById(\"af47ce7f-78b7-44b3-b698-6316add47f8b\")) {                    Plotly.newPlot(                        \"af47ce7f-78b7-44b3-b698-6316add47f8b\",                        [{\"alignmentgroup\":\"True\",\"hovertemplate\":\"travel_mean=plane<br>travel=%{x}<br>carbon_footprint=%{y}<extra></extra>\",\"legendgroup\":\"plane\",\"marker\":{\"color\":\"rgb(95, 70, 144)\",\"pattern\":{\"shape\":\"\"}},\"name\":\"plane\",\"offsetgroup\":\"plane\",\"orientation\":\"v\",\"showlegend\":true,\"textposition\":\"auto\",\"x\":[\"Milan-Bari\",\"Milan-Naples\",\"Milan-Pescara\",\"Rome-Bari\",\"Venice-Bari\",\"Venice-Naples\"],\"xaxis\":\"x\",\"y\":[233.0,233.0,186.0,166.0,202.0,191.0],\"yaxis\":\"y\",\"type\":\"bar\"},{\"alignmentgroup\":\"True\",\"hovertemplate\":\"travel_mean=train<br>travel=%{x}<br>carbon_footprint=%{y}<extra></extra>\",\"legendgroup\":\"train\",\"marker\":{\"color\":\"rgb(29, 105, 150)\",\"pattern\":{\"shape\":\"\"}},\"name\":\"train\",\"offsetgroup\":\"train\",\"orientation\":\"v\",\"showlegend\":true,\"textposition\":\"auto\",\"x\":[\"Milan-Bari\",\"Milan-Naples\",\"Milan-Pescara\",\"Rome-Bari\",\"Venice-Bari\",\"Venice-Naples\"],\"xaxis\":\"x\",\"y\":[3.5,2.5,2.0,2.0,2.0,1.0],\"yaxis\":\"y\",\"type\":\"bar\"}],                        {\"template\":{\"data\":{\"histogram2dcontour\":[{\"type\":\"histogram2dcontour\",\"colorbar\":{\"outlinewidth\":0,\"ticks\":\"\"},\"colorscale\":[[0.0,\"#0d0887\"],[0.1111111111111111,\"#46039f\"],[0.2222222222222222,\"#7201a8\"],[0.3333333333333333,\"#9c179e\"],[0.4444444444444444,\"#bd3786\"],[0.5555555555555556,\"#d8576b\"],[0.6666666666666666,\"#ed7953\"],[0.7777777777777778,\"#fb9f3a\"],[0.8888888888888888,\"#fdca26\"],[1.0,\"#f0f921\"]]}],\"choropleth\":[{\"type\":\"choropleth\",\"colorbar\":{\"outlinewidth\":0,\"ticks\":\"\"}}],\"histogram2d\":[{\"type\":\"histogram2d\",\"colorbar\":{\"outlinewidth\":0,\"ticks\":\"\"},\"colorscale\":[[0.0,\"#0d0887\"],[0.1111111111111111,\"#46039f\"],[0.2222222222222222,\"#7201a8\"],[0.3333333333333333,\"#9c179e\"],[0.4444444444444444,\"#bd3786\"],[0.5555555555555556,\"#d8576b\"],[0.6666666666666666,\"#ed7953\"],[0.7777777777777778,\"#fb9f3a\"],[0.8888888888888888,\"#fdca26\"],[1.0,\"#f0f921\"]]}],\"heatmap\":[{\"type\":\"heatmap\",\"colorbar\":{\"outlinewidth\":0,\"ticks\":\"\"},\"colorscale\":[[0.0,\"#0d0887\"],[0.1111111111111111,\"#46039f\"],[0.2222222222222222,\"#7201a8\"],[0.3333333333333333,\"#9c179e\"],[0.4444444444444444,\"#bd3786\"],[0.5555555555555556,\"#d8576b\"],[0.6666666666666666,\"#ed7953\"],[0.7777777777777778,\"#fb9f3a\"],[0.8888888888888888,\"#fdca26\"],[1.0,\"#f0f921\"]]}],\"heatmapgl\":[{\"type\":\"heatmapgl\",\"colorbar\":{\"outlinewidth\":0,\"ticks\":\"\"},\"colorscale\":[[0.0,\"#0d0887\"],[0.1111111111111111,\"#46039f\"],[0.2222222222222222,\"#7201a8\"],[0.3333333333333333,\"#9c179e\"],[0.4444444444444444,\"#bd3786\"],[0.5555555555555556,\"#d8576b\"],[0.6666666666666666,\"#ed7953\"],[0.7777777777777778,\"#fb9f3a\"],[0.8888888888888888,\"#fdca26\"],[1.0,\"#f0f921\"]]}],\"contourcarpet\":[{\"type\":\"contourcarpet\",\"colorbar\":{\"outlinewidth\":0,\"ticks\":\"\"}}],\"contour\":[{\"type\":\"contour\",\"colorbar\":{\"outlinewidth\":0,\"ticks\":\"\"},\"colorscale\":[[0.0,\"#0d0887\"],[0.1111111111111111,\"#46039f\"],[0.2222222222222222,\"#7201a8\"],[0.3333333333333333,\"#9c179e\"],[0.4444444444444444,\"#bd3786\"],[0.5555555555555556,\"#d8576b\"],[0.6666666666666666,\"#ed7953\"],[0.7777777777777778,\"#fb9f3a\"],[0.8888888888888888,\"#fdca26\"],[1.0,\"#f0f921\"]]}],\"surface\":[{\"type\":\"surface\",\"colorbar\":{\"outlinewidth\":0,\"ticks\":\"\"},\"colorscale\":[[0.0,\"#0d0887\"],[0.1111111111111111,\"#46039f\"],[0.2222222222222222,\"#7201a8\"],[0.3333333333333333,\"#9c179e\"],[0.4444444444444444,\"#bd3786\"],[0.5555555555555556,\"#d8576b\"],[0.6666666666666666,\"#ed7953\"],[0.7777777777777778,\"#fb9f3a\"],[0.8888888888888888,\"#fdca26\"],[1.0,\"#f0f921\"]]}],\"mesh3d\":[{\"type\":\"mesh3d\",\"colorbar\":{\"outlinewidth\":0,\"ticks\":\"\"}}],\"scatter\":[{\"fillpattern\":{\"fillmode\":\"overlay\",\"size\":10,\"solidity\":0.2},\"type\":\"scatter\"}],\"parcoords\":[{\"type\":\"parcoords\",\"line\":{\"colorbar\":{\"outlinewidth\":0,\"ticks\":\"\"}}}],\"scatterpolargl\":[{\"type\":\"scatterpolargl\",\"marker\":{\"colorbar\":{\"outlinewidth\":0,\"ticks\":\"\"}}}],\"bar\":[{\"error_x\":{\"color\":\"#2a3f5f\"},\"error_y\":{\"color\":\"#2a3f5f\"},\"marker\":{\"line\":{\"color\":\"#E5ECF6\",\"width\":0.5},\"pattern\":{\"fillmode\":\"overlay\",\"size\":10,\"solidity\":0.2}},\"type\":\"bar\"}],\"scattergeo\":[{\"type\":\"scattergeo\",\"marker\":{\"colorbar\":{\"outlinewidth\":0,\"ticks\":\"\"}}}],\"scatterpolar\":[{\"type\":\"scatterpolar\",\"marker\":{\"colorbar\":{\"outlinewidth\":0,\"ticks\":\"\"}}}],\"histogram\":[{\"marker\":{\"pattern\":{\"fillmode\":\"overlay\",\"size\":10,\"solidity\":0.2}},\"type\":\"histogram\"}],\"scattergl\":[{\"type\":\"scattergl\",\"marker\":{\"colorbar\":{\"outlinewidth\":0,\"ticks\":\"\"}}}],\"scatter3d\":[{\"type\":\"scatter3d\",\"line\":{\"colorbar\":{\"outlinewidth\":0,\"ticks\":\"\"}},\"marker\":{\"colorbar\":{\"outlinewidth\":0,\"ticks\":\"\"}}}],\"scattermapbox\":[{\"type\":\"scattermapbox\",\"marker\":{\"colorbar\":{\"outlinewidth\":0,\"ticks\":\"\"}}}],\"scatterternary\":[{\"type\":\"scatterternary\",\"marker\":{\"colorbar\":{\"outlinewidth\":0,\"ticks\":\"\"}}}],\"scattercarpet\":[{\"type\":\"scattercarpet\",\"marker\":{\"colorbar\":{\"outlinewidth\":0,\"ticks\":\"\"}}}],\"carpet\":[{\"aaxis\":{\"endlinecolor\":\"#2a3f5f\",\"gridcolor\":\"white\",\"linecolor\":\"white\",\"minorgridcolor\":\"white\",\"startlinecolor\":\"#2a3f5f\"},\"baxis\":{\"endlinecolor\":\"#2a3f5f\",\"gridcolor\":\"white\",\"linecolor\":\"white\",\"minorgridcolor\":\"white\",\"startlinecolor\":\"#2a3f5f\"},\"type\":\"carpet\"}],\"table\":[{\"cells\":{\"fill\":{\"color\":\"#EBF0F8\"},\"line\":{\"color\":\"white\"}},\"header\":{\"fill\":{\"color\":\"#C8D4E3\"},\"line\":{\"color\":\"white\"}},\"type\":\"table\"}],\"barpolar\":[{\"marker\":{\"line\":{\"color\":\"#E5ECF6\",\"width\":0.5},\"pattern\":{\"fillmode\":\"overlay\",\"size\":10,\"solidity\":0.2}},\"type\":\"barpolar\"}],\"pie\":[{\"automargin\":true,\"type\":\"pie\"}]},\"layout\":{\"autotypenumbers\":\"strict\",\"colorway\":[\"#636efa\",\"#EF553B\",\"#00cc96\",\"#ab63fa\",\"#FFA15A\",\"#19d3f3\",\"#FF6692\",\"#B6E880\",\"#FF97FF\",\"#FECB52\"],\"font\":{\"color\":\"#2a3f5f\"},\"hovermode\":\"closest\",\"hoverlabel\":{\"align\":\"left\"},\"paper_bgcolor\":\"white\",\"plot_bgcolor\":\"#E5ECF6\",\"polar\":{\"bgcolor\":\"#E5ECF6\",\"angularaxis\":{\"gridcolor\":\"white\",\"linecolor\":\"white\",\"ticks\":\"\"},\"radialaxis\":{\"gridcolor\":\"white\",\"linecolor\":\"white\",\"ticks\":\"\"}},\"ternary\":{\"bgcolor\":\"#E5ECF6\",\"aaxis\":{\"gridcolor\":\"white\",\"linecolor\":\"white\",\"ticks\":\"\"},\"baxis\":{\"gridcolor\":\"white\",\"linecolor\":\"white\",\"ticks\":\"\"},\"caxis\":{\"gridcolor\":\"white\",\"linecolor\":\"white\",\"ticks\":\"\"}},\"coloraxis\":{\"colorbar\":{\"outlinewidth\":0,\"ticks\":\"\"}},\"colorscale\":{\"sequential\":[[0.0,\"#0d0887\"],[0.1111111111111111,\"#46039f\"],[0.2222222222222222,\"#7201a8\"],[0.3333333333333333,\"#9c179e\"],[0.4444444444444444,\"#bd3786\"],[0.5555555555555556,\"#d8576b\"],[0.6666666666666666,\"#ed7953\"],[0.7777777777777778,\"#fb9f3a\"],[0.8888888888888888,\"#fdca26\"],[1.0,\"#f0f921\"]],\"sequentialminus\":[[0.0,\"#0d0887\"],[0.1111111111111111,\"#46039f\"],[0.2222222222222222,\"#7201a8\"],[0.3333333333333333,\"#9c179e\"],[0.4444444444444444,\"#bd3786\"],[0.5555555555555556,\"#d8576b\"],[0.6666666666666666,\"#ed7953\"],[0.7777777777777778,\"#fb9f3a\"],[0.8888888888888888,\"#fdca26\"],[1.0,\"#f0f921\"]],\"diverging\":[[0,\"#8e0152\"],[0.1,\"#c51b7d\"],[0.2,\"#de77ae\"],[0.3,\"#f1b6da\"],[0.4,\"#fde0ef\"],[0.5,\"#f7f7f7\"],[0.6,\"#e6f5d0\"],[0.7,\"#b8e186\"],[0.8,\"#7fbc41\"],[0.9,\"#4d9221\"],[1,\"#276419\"]]},\"xaxis\":{\"gridcolor\":\"white\",\"linecolor\":\"white\",\"ticks\":\"\",\"title\":{\"standoff\":15},\"zerolinecolor\":\"white\",\"automargin\":true,\"zerolinewidth\":2},\"yaxis\":{\"gridcolor\":\"white\",\"linecolor\":\"white\",\"ticks\":\"\",\"title\":{\"standoff\":15},\"zerolinecolor\":\"white\",\"automargin\":true,\"zerolinewidth\":2},\"scene\":{\"xaxis\":{\"backgroundcolor\":\"#E5ECF6\",\"gridcolor\":\"white\",\"linecolor\":\"white\",\"showbackground\":true,\"ticks\":\"\",\"zerolinecolor\":\"white\",\"gridwidth\":2},\"yaxis\":{\"backgroundcolor\":\"#E5ECF6\",\"gridcolor\":\"white\",\"linecolor\":\"white\",\"showbackground\":true,\"ticks\":\"\",\"zerolinecolor\":\"white\",\"gridwidth\":2},\"zaxis\":{\"backgroundcolor\":\"#E5ECF6\",\"gridcolor\":\"white\",\"linecolor\":\"white\",\"showbackground\":true,\"ticks\":\"\",\"zerolinecolor\":\"white\",\"gridwidth\":2}},\"shapedefaults\":{\"line\":{\"color\":\"#2a3f5f\"}},\"annotationdefaults\":{\"arrowcolor\":\"#2a3f5f\",\"arrowhead\":0,\"arrowwidth\":1},\"geo\":{\"bgcolor\":\"white\",\"landcolor\":\"#E5ECF6\",\"subunitcolor\":\"white\",\"showland\":true,\"showlakes\":true,\"lakecolor\":\"white\"},\"title\":{\"x\":0.05},\"mapbox\":{\"style\":\"light\"}}},\"xaxis\":{\"anchor\":\"y\",\"domain\":[0.0,1.0],\"title\":{\"text\":\"Trajet\"}},\"yaxis\":{\"anchor\":\"x\",\"domain\":[0.0,1.0],\"title\":{\"text\":\"Empreinte carbone (en kg)\"}},\"legend\":{\"title\":{\"text\":\"travel_mean\"},\"tracegroupgap\":0},\"margin\":{\"t\":60},\"barmode\":\"group\",\"title\":{\"text\":\"Empreinte carbone (en kg) des diff\\u00e9rents trajets pour chaque moyen de transport\"}},                        {\"responsive\": true}                    ).then(function(){\n",
       "                            \n",
       "var gd = document.getElementById('af47ce7f-78b7-44b3-b698-6316add47f8b');\n",
       "var x = new MutationObserver(function (mutations, observer) {{\n",
       "        var display = window.getComputedStyle(gd).display;\n",
       "        if (!display || display === 'none') {{\n",
       "            console.log([gd, 'removed!']);\n",
       "            Plotly.purge(gd);\n",
       "            observer.disconnect();\n",
       "        }}\n",
       "}});\n",
       "\n",
       "// Listen for the removal of the full notebook cells\n",
       "var notebookContainer = gd.closest('#notebook-container');\n",
       "if (notebookContainer) {{\n",
       "    x.observe(notebookContainer, {childList: true});\n",
       "}}\n",
       "\n",
       "// Listen for the clearing of the current output cell\n",
       "var outputEl = gd.closest('.output');\n",
       "if (outputEl) {{\n",
       "    x.observe(outputEl, {childList: true});\n",
       "}}\n",
       "\n",
       "                        })                };                });            </script>        </div>"
      ]
     },
     "metadata": {},
     "output_type": "display_data"
    }
   ],
   "source": [
    "fig = px.bar(df.groupby(['travel', 'travel_mean'])['carbon_footprint'].max().reset_index(),\n",
    "             x='travel', y='carbon_footprint', color='travel_mean',\n",
    "             barmode='group',color_discrete_sequence=px.colors.qualitative.Prism)\n",
    "\n",
    "fig.update_layout(title_text='Empreinte carbone (en kg) des différents trajets pour chaque moyen de transport',\n",
    "                  xaxis_title='Trajet', yaxis_title='Empreinte carbone (en kg)')\n",
    "fig.show()"
   ]
  },
  {
   "cell_type": "markdown",
   "id": "b3c0f619",
   "metadata": {},
   "source": [
    "### Comparaison de la durée moyenne du trajet"
   ]
  },
  {
   "cell_type": "code",
   "execution_count": 91,
   "id": "b04b3e1c",
   "metadata": {},
   "outputs": [
    {
     "data": {
      "application/vnd.plotly.v1+json": {
       "config": {
        "plotlyServerURL": "https://plot.ly"
       },
       "data": [
        {
         "alignmentgroup": "True",
         "hovertemplate": "travel_mean=plane<br>travel=%{x}<br>travel_duration=%{y}<extra></extra>",
         "legendgroup": "plane",
         "marker": {
          "color": "rgb(95, 70, 144)",
          "pattern": {
           "shape": ""
          }
         },
         "name": "plane",
         "offsetgroup": "plane",
         "orientation": "v",
         "showlegend": true,
         "textposition": "auto",
         "type": "bar",
         "x": [
          "Milan-Bari",
          "Milan-Naples",
          "Milan-Pescara",
          "Rome-Bari",
          "Venice-Bari",
          "Venice-Naples"
         ],
         "xaxis": "x",
         "y": [
          1.6196969696969696,
          1.494871794871795,
          1.1666666666666667,
          1.0833333333333337,
          1.3333333333333333,
          1.3333333333333333
         ],
         "yaxis": "y"
        },
        {
         "alignmentgroup": "True",
         "hovertemplate": "travel_mean=train<br>travel=%{x}<br>travel_duration=%{y}<extra></extra>",
         "legendgroup": "train",
         "marker": {
          "color": "rgb(29, 105, 150)",
          "pattern": {
           "shape": ""
          }
         },
         "name": "train",
         "offsetgroup": "train",
         "orientation": "v",
         "showlegend": true,
         "textposition": "auto",
         "type": "bar",
         "x": [
          "Milan-Bari",
          "Milan-Naples",
          "Milan-Pescara",
          "Rome-Bari",
          "Venice-Bari",
          "Venice-Naples"
         ],
         "xaxis": "x",
         "y": [
          7.283712121212121,
          4.815305667112896,
          4.63858024691358,
          4.105555555555556,
          7.566666666666666,
          5.354202898550724
         ],
         "yaxis": "y"
        }
       ],
       "layout": {
        "barmode": "group",
        "legend": {
         "title": {
          "text": "travel_mean"
         },
         "tracegroupgap": 0
        },
        "margin": {
         "t": 60
        },
        "template": {
         "data": {
          "bar": [
           {
            "error_x": {
             "color": "#2a3f5f"
            },
            "error_y": {
             "color": "#2a3f5f"
            },
            "marker": {
             "line": {
              "color": "#E5ECF6",
              "width": 0.5
             },
             "pattern": {
              "fillmode": "overlay",
              "size": 10,
              "solidity": 0.2
             }
            },
            "type": "bar"
           }
          ],
          "barpolar": [
           {
            "marker": {
             "line": {
              "color": "#E5ECF6",
              "width": 0.5
             },
             "pattern": {
              "fillmode": "overlay",
              "size": 10,
              "solidity": 0.2
             }
            },
            "type": "barpolar"
           }
          ],
          "carpet": [
           {
            "aaxis": {
             "endlinecolor": "#2a3f5f",
             "gridcolor": "white",
             "linecolor": "white",
             "minorgridcolor": "white",
             "startlinecolor": "#2a3f5f"
            },
            "baxis": {
             "endlinecolor": "#2a3f5f",
             "gridcolor": "white",
             "linecolor": "white",
             "minorgridcolor": "white",
             "startlinecolor": "#2a3f5f"
            },
            "type": "carpet"
           }
          ],
          "choropleth": [
           {
            "colorbar": {
             "outlinewidth": 0,
             "ticks": ""
            },
            "type": "choropleth"
           }
          ],
          "contour": [
           {
            "colorbar": {
             "outlinewidth": 0,
             "ticks": ""
            },
            "colorscale": [
             [
              0,
              "#0d0887"
             ],
             [
              0.1111111111111111,
              "#46039f"
             ],
             [
              0.2222222222222222,
              "#7201a8"
             ],
             [
              0.3333333333333333,
              "#9c179e"
             ],
             [
              0.4444444444444444,
              "#bd3786"
             ],
             [
              0.5555555555555556,
              "#d8576b"
             ],
             [
              0.6666666666666666,
              "#ed7953"
             ],
             [
              0.7777777777777778,
              "#fb9f3a"
             ],
             [
              0.8888888888888888,
              "#fdca26"
             ],
             [
              1,
              "#f0f921"
             ]
            ],
            "type": "contour"
           }
          ],
          "contourcarpet": [
           {
            "colorbar": {
             "outlinewidth": 0,
             "ticks": ""
            },
            "type": "contourcarpet"
           }
          ],
          "heatmap": [
           {
            "colorbar": {
             "outlinewidth": 0,
             "ticks": ""
            },
            "colorscale": [
             [
              0,
              "#0d0887"
             ],
             [
              0.1111111111111111,
              "#46039f"
             ],
             [
              0.2222222222222222,
              "#7201a8"
             ],
             [
              0.3333333333333333,
              "#9c179e"
             ],
             [
              0.4444444444444444,
              "#bd3786"
             ],
             [
              0.5555555555555556,
              "#d8576b"
             ],
             [
              0.6666666666666666,
              "#ed7953"
             ],
             [
              0.7777777777777778,
              "#fb9f3a"
             ],
             [
              0.8888888888888888,
              "#fdca26"
             ],
             [
              1,
              "#f0f921"
             ]
            ],
            "type": "heatmap"
           }
          ],
          "heatmapgl": [
           {
            "colorbar": {
             "outlinewidth": 0,
             "ticks": ""
            },
            "colorscale": [
             [
              0,
              "#0d0887"
             ],
             [
              0.1111111111111111,
              "#46039f"
             ],
             [
              0.2222222222222222,
              "#7201a8"
             ],
             [
              0.3333333333333333,
              "#9c179e"
             ],
             [
              0.4444444444444444,
              "#bd3786"
             ],
             [
              0.5555555555555556,
              "#d8576b"
             ],
             [
              0.6666666666666666,
              "#ed7953"
             ],
             [
              0.7777777777777778,
              "#fb9f3a"
             ],
             [
              0.8888888888888888,
              "#fdca26"
             ],
             [
              1,
              "#f0f921"
             ]
            ],
            "type": "heatmapgl"
           }
          ],
          "histogram": [
           {
            "marker": {
             "pattern": {
              "fillmode": "overlay",
              "size": 10,
              "solidity": 0.2
             }
            },
            "type": "histogram"
           }
          ],
          "histogram2d": [
           {
            "colorbar": {
             "outlinewidth": 0,
             "ticks": ""
            },
            "colorscale": [
             [
              0,
              "#0d0887"
             ],
             [
              0.1111111111111111,
              "#46039f"
             ],
             [
              0.2222222222222222,
              "#7201a8"
             ],
             [
              0.3333333333333333,
              "#9c179e"
             ],
             [
              0.4444444444444444,
              "#bd3786"
             ],
             [
              0.5555555555555556,
              "#d8576b"
             ],
             [
              0.6666666666666666,
              "#ed7953"
             ],
             [
              0.7777777777777778,
              "#fb9f3a"
             ],
             [
              0.8888888888888888,
              "#fdca26"
             ],
             [
              1,
              "#f0f921"
             ]
            ],
            "type": "histogram2d"
           }
          ],
          "histogram2dcontour": [
           {
            "colorbar": {
             "outlinewidth": 0,
             "ticks": ""
            },
            "colorscale": [
             [
              0,
              "#0d0887"
             ],
             [
              0.1111111111111111,
              "#46039f"
             ],
             [
              0.2222222222222222,
              "#7201a8"
             ],
             [
              0.3333333333333333,
              "#9c179e"
             ],
             [
              0.4444444444444444,
              "#bd3786"
             ],
             [
              0.5555555555555556,
              "#d8576b"
             ],
             [
              0.6666666666666666,
              "#ed7953"
             ],
             [
              0.7777777777777778,
              "#fb9f3a"
             ],
             [
              0.8888888888888888,
              "#fdca26"
             ],
             [
              1,
              "#f0f921"
             ]
            ],
            "type": "histogram2dcontour"
           }
          ],
          "mesh3d": [
           {
            "colorbar": {
             "outlinewidth": 0,
             "ticks": ""
            },
            "type": "mesh3d"
           }
          ],
          "parcoords": [
           {
            "line": {
             "colorbar": {
              "outlinewidth": 0,
              "ticks": ""
             }
            },
            "type": "parcoords"
           }
          ],
          "pie": [
           {
            "automargin": true,
            "type": "pie"
           }
          ],
          "scatter": [
           {
            "fillpattern": {
             "fillmode": "overlay",
             "size": 10,
             "solidity": 0.2
            },
            "type": "scatter"
           }
          ],
          "scatter3d": [
           {
            "line": {
             "colorbar": {
              "outlinewidth": 0,
              "ticks": ""
             }
            },
            "marker": {
             "colorbar": {
              "outlinewidth": 0,
              "ticks": ""
             }
            },
            "type": "scatter3d"
           }
          ],
          "scattercarpet": [
           {
            "marker": {
             "colorbar": {
              "outlinewidth": 0,
              "ticks": ""
             }
            },
            "type": "scattercarpet"
           }
          ],
          "scattergeo": [
           {
            "marker": {
             "colorbar": {
              "outlinewidth": 0,
              "ticks": ""
             }
            },
            "type": "scattergeo"
           }
          ],
          "scattergl": [
           {
            "marker": {
             "colorbar": {
              "outlinewidth": 0,
              "ticks": ""
             }
            },
            "type": "scattergl"
           }
          ],
          "scattermapbox": [
           {
            "marker": {
             "colorbar": {
              "outlinewidth": 0,
              "ticks": ""
             }
            },
            "type": "scattermapbox"
           }
          ],
          "scatterpolar": [
           {
            "marker": {
             "colorbar": {
              "outlinewidth": 0,
              "ticks": ""
             }
            },
            "type": "scatterpolar"
           }
          ],
          "scatterpolargl": [
           {
            "marker": {
             "colorbar": {
              "outlinewidth": 0,
              "ticks": ""
             }
            },
            "type": "scatterpolargl"
           }
          ],
          "scatterternary": [
           {
            "marker": {
             "colorbar": {
              "outlinewidth": 0,
              "ticks": ""
             }
            },
            "type": "scatterternary"
           }
          ],
          "surface": [
           {
            "colorbar": {
             "outlinewidth": 0,
             "ticks": ""
            },
            "colorscale": [
             [
              0,
              "#0d0887"
             ],
             [
              0.1111111111111111,
              "#46039f"
             ],
             [
              0.2222222222222222,
              "#7201a8"
             ],
             [
              0.3333333333333333,
              "#9c179e"
             ],
             [
              0.4444444444444444,
              "#bd3786"
             ],
             [
              0.5555555555555556,
              "#d8576b"
             ],
             [
              0.6666666666666666,
              "#ed7953"
             ],
             [
              0.7777777777777778,
              "#fb9f3a"
             ],
             [
              0.8888888888888888,
              "#fdca26"
             ],
             [
              1,
              "#f0f921"
             ]
            ],
            "type": "surface"
           }
          ],
          "table": [
           {
            "cells": {
             "fill": {
              "color": "#EBF0F8"
             },
             "line": {
              "color": "white"
             }
            },
            "header": {
             "fill": {
              "color": "#C8D4E3"
             },
             "line": {
              "color": "white"
             }
            },
            "type": "table"
           }
          ]
         },
         "layout": {
          "annotationdefaults": {
           "arrowcolor": "#2a3f5f",
           "arrowhead": 0,
           "arrowwidth": 1
          },
          "autotypenumbers": "strict",
          "coloraxis": {
           "colorbar": {
            "outlinewidth": 0,
            "ticks": ""
           }
          },
          "colorscale": {
           "diverging": [
            [
             0,
             "#8e0152"
            ],
            [
             0.1,
             "#c51b7d"
            ],
            [
             0.2,
             "#de77ae"
            ],
            [
             0.3,
             "#f1b6da"
            ],
            [
             0.4,
             "#fde0ef"
            ],
            [
             0.5,
             "#f7f7f7"
            ],
            [
             0.6,
             "#e6f5d0"
            ],
            [
             0.7,
             "#b8e186"
            ],
            [
             0.8,
             "#7fbc41"
            ],
            [
             0.9,
             "#4d9221"
            ],
            [
             1,
             "#276419"
            ]
           ],
           "sequential": [
            [
             0,
             "#0d0887"
            ],
            [
             0.1111111111111111,
             "#46039f"
            ],
            [
             0.2222222222222222,
             "#7201a8"
            ],
            [
             0.3333333333333333,
             "#9c179e"
            ],
            [
             0.4444444444444444,
             "#bd3786"
            ],
            [
             0.5555555555555556,
             "#d8576b"
            ],
            [
             0.6666666666666666,
             "#ed7953"
            ],
            [
             0.7777777777777778,
             "#fb9f3a"
            ],
            [
             0.8888888888888888,
             "#fdca26"
            ],
            [
             1,
             "#f0f921"
            ]
           ],
           "sequentialminus": [
            [
             0,
             "#0d0887"
            ],
            [
             0.1111111111111111,
             "#46039f"
            ],
            [
             0.2222222222222222,
             "#7201a8"
            ],
            [
             0.3333333333333333,
             "#9c179e"
            ],
            [
             0.4444444444444444,
             "#bd3786"
            ],
            [
             0.5555555555555556,
             "#d8576b"
            ],
            [
             0.6666666666666666,
             "#ed7953"
            ],
            [
             0.7777777777777778,
             "#fb9f3a"
            ],
            [
             0.8888888888888888,
             "#fdca26"
            ],
            [
             1,
             "#f0f921"
            ]
           ]
          },
          "colorway": [
           "#636efa",
           "#EF553B",
           "#00cc96",
           "#ab63fa",
           "#FFA15A",
           "#19d3f3",
           "#FF6692",
           "#B6E880",
           "#FF97FF",
           "#FECB52"
          ],
          "font": {
           "color": "#2a3f5f"
          },
          "geo": {
           "bgcolor": "white",
           "lakecolor": "white",
           "landcolor": "#E5ECF6",
           "showlakes": true,
           "showland": true,
           "subunitcolor": "white"
          },
          "hoverlabel": {
           "align": "left"
          },
          "hovermode": "closest",
          "mapbox": {
           "style": "light"
          },
          "paper_bgcolor": "white",
          "plot_bgcolor": "#E5ECF6",
          "polar": {
           "angularaxis": {
            "gridcolor": "white",
            "linecolor": "white",
            "ticks": ""
           },
           "bgcolor": "#E5ECF6",
           "radialaxis": {
            "gridcolor": "white",
            "linecolor": "white",
            "ticks": ""
           }
          },
          "scene": {
           "xaxis": {
            "backgroundcolor": "#E5ECF6",
            "gridcolor": "white",
            "gridwidth": 2,
            "linecolor": "white",
            "showbackground": true,
            "ticks": "",
            "zerolinecolor": "white"
           },
           "yaxis": {
            "backgroundcolor": "#E5ECF6",
            "gridcolor": "white",
            "gridwidth": 2,
            "linecolor": "white",
            "showbackground": true,
            "ticks": "",
            "zerolinecolor": "white"
           },
           "zaxis": {
            "backgroundcolor": "#E5ECF6",
            "gridcolor": "white",
            "gridwidth": 2,
            "linecolor": "white",
            "showbackground": true,
            "ticks": "",
            "zerolinecolor": "white"
           }
          },
          "shapedefaults": {
           "line": {
            "color": "#2a3f5f"
           }
          },
          "ternary": {
           "aaxis": {
            "gridcolor": "white",
            "linecolor": "white",
            "ticks": ""
           },
           "baxis": {
            "gridcolor": "white",
            "linecolor": "white",
            "ticks": ""
           },
           "bgcolor": "#E5ECF6",
           "caxis": {
            "gridcolor": "white",
            "linecolor": "white",
            "ticks": ""
           }
          },
          "title": {
           "x": 0.05
          },
          "xaxis": {
           "automargin": true,
           "gridcolor": "white",
           "linecolor": "white",
           "ticks": "",
           "title": {
            "standoff": 15
           },
           "zerolinecolor": "white",
           "zerolinewidth": 2
          },
          "yaxis": {
           "automargin": true,
           "gridcolor": "white",
           "linecolor": "white",
           "ticks": "",
           "title": {
            "standoff": 15
           },
           "zerolinecolor": "white",
           "zerolinewidth": 2
          }
         }
        },
        "title": {
         "text": "Durée moyenne (en heures) des différents trajets pour chaque moyen de transport"
        },
        "xaxis": {
         "anchor": "y",
         "domain": [
          0,
          1
         ],
         "title": {
          "text": "Trajet"
         }
        },
        "yaxis": {
         "anchor": "x",
         "domain": [
          0,
          1
         ],
         "title": {
          "text": "Durée moyenne (en heures)"
         }
        }
       }
      },
      "text/html": [
       "<div>                            <div id=\"f1116d2b-a1df-47fa-adc4-462e053b1033\" class=\"plotly-graph-div\" style=\"height:525px; width:100%;\"></div>            <script type=\"text/javascript\">                require([\"plotly\"], function(Plotly) {                    window.PLOTLYENV=window.PLOTLYENV || {};                                    if (document.getElementById(\"f1116d2b-a1df-47fa-adc4-462e053b1033\")) {                    Plotly.newPlot(                        \"f1116d2b-a1df-47fa-adc4-462e053b1033\",                        [{\"alignmentgroup\":\"True\",\"hovertemplate\":\"travel_mean=plane<br>travel=%{x}<br>travel_duration=%{y}<extra></extra>\",\"legendgroup\":\"plane\",\"marker\":{\"color\":\"rgb(95, 70, 144)\",\"pattern\":{\"shape\":\"\"}},\"name\":\"plane\",\"offsetgroup\":\"plane\",\"orientation\":\"v\",\"showlegend\":true,\"textposition\":\"auto\",\"x\":[\"Milan-Bari\",\"Milan-Naples\",\"Milan-Pescara\",\"Rome-Bari\",\"Venice-Bari\",\"Venice-Naples\"],\"xaxis\":\"x\",\"y\":[1.6196969696969696,1.494871794871795,1.1666666666666667,1.0833333333333337,1.3333333333333333,1.3333333333333333],\"yaxis\":\"y\",\"type\":\"bar\"},{\"alignmentgroup\":\"True\",\"hovertemplate\":\"travel_mean=train<br>travel=%{x}<br>travel_duration=%{y}<extra></extra>\",\"legendgroup\":\"train\",\"marker\":{\"color\":\"rgb(29, 105, 150)\",\"pattern\":{\"shape\":\"\"}},\"name\":\"train\",\"offsetgroup\":\"train\",\"orientation\":\"v\",\"showlegend\":true,\"textposition\":\"auto\",\"x\":[\"Milan-Bari\",\"Milan-Naples\",\"Milan-Pescara\",\"Rome-Bari\",\"Venice-Bari\",\"Venice-Naples\"],\"xaxis\":\"x\",\"y\":[7.283712121212121,4.815305667112896,4.63858024691358,4.105555555555556,7.566666666666666,5.354202898550724],\"yaxis\":\"y\",\"type\":\"bar\"}],                        {\"template\":{\"data\":{\"histogram2dcontour\":[{\"type\":\"histogram2dcontour\",\"colorbar\":{\"outlinewidth\":0,\"ticks\":\"\"},\"colorscale\":[[0.0,\"#0d0887\"],[0.1111111111111111,\"#46039f\"],[0.2222222222222222,\"#7201a8\"],[0.3333333333333333,\"#9c179e\"],[0.4444444444444444,\"#bd3786\"],[0.5555555555555556,\"#d8576b\"],[0.6666666666666666,\"#ed7953\"],[0.7777777777777778,\"#fb9f3a\"],[0.8888888888888888,\"#fdca26\"],[1.0,\"#f0f921\"]]}],\"choropleth\":[{\"type\":\"choropleth\",\"colorbar\":{\"outlinewidth\":0,\"ticks\":\"\"}}],\"histogram2d\":[{\"type\":\"histogram2d\",\"colorbar\":{\"outlinewidth\":0,\"ticks\":\"\"},\"colorscale\":[[0.0,\"#0d0887\"],[0.1111111111111111,\"#46039f\"],[0.2222222222222222,\"#7201a8\"],[0.3333333333333333,\"#9c179e\"],[0.4444444444444444,\"#bd3786\"],[0.5555555555555556,\"#d8576b\"],[0.6666666666666666,\"#ed7953\"],[0.7777777777777778,\"#fb9f3a\"],[0.8888888888888888,\"#fdca26\"],[1.0,\"#f0f921\"]]}],\"heatmap\":[{\"type\":\"heatmap\",\"colorbar\":{\"outlinewidth\":0,\"ticks\":\"\"},\"colorscale\":[[0.0,\"#0d0887\"],[0.1111111111111111,\"#46039f\"],[0.2222222222222222,\"#7201a8\"],[0.3333333333333333,\"#9c179e\"],[0.4444444444444444,\"#bd3786\"],[0.5555555555555556,\"#d8576b\"],[0.6666666666666666,\"#ed7953\"],[0.7777777777777778,\"#fb9f3a\"],[0.8888888888888888,\"#fdca26\"],[1.0,\"#f0f921\"]]}],\"heatmapgl\":[{\"type\":\"heatmapgl\",\"colorbar\":{\"outlinewidth\":0,\"ticks\":\"\"},\"colorscale\":[[0.0,\"#0d0887\"],[0.1111111111111111,\"#46039f\"],[0.2222222222222222,\"#7201a8\"],[0.3333333333333333,\"#9c179e\"],[0.4444444444444444,\"#bd3786\"],[0.5555555555555556,\"#d8576b\"],[0.6666666666666666,\"#ed7953\"],[0.7777777777777778,\"#fb9f3a\"],[0.8888888888888888,\"#fdca26\"],[1.0,\"#f0f921\"]]}],\"contourcarpet\":[{\"type\":\"contourcarpet\",\"colorbar\":{\"outlinewidth\":0,\"ticks\":\"\"}}],\"contour\":[{\"type\":\"contour\",\"colorbar\":{\"outlinewidth\":0,\"ticks\":\"\"},\"colorscale\":[[0.0,\"#0d0887\"],[0.1111111111111111,\"#46039f\"],[0.2222222222222222,\"#7201a8\"],[0.3333333333333333,\"#9c179e\"],[0.4444444444444444,\"#bd3786\"],[0.5555555555555556,\"#d8576b\"],[0.6666666666666666,\"#ed7953\"],[0.7777777777777778,\"#fb9f3a\"],[0.8888888888888888,\"#fdca26\"],[1.0,\"#f0f921\"]]}],\"surface\":[{\"type\":\"surface\",\"colorbar\":{\"outlinewidth\":0,\"ticks\":\"\"},\"colorscale\":[[0.0,\"#0d0887\"],[0.1111111111111111,\"#46039f\"],[0.2222222222222222,\"#7201a8\"],[0.3333333333333333,\"#9c179e\"],[0.4444444444444444,\"#bd3786\"],[0.5555555555555556,\"#d8576b\"],[0.6666666666666666,\"#ed7953\"],[0.7777777777777778,\"#fb9f3a\"],[0.8888888888888888,\"#fdca26\"],[1.0,\"#f0f921\"]]}],\"mesh3d\":[{\"type\":\"mesh3d\",\"colorbar\":{\"outlinewidth\":0,\"ticks\":\"\"}}],\"scatter\":[{\"fillpattern\":{\"fillmode\":\"overlay\",\"size\":10,\"solidity\":0.2},\"type\":\"scatter\"}],\"parcoords\":[{\"type\":\"parcoords\",\"line\":{\"colorbar\":{\"outlinewidth\":0,\"ticks\":\"\"}}}],\"scatterpolargl\":[{\"type\":\"scatterpolargl\",\"marker\":{\"colorbar\":{\"outlinewidth\":0,\"ticks\":\"\"}}}],\"bar\":[{\"error_x\":{\"color\":\"#2a3f5f\"},\"error_y\":{\"color\":\"#2a3f5f\"},\"marker\":{\"line\":{\"color\":\"#E5ECF6\",\"width\":0.5},\"pattern\":{\"fillmode\":\"overlay\",\"size\":10,\"solidity\":0.2}},\"type\":\"bar\"}],\"scattergeo\":[{\"type\":\"scattergeo\",\"marker\":{\"colorbar\":{\"outlinewidth\":0,\"ticks\":\"\"}}}],\"scatterpolar\":[{\"type\":\"scatterpolar\",\"marker\":{\"colorbar\":{\"outlinewidth\":0,\"ticks\":\"\"}}}],\"histogram\":[{\"marker\":{\"pattern\":{\"fillmode\":\"overlay\",\"size\":10,\"solidity\":0.2}},\"type\":\"histogram\"}],\"scattergl\":[{\"type\":\"scattergl\",\"marker\":{\"colorbar\":{\"outlinewidth\":0,\"ticks\":\"\"}}}],\"scatter3d\":[{\"type\":\"scatter3d\",\"line\":{\"colorbar\":{\"outlinewidth\":0,\"ticks\":\"\"}},\"marker\":{\"colorbar\":{\"outlinewidth\":0,\"ticks\":\"\"}}}],\"scattermapbox\":[{\"type\":\"scattermapbox\",\"marker\":{\"colorbar\":{\"outlinewidth\":0,\"ticks\":\"\"}}}],\"scatterternary\":[{\"type\":\"scatterternary\",\"marker\":{\"colorbar\":{\"outlinewidth\":0,\"ticks\":\"\"}}}],\"scattercarpet\":[{\"type\":\"scattercarpet\",\"marker\":{\"colorbar\":{\"outlinewidth\":0,\"ticks\":\"\"}}}],\"carpet\":[{\"aaxis\":{\"endlinecolor\":\"#2a3f5f\",\"gridcolor\":\"white\",\"linecolor\":\"white\",\"minorgridcolor\":\"white\",\"startlinecolor\":\"#2a3f5f\"},\"baxis\":{\"endlinecolor\":\"#2a3f5f\",\"gridcolor\":\"white\",\"linecolor\":\"white\",\"minorgridcolor\":\"white\",\"startlinecolor\":\"#2a3f5f\"},\"type\":\"carpet\"}],\"table\":[{\"cells\":{\"fill\":{\"color\":\"#EBF0F8\"},\"line\":{\"color\":\"white\"}},\"header\":{\"fill\":{\"color\":\"#C8D4E3\"},\"line\":{\"color\":\"white\"}},\"type\":\"table\"}],\"barpolar\":[{\"marker\":{\"line\":{\"color\":\"#E5ECF6\",\"width\":0.5},\"pattern\":{\"fillmode\":\"overlay\",\"size\":10,\"solidity\":0.2}},\"type\":\"barpolar\"}],\"pie\":[{\"automargin\":true,\"type\":\"pie\"}]},\"layout\":{\"autotypenumbers\":\"strict\",\"colorway\":[\"#636efa\",\"#EF553B\",\"#00cc96\",\"#ab63fa\",\"#FFA15A\",\"#19d3f3\",\"#FF6692\",\"#B6E880\",\"#FF97FF\",\"#FECB52\"],\"font\":{\"color\":\"#2a3f5f\"},\"hovermode\":\"closest\",\"hoverlabel\":{\"align\":\"left\"},\"paper_bgcolor\":\"white\",\"plot_bgcolor\":\"#E5ECF6\",\"polar\":{\"bgcolor\":\"#E5ECF6\",\"angularaxis\":{\"gridcolor\":\"white\",\"linecolor\":\"white\",\"ticks\":\"\"},\"radialaxis\":{\"gridcolor\":\"white\",\"linecolor\":\"white\",\"ticks\":\"\"}},\"ternary\":{\"bgcolor\":\"#E5ECF6\",\"aaxis\":{\"gridcolor\":\"white\",\"linecolor\":\"white\",\"ticks\":\"\"},\"baxis\":{\"gridcolor\":\"white\",\"linecolor\":\"white\",\"ticks\":\"\"},\"caxis\":{\"gridcolor\":\"white\",\"linecolor\":\"white\",\"ticks\":\"\"}},\"coloraxis\":{\"colorbar\":{\"outlinewidth\":0,\"ticks\":\"\"}},\"colorscale\":{\"sequential\":[[0.0,\"#0d0887\"],[0.1111111111111111,\"#46039f\"],[0.2222222222222222,\"#7201a8\"],[0.3333333333333333,\"#9c179e\"],[0.4444444444444444,\"#bd3786\"],[0.5555555555555556,\"#d8576b\"],[0.6666666666666666,\"#ed7953\"],[0.7777777777777778,\"#fb9f3a\"],[0.8888888888888888,\"#fdca26\"],[1.0,\"#f0f921\"]],\"sequentialminus\":[[0.0,\"#0d0887\"],[0.1111111111111111,\"#46039f\"],[0.2222222222222222,\"#7201a8\"],[0.3333333333333333,\"#9c179e\"],[0.4444444444444444,\"#bd3786\"],[0.5555555555555556,\"#d8576b\"],[0.6666666666666666,\"#ed7953\"],[0.7777777777777778,\"#fb9f3a\"],[0.8888888888888888,\"#fdca26\"],[1.0,\"#f0f921\"]],\"diverging\":[[0,\"#8e0152\"],[0.1,\"#c51b7d\"],[0.2,\"#de77ae\"],[0.3,\"#f1b6da\"],[0.4,\"#fde0ef\"],[0.5,\"#f7f7f7\"],[0.6,\"#e6f5d0\"],[0.7,\"#b8e186\"],[0.8,\"#7fbc41\"],[0.9,\"#4d9221\"],[1,\"#276419\"]]},\"xaxis\":{\"gridcolor\":\"white\",\"linecolor\":\"white\",\"ticks\":\"\",\"title\":{\"standoff\":15},\"zerolinecolor\":\"white\",\"automargin\":true,\"zerolinewidth\":2},\"yaxis\":{\"gridcolor\":\"white\",\"linecolor\":\"white\",\"ticks\":\"\",\"title\":{\"standoff\":15},\"zerolinecolor\":\"white\",\"automargin\":true,\"zerolinewidth\":2},\"scene\":{\"xaxis\":{\"backgroundcolor\":\"#E5ECF6\",\"gridcolor\":\"white\",\"linecolor\":\"white\",\"showbackground\":true,\"ticks\":\"\",\"zerolinecolor\":\"white\",\"gridwidth\":2},\"yaxis\":{\"backgroundcolor\":\"#E5ECF6\",\"gridcolor\":\"white\",\"linecolor\":\"white\",\"showbackground\":true,\"ticks\":\"\",\"zerolinecolor\":\"white\",\"gridwidth\":2},\"zaxis\":{\"backgroundcolor\":\"#E5ECF6\",\"gridcolor\":\"white\",\"linecolor\":\"white\",\"showbackground\":true,\"ticks\":\"\",\"zerolinecolor\":\"white\",\"gridwidth\":2}},\"shapedefaults\":{\"line\":{\"color\":\"#2a3f5f\"}},\"annotationdefaults\":{\"arrowcolor\":\"#2a3f5f\",\"arrowhead\":0,\"arrowwidth\":1},\"geo\":{\"bgcolor\":\"white\",\"landcolor\":\"#E5ECF6\",\"subunitcolor\":\"white\",\"showland\":true,\"showlakes\":true,\"lakecolor\":\"white\"},\"title\":{\"x\":0.05},\"mapbox\":{\"style\":\"light\"}}},\"xaxis\":{\"anchor\":\"y\",\"domain\":[0.0,1.0],\"title\":{\"text\":\"Trajet\"}},\"yaxis\":{\"anchor\":\"x\",\"domain\":[0.0,1.0],\"title\":{\"text\":\"Dur\\u00e9e moyenne (en heures)\"}},\"legend\":{\"title\":{\"text\":\"travel_mean\"},\"tracegroupgap\":0},\"margin\":{\"t\":60},\"barmode\":\"group\",\"title\":{\"text\":\"Dur\\u00e9e moyenne (en heures) des diff\\u00e9rents trajets pour chaque moyen de transport\"}},                        {\"responsive\": true}                    ).then(function(){\n",
       "                            \n",
       "var gd = document.getElementById('f1116d2b-a1df-47fa-adc4-462e053b1033');\n",
       "var x = new MutationObserver(function (mutations, observer) {{\n",
       "        var display = window.getComputedStyle(gd).display;\n",
       "        if (!display || display === 'none') {{\n",
       "            console.log([gd, 'removed!']);\n",
       "            Plotly.purge(gd);\n",
       "            observer.disconnect();\n",
       "        }}\n",
       "}});\n",
       "\n",
       "// Listen for the removal of the full notebook cells\n",
       "var notebookContainer = gd.closest('#notebook-container');\n",
       "if (notebookContainer) {{\n",
       "    x.observe(notebookContainer, {childList: true});\n",
       "}}\n",
       "\n",
       "// Listen for the clearing of the current output cell\n",
       "var outputEl = gd.closest('.output');\n",
       "if (outputEl) {{\n",
       "    x.observe(outputEl, {childList: true});\n",
       "}}\n",
       "\n",
       "                        })                };                });            </script>        </div>"
      ]
     },
     "metadata": {},
     "output_type": "display_data"
    }
   ],
   "source": [
    "fig = px.bar(df.groupby(['travel', 'travel_mean'])['travel_duration'].mean().reset_index(),\n",
    "             x='travel', y='travel_duration', color='travel_mean',\n",
    "             barmode='group',color_discrete_sequence=px.colors.qualitative.Prism)\n",
    "\n",
    "fig.update_layout(title_text='Durée moyenne (en heures) des différents trajets pour chaque moyen de transport',\n",
    "                  xaxis_title='Trajet', yaxis_title='Durée moyenne (en heures)')\n",
    "\n",
    "fig.show()"
   ]
  }
 ],
 "metadata": {
  "kernelspec": {
   "display_name": "Python 3 (ipykernel)",
   "language": "python",
   "name": "python3"
  },
  "language_info": {
   "codemirror_mode": {
    "name": "ipython",
    "version": 3
   },
   "file_extension": ".py",
   "mimetype": "text/x-python",
   "name": "python",
   "nbconvert_exporter": "python",
   "pygments_lexer": "ipython3",
   "version": "3.9.7"
  }
 },
 "nbformat": 4,
 "nbformat_minor": 5
}
